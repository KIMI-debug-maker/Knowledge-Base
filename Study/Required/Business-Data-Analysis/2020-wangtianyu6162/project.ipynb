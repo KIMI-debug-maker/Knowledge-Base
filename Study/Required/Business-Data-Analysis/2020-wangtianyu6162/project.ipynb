{
 "cells": [
  {
   "cell_type": "code",
   "execution_count": 1,
   "metadata": {},
   "outputs": [
    {
     "name": "stdout",
     "output_type": "stream",
     "text": [
      "(62988, 63)\n",
      "<bound method DataFrame.info of        MEMBER_NO   FFP_DATE FIRST_FLIGHT_DATE GENDER  FFP_TIER  WORK_CITY  \\\n",
      "0      ‘00000001 2000-03-31        2001-01-13      男         4        NaN   \n",
      "1      ‘00000002 2000-03-31        2001-02-21      男         4  HONG KONG   \n",
      "2      ‘00000003 2000-04-07        2000-04-07      女         4        HKG   \n",
      "3      ‘00000004 2000-08-10        2000-10-17      男         4         广州   \n",
      "4      ‘00000005 2002-02-07        2002-09-11      男         4        NaN   \n",
      "...          ...        ...               ...    ...       ...        ...   \n",
      "62983  ‘00062984 2002-10-19        2002-10-19      男         5         大连   \n",
      "62984  ‘00062985 2002-10-29        2004-02-16      男         4       乌鲁木齐   \n",
      "62985  ‘00062986 2002-10-17        2002-10-17      女         6       乌鲁木齐   \n",
      "62986  ‘00062987 2002-11-01        2002-11-18      男         4         深圳   \n",
      "62987  ‘00062988 2002-12-10        2003-04-02      男         4       乌鲁木齐   \n",
      "\n",
      "      WORK_PROVINCE WORK_COUNTRY   age  LOAD_TIME  ...  ADD_POINTS_SUM  \\\n",
      "0               NaN          NaN  40.0 2008-04-01  ...               0   \n",
      "1               NaN           HK  52.0 2008-04-01  ...               0   \n",
      "2               HKG           CH  52.0 2008-04-01  ...           77500   \n",
      "3                广东           CN  45.0 2008-04-01  ...            2734   \n",
      "4               NaN          NaN  57.0 2008-04-01  ...               0   \n",
      "...             ...          ...   ...        ...  ...             ...   \n",
      "62983            辽宁           CN  42.0 2008-04-01  ...            2379   \n",
      "62984            新疆           CN  34.0 2008-04-01  ...            2464   \n",
      "62985            新疆           CN  54.0 2008-04-01  ...             911   \n",
      "62986            广西           CN  41.0 2008-04-01  ...            3131   \n",
      "62987            新疆           CN  55.0 2008-04-01  ...               0   \n",
      "\n",
      "       Eli_Add_Point_Sum  L1Y_ELi_Add_Points  Points_Sum  L1Y_Points_Sum  \\\n",
      "0                      0                   0        7035            7035   \n",
      "1                      0                   0       16210            6717   \n",
      "2                  77500               63000       85008           63651   \n",
      "3                   2734                2578       10826            4566   \n",
      "4                      0                   0        2329             264   \n",
      "...                  ...                 ...         ...             ...   \n",
      "62983               3916                3916       38725           23396   \n",
      "62984               2464                2464       16324           11986   \n",
      "62985                911                 911       19140           13267   \n",
      "62986               3131                 502        9907            2469   \n",
      "62987                  0                   0       18216           10365   \n",
      "\n",
      "       Ration_L1Y_Flight_Count  Ration_P1Y_Flight_Count  Ration_P1Y_BPS  \\\n",
      "0                     1.000000                 0.000000        0.000000   \n",
      "1                     0.458333                 0.541667        0.585590   \n",
      "2                     0.333333                 0.666667        0.913171   \n",
      "3                     0.333333                 0.666667        0.754232   \n",
      "4                     0.333333                 0.666667        0.886266   \n",
      "...                        ...                      ...             ...   \n",
      "62983                 0.650000                 0.350000        0.440362   \n",
      "62984                 0.615385                 0.384615        0.312964   \n",
      "62985                 0.636364                 0.363636        0.322161   \n",
      "62986                 0.333333                 0.666667        0.709606   \n",
      "62987                 0.642857                 0.357143        0.430971   \n",
      "\n",
      "       Ration_L1Y_BPS  Point_Chg_NotFlight  \n",
      "0            0.999858                    0  \n",
      "1            0.414348                    0  \n",
      "2            0.086696                    5  \n",
      "3            0.245644                   13  \n",
      "4            0.113305                    0  \n",
      "...               ...                  ...  \n",
      "62983        0.559609                    4  \n",
      "62984        0.686963                    3  \n",
      "62985        0.677784                    3  \n",
      "62986        0.290246                   21  \n",
      "62987        0.568974                    0  \n",
      "\n",
      "[62988 rows x 63 columns]>\n"
     ]
    }
   ],
   "source": [
    "# 数据导入\n",
    "import pandas as pd\n",
    "import numpy as np\n",
    "df = pd.read_excel('C:\\\\Users\\\\19700\\\\Desktop\\\\商务数据分析\\\\Project\\\\Data\\\\raw.xlsx', encoding = 'utf-8')\n",
    "print(df.shape)\n",
    "print(df.info)"
   ]
  },
  {
   "cell_type": "code",
   "execution_count": 1,
   "metadata": {},
   "outputs": [],
   "source": [
    "import numpy as np\n",
    "import pandas as pd\n"
   ]
  },
  {
   "cell_type": "code",
   "execution_count": 2,
   "metadata": {},
   "outputs": [],
   "source": [
    "#构建词频统计的函数\n",
    "def freq_count(value_list, min_label, max_label, output_number = 50):\n",
    "    #print(value_list)\n",
    "    value_list = value_list + list(range(min_label, max_label))\n",
    "    counts = {}\n",
    "    for place in value_list:\n",
    "        counts.setdefault(place, 0)\n",
    "        counts[place] = counts[place] + 1\n",
    "    for key in counts.keys():\n",
    "        counts[key] = counts[key] - 1\n",
    "    if np.nan in list(counts.keys()):\n",
    "        del counts[np.nan]\n",
    "    #print(counts)\n",
    "    items = list(counts.items())\n",
    "    items.sort(key = lambda x:x[0], reverse = False)\n",
    "\n",
    "    for i in range(min(output_number, len(items))):\n",
    "        place, count = items[i]\n",
    "        print(\"{0:<10}{1:<5}\".format(place, count))\n",
    "    return items"
   ]
  },
  {
   "cell_type": "code",
   "execution_count": 5,
   "metadata": {},
   "outputs": [
    {
     "name": "stdout",
     "output_type": "stream",
     "text": [
      "<class 'pandas.core.frame.DataFrame'>\n",
      "RangeIndex: 62988 entries, 0 to 62987\n",
      "Data columns (total 63 columns):\n",
      " #   Column                    Non-Null Count  Dtype         \n",
      "---  ------                    --------------  -----         \n",
      " 0   MEMBER_NO                 62988 non-null  object        \n",
      " 1   FFP_DATE                  62988 non-null  datetime64[ns]\n",
      " 2   FIRST_FLIGHT_DATE         62986 non-null  datetime64[ns]\n",
      " 3   GENDER                    62985 non-null  object        \n",
      " 4   FFP_TIER                  62988 non-null  int64         \n",
      " 5   WORK_CITY                 60719 non-null  object        \n",
      " 6   WORK_PROVINCE             59740 non-null  object        \n",
      " 7   WORK_COUNTRY              62962 non-null  object        \n",
      " 8   age                       62568 non-null  float64       \n",
      " 9   LOAD_TIME                 62988 non-null  datetime64[ns]\n",
      " 10  FLIGHT_COUNT              62988 non-null  int64         \n",
      " 11  FLIGHT_COUNT_QTR_1        62988 non-null  int64         \n",
      " 12  FLIGHT_COUNT_QTR_2        62988 non-null  int64         \n",
      " 13  FLIGHT_COUNT_QTR_3        62988 non-null  int64         \n",
      " 14  FLIGHT_COUNT_QTR_4        62988 non-null  int64         \n",
      " 15  FLIGHT_COUNT_QTR_5        62988 non-null  int64         \n",
      " 16  FLIGHT_COUNT_QTR_6        62988 non-null  int64         \n",
      " 17  FLIGHT_COUNT_QTR_7        62988 non-null  int64         \n",
      " 18  FLIGHT_COUNT_QTR_8        62988 non-null  int64         \n",
      " 19  FACD_CLASS_COUNT          62988 non-null  int64         \n",
      " 20  BASE_POINTS_SUM           62988 non-null  int64         \n",
      " 21  BASE_POINTS_SUM_QTR_1     62988 non-null  int64         \n",
      " 22  BASE_POINTS_SUM_QTR_2     62988 non-null  int64         \n",
      " 23  BASE_POINTS_SUM_QTR_3     62988 non-null  int64         \n",
      " 24  BASE_POINTS_SUM_QTR_4     62988 non-null  int64         \n",
      " 25  BASE_POINTS_SUM_QTR_5     62988 non-null  int64         \n",
      " 26  BASE_POINTS_SUM_QTR_6     62988 non-null  int64         \n",
      " 27  BASE_POINTS_SUM_QTR_7     62988 non-null  int64         \n",
      " 28  BASE_POINTS_SUM_QTR_8     62988 non-null  int64         \n",
      " 29  ELITE_POINTS_SUM_YR_1     62988 non-null  int64         \n",
      " 30  ELITE_POINTS_SUM_YR_2     62988 non-null  int64         \n",
      " 31  EXPENSE_SUM_YR_1          62437 non-null  float64       \n",
      " 32  EXPENSE_SUM_YR_2          62850 non-null  float64       \n",
      " 33  SEG_KM_SUM                62988 non-null  int64         \n",
      " 34  WEIGHTED_SEG_KM           62988 non-null  float64       \n",
      " 35  LAST_FLIGHT_DATE          62988 non-null  datetime64[ns]\n",
      " 36  AVG_FLIGHT_COUNT          62988 non-null  float64       \n",
      " 37  AVG_BASE_POINTS_SUM       62988 non-null  float64       \n",
      " 38  DAYS_FROM_BEGIN_TO_FIRST  62988 non-null  int64         \n",
      " 39  DAYS_FROM_LAST_TO_END     62988 non-null  int64         \n",
      " 40  AVG_FLIGHT_INTERVAL       62988 non-null  float64       \n",
      " 41  MAX_FLIGHT_INTERVAL       62988 non-null  int64         \n",
      " 42  MILEAGE_IN_COUNT          62988 non-null  int64         \n",
      " 43  ADD_POINTS_SUM_YR_1       62988 non-null  int64         \n",
      " 44  ADD_POINTS_SUM_YR_2       62988 non-null  int64         \n",
      " 45  EXCHANGE_COUNT            62988 non-null  int64         \n",
      " 46  TRANSACTION_DATE          62988 non-null  datetime64[ns]\n",
      " 47  avg_discount              62988 non-null  float64       \n",
      " 48  P1Y_Flight_Count          62988 non-null  int64         \n",
      " 49  L1Y_Flight_Count          62988 non-null  int64         \n",
      " 50  P1Y_BASE_POINTS_SUM       62988 non-null  int64         \n",
      " 51  L1Y_BASE_POINTS_SUM       62988 non-null  int64         \n",
      " 52  ELITE_POINTS_SUM          62988 non-null  int64         \n",
      " 53  ADD_POINTS_SUM            62988 non-null  int64         \n",
      " 54  Eli_Add_Point_Sum         62988 non-null  int64         \n",
      " 55  L1Y_ELi_Add_Points        62988 non-null  int64         \n",
      " 56  Points_Sum                62988 non-null  int64         \n",
      " 57  L1Y_Points_Sum            62988 non-null  int64         \n",
      " 58  Ration_L1Y_Flight_Count   62988 non-null  float64       \n",
      " 59  Ration_P1Y_Flight_Count   62988 non-null  float64       \n",
      " 60  Ration_P1Y_BPS            62988 non-null  float64       \n",
      " 61  Ration_L1Y_BPS            62988 non-null  float64       \n",
      " 62  Point_Chg_NotFlight       62988 non-null  int64         \n",
      "dtypes: datetime64[ns](5), float64(12), int64(41), object(5)\n",
      "memory usage: 30.3+ MB\n",
      "None\n"
     ]
    }
   ],
   "source": [
    "# 我们简要地对数据进行观察\n",
    "## 在描述用户地理特征的很多数据列上都有空值的情况下，下面我们一个个进行分析。\n",
    "print(df.info())"
   ]
  },
  {
   "cell_type": "code",
   "execution_count": 2,
   "metadata": {},
   "outputs": [
    {
     "data": {
      "text/html": [
       "<div>\n",
       "<style scoped>\n",
       "    .dataframe tbody tr th:only-of-type {\n",
       "        vertical-align: middle;\n",
       "    }\n",
       "\n",
       "    .dataframe tbody tr th {\n",
       "        vertical-align: top;\n",
       "    }\n",
       "\n",
       "    .dataframe thead th {\n",
       "        text-align: right;\n",
       "    }\n",
       "</style>\n",
       "<table border=\"1\" class=\"dataframe\">\n",
       "  <thead>\n",
       "    <tr style=\"text-align: right;\">\n",
       "      <th></th>\n",
       "      <th>count</th>\n",
       "      <th>unique</th>\n",
       "      <th>top</th>\n",
       "      <th>freq</th>\n",
       "      <th>first</th>\n",
       "      <th>last</th>\n",
       "      <th>mean</th>\n",
       "      <th>std</th>\n",
       "      <th>min</th>\n",
       "      <th>50%</th>\n",
       "      <th>max</th>\n",
       "      <th>null</th>\n",
       "    </tr>\n",
       "  </thead>\n",
       "  <tbody>\n",
       "    <tr>\n",
       "      <th>FIRST_FLIGHT_DATE</th>\n",
       "      <td>62986</td>\n",
       "      <td>3408</td>\n",
       "      <td>2007-02-16 00:00:00</td>\n",
       "      <td>96</td>\n",
       "      <td>1998-11-03</td>\n",
       "      <td>2009-05-30</td>\n",
       "      <td>NaN</td>\n",
       "      <td>NaN</td>\n",
       "      <td>NaN</td>\n",
       "      <td>NaN</td>\n",
       "      <td>NaN</td>\n",
       "      <td>2</td>\n",
       "    </tr>\n",
       "    <tr>\n",
       "      <th>GENDER</th>\n",
       "      <td>62985</td>\n",
       "      <td>2</td>\n",
       "      <td>男</td>\n",
       "      <td>48134</td>\n",
       "      <td>NaT</td>\n",
       "      <td>NaT</td>\n",
       "      <td>NaN</td>\n",
       "      <td>NaN</td>\n",
       "      <td>NaN</td>\n",
       "      <td>NaN</td>\n",
       "      <td>NaN</td>\n",
       "      <td>3</td>\n",
       "    </tr>\n",
       "    <tr>\n",
       "      <th>WORK_CITY</th>\n",
       "      <td>60719</td>\n",
       "      <td>3310</td>\n",
       "      <td>广州</td>\n",
       "      <td>9385</td>\n",
       "      <td>NaT</td>\n",
       "      <td>NaT</td>\n",
       "      <td>NaN</td>\n",
       "      <td>NaN</td>\n",
       "      <td>NaN</td>\n",
       "      <td>NaN</td>\n",
       "      <td>NaN</td>\n",
       "      <td>2269</td>\n",
       "    </tr>\n",
       "    <tr>\n",
       "      <th>WORK_PROVINCE</th>\n",
       "      <td>59740</td>\n",
       "      <td>1185</td>\n",
       "      <td>广东</td>\n",
       "      <td>17507</td>\n",
       "      <td>NaT</td>\n",
       "      <td>NaT</td>\n",
       "      <td>NaN</td>\n",
       "      <td>NaN</td>\n",
       "      <td>NaN</td>\n",
       "      <td>NaN</td>\n",
       "      <td>NaN</td>\n",
       "      <td>3248</td>\n",
       "    </tr>\n",
       "    <tr>\n",
       "      <th>WORK_COUNTRY</th>\n",
       "      <td>62962</td>\n",
       "      <td>118</td>\n",
       "      <td>CN</td>\n",
       "      <td>57748</td>\n",
       "      <td>NaT</td>\n",
       "      <td>NaT</td>\n",
       "      <td>NaN</td>\n",
       "      <td>NaN</td>\n",
       "      <td>NaN</td>\n",
       "      <td>NaN</td>\n",
       "      <td>NaN</td>\n",
       "      <td>26</td>\n",
       "    </tr>\n",
       "    <tr>\n",
       "      <th>age</th>\n",
       "      <td>62568</td>\n",
       "      <td>NaN</td>\n",
       "      <td>NaN</td>\n",
       "      <td>NaN</td>\n",
       "      <td>NaT</td>\n",
       "      <td>NaT</td>\n",
       "      <td>42.4763</td>\n",
       "      <td>9.88591</td>\n",
       "      <td>6</td>\n",
       "      <td>41</td>\n",
       "      <td>110</td>\n",
       "      <td>420</td>\n",
       "    </tr>\n",
       "    <tr>\n",
       "      <th>EXPENSE_SUM_YR_1</th>\n",
       "      <td>62437</td>\n",
       "      <td>NaN</td>\n",
       "      <td>NaN</td>\n",
       "      <td>NaN</td>\n",
       "      <td>NaT</td>\n",
       "      <td>NaT</td>\n",
       "      <td>5355.38</td>\n",
       "      <td>8109.45</td>\n",
       "      <td>0</td>\n",
       "      <td>2800</td>\n",
       "      <td>239560</td>\n",
       "      <td>551</td>\n",
       "    </tr>\n",
       "    <tr>\n",
       "      <th>EXPENSE_SUM_YR_2</th>\n",
       "      <td>62850</td>\n",
       "      <td>NaN</td>\n",
       "      <td>NaN</td>\n",
       "      <td>NaN</td>\n",
       "      <td>NaT</td>\n",
       "      <td>NaT</td>\n",
       "      <td>5604.03</td>\n",
       "      <td>8703.36</td>\n",
       "      <td>0</td>\n",
       "      <td>2773</td>\n",
       "      <td>234188</td>\n",
       "      <td>138</td>\n",
       "    </tr>\n",
       "  </tbody>\n",
       "</table>\n",
       "</div>"
      ],
      "text/plain": [
       "                   count unique                  top   freq      first  \\\n",
       "FIRST_FLIGHT_DATE  62986   3408  2007-02-16 00:00:00     96 1998-11-03   \n",
       "GENDER             62985      2                    男  48134        NaT   \n",
       "WORK_CITY          60719   3310                   广州   9385        NaT   \n",
       "WORK_PROVINCE      59740   1185                   广东  17507        NaT   \n",
       "WORK_COUNTRY       62962    118                   CN  57748        NaT   \n",
       "age                62568    NaN                  NaN    NaN        NaT   \n",
       "EXPENSE_SUM_YR_1   62437    NaN                  NaN    NaN        NaT   \n",
       "EXPENSE_SUM_YR_2   62850    NaN                  NaN    NaN        NaT   \n",
       "\n",
       "                        last     mean      std  min   50%     max  null  \n",
       "FIRST_FLIGHT_DATE 2009-05-30      NaN      NaN  NaN   NaN     NaN     2  \n",
       "GENDER                   NaT      NaN      NaN  NaN   NaN     NaN     3  \n",
       "WORK_CITY                NaT      NaN      NaN  NaN   NaN     NaN  2269  \n",
       "WORK_PROVINCE            NaT      NaN      NaN  NaN   NaN     NaN  3248  \n",
       "WORK_COUNTRY             NaT      NaN      NaN  NaN   NaN     NaN    26  \n",
       "age                      NaT  42.4763  9.88591    6    41     110   420  \n",
       "EXPENSE_SUM_YR_1         NaT  5355.38  8109.45    0  2800  239560   551  \n",
       "EXPENSE_SUM_YR_2         NaT  5604.03  8703.36    0  2773  234188   138  "
      ]
     },
     "execution_count": 2,
     "metadata": {},
     "output_type": "execute_result"
    }
   ],
   "source": [
    "# 以下是对数据的基本描述和统计量的使用\n",
    "data_summary = df.describe(percentiles = [], include = 'all').T\n",
    "data_summary['null'] = len(df) - data_summary['count']\n",
    "#上面发现主要是描述地理信息的数据存在空值\n",
    "data_summary[data_summary['null']>0]\n",
    "# 以下结果表明，总共有八项数据存在空值。\n",
    "## 最多的work_province和work_country总共有2-3k项空值数据。"
   ]
  },
  {
   "cell_type": "code",
   "execution_count": 12,
   "metadata": {},
   "outputs": [
    {
     "name": "stdout",
     "output_type": "stream",
     "text": [
      "CN        1073 \n",
      "HK        534  \n",
      "SG        186  \n",
      "TW        137  \n",
      "JP        64   \n",
      "US        39   \n",
      "KR        37   \n",
      "AU        31   \n",
      "nan       25   \n",
      "PH        21   \n",
      "TH        16   \n",
      "MY        16   \n",
      "FR        11   \n",
      "BE        11   \n",
      "MO        10   \n",
      "ID        8    \n",
      "VT        7    \n",
      "CA        5    \n",
      "MA        4    \n",
      "UK        4    \n",
      "NL        4    \n",
      "KH        4    \n",
      "DE        3    \n",
      "AE        3    \n",
      "IT        2    \n",
      "IN        2    \n",
      "PK        2    \n",
      "IR        1    \n",
      "IL        1    \n",
      "PT        1    \n",
      "GE        1    \n",
      "FI        1    \n",
      "VN        1    \n",
      "CH        1    \n",
      "GT        1    \n",
      "SE        1    \n",
      "AA        1    \n"
     ]
    }
   ],
   "source": [
    "## 对WORK_CITY和WORK_PROVINCE进行相关的数据\n",
    "df_city_null = df[df['WORK_CITY'].isnull() == True]\n",
    "\n",
    "##查看对应country是否为空\n",
    "counts = {}\n",
    "for place in list(df_city_null['WORK_COUNTRY']):\n",
    "    counts[place] = counts.get(place, 0) + 1\n",
    "    \n",
    "items = list(counts.items())\n",
    "items.sort(key = lambda x:x[1], reverse = True)\n",
    "for i in range(len(items)):\n",
    "    place, count = items[i]\n",
    "    print(\"{0:<10}{1:<5}\".format(place, count))\n",
    "    \n",
    "## 从下图可以看到WORK_CITY为空的40%左右的数据仍然是在中国大陆工作的数据，剩下有香港、台湾、新加坡、日本、美国、韩国等国。\n",
    "## 但是此时国家为nan的个数比原来的nan少，说明可以手动调整标注一些客户的工作国家。"
   ]
  },
  {
   "cell_type": "code",
   "execution_count": 2,
   "metadata": {},
   "outputs": [
    {
     "data": {
      "text/html": [
       "<div>\n",
       "<style scoped>\n",
       "    .dataframe tbody tr th:only-of-type {\n",
       "        vertical-align: middle;\n",
       "    }\n",
       "\n",
       "    .dataframe tbody tr th {\n",
       "        vertical-align: top;\n",
       "    }\n",
       "\n",
       "    .dataframe thead th {\n",
       "        text-align: right;\n",
       "    }\n",
       "</style>\n",
       "<table border=\"1\" class=\"dataframe\">\n",
       "  <thead>\n",
       "    <tr style=\"text-align: right;\">\n",
       "      <th></th>\n",
       "      <th>MEMBER_NO</th>\n",
       "      <th>FFP_DATE</th>\n",
       "      <th>FIRST_FLIGHT_DATE</th>\n",
       "      <th>GENDER</th>\n",
       "      <th>FFP_TIER</th>\n",
       "      <th>WORK_CITY</th>\n",
       "      <th>WORK_PROVINCE</th>\n",
       "      <th>WORK_COUNTRY</th>\n",
       "      <th>age</th>\n",
       "      <th>LOAD_TIME</th>\n",
       "      <th>...</th>\n",
       "      <th>ADD_POINTS_SUM</th>\n",
       "      <th>Eli_Add_Point_Sum</th>\n",
       "      <th>L1Y_ELi_Add_Points</th>\n",
       "      <th>Points_Sum</th>\n",
       "      <th>L1Y_Points_Sum</th>\n",
       "      <th>Ration_L1Y_Flight_Count</th>\n",
       "      <th>Ration_P1Y_Flight_Count</th>\n",
       "      <th>Ration_P1Y_BPS</th>\n",
       "      <th>Ration_L1Y_BPS</th>\n",
       "      <th>Point_Chg_NotFlight</th>\n",
       "    </tr>\n",
       "  </thead>\n",
       "  <tbody>\n",
       "    <tr>\n",
       "      <th>0</th>\n",
       "      <td>‘00000001</td>\n",
       "      <td>2000-03-31</td>\n",
       "      <td>2001-01-13</td>\n",
       "      <td>男</td>\n",
       "      <td>4</td>\n",
       "      <td>NaN</td>\n",
       "      <td>NaN</td>\n",
       "      <td>NaN</td>\n",
       "      <td>40.0</td>\n",
       "      <td>2008-04-01</td>\n",
       "      <td>...</td>\n",
       "      <td>0</td>\n",
       "      <td>0</td>\n",
       "      <td>0</td>\n",
       "      <td>7035</td>\n",
       "      <td>7035</td>\n",
       "      <td>1.000000</td>\n",
       "      <td>0.000000</td>\n",
       "      <td>0.000000</td>\n",
       "      <td>0.999858</td>\n",
       "      <td>0</td>\n",
       "    </tr>\n",
       "    <tr>\n",
       "      <th>4</th>\n",
       "      <td>‘00000005</td>\n",
       "      <td>2002-02-07</td>\n",
       "      <td>2002-09-11</td>\n",
       "      <td>男</td>\n",
       "      <td>4</td>\n",
       "      <td>NaN</td>\n",
       "      <td>NaN</td>\n",
       "      <td>NaN</td>\n",
       "      <td>57.0</td>\n",
       "      <td>2008-04-01</td>\n",
       "      <td>...</td>\n",
       "      <td>0</td>\n",
       "      <td>0</td>\n",
       "      <td>0</td>\n",
       "      <td>2329</td>\n",
       "      <td>264</td>\n",
       "      <td>0.333333</td>\n",
       "      <td>0.666667</td>\n",
       "      <td>0.886266</td>\n",
       "      <td>0.113305</td>\n",
       "      <td>0</td>\n",
       "    </tr>\n",
       "    <tr>\n",
       "      <th>13</th>\n",
       "      <td>‘00000014</td>\n",
       "      <td>2003-02-13</td>\n",
       "      <td>2003-10-20</td>\n",
       "      <td>男</td>\n",
       "      <td>4</td>\n",
       "      <td>NaN</td>\n",
       "      <td>NaN</td>\n",
       "      <td>NaN</td>\n",
       "      <td>47.0</td>\n",
       "      <td>2008-04-01</td>\n",
       "      <td>...</td>\n",
       "      <td>0</td>\n",
       "      <td>0</td>\n",
       "      <td>0</td>\n",
       "      <td>13725</td>\n",
       "      <td>0</td>\n",
       "      <td>0.000000</td>\n",
       "      <td>1.000000</td>\n",
       "      <td>0.999927</td>\n",
       "      <td>0.000000</td>\n",
       "      <td>0</td>\n",
       "    </tr>\n",
       "    <tr>\n",
       "      <th>2018</th>\n",
       "      <td>‘00002019</td>\n",
       "      <td>1998-11-17</td>\n",
       "      <td>1998-11-17</td>\n",
       "      <td>男</td>\n",
       "      <td>4</td>\n",
       "      <td>NaN</td>\n",
       "      <td>NaN</td>\n",
       "      <td>NaN</td>\n",
       "      <td>44.0</td>\n",
       "      <td>2008-04-01</td>\n",
       "      <td>...</td>\n",
       "      <td>0</td>\n",
       "      <td>0</td>\n",
       "      <td>0</td>\n",
       "      <td>2188</td>\n",
       "      <td>1000</td>\n",
       "      <td>0.666667</td>\n",
       "      <td>0.333333</td>\n",
       "      <td>0.542714</td>\n",
       "      <td>0.456830</td>\n",
       "      <td>0</td>\n",
       "    </tr>\n",
       "    <tr>\n",
       "      <th>2117</th>\n",
       "      <td>‘00002118</td>\n",
       "      <td>1999-03-27</td>\n",
       "      <td>1999-04-18</td>\n",
       "      <td>男</td>\n",
       "      <td>4</td>\n",
       "      <td>NaN</td>\n",
       "      <td>NaN</td>\n",
       "      <td>NaN</td>\n",
       "      <td>60.0</td>\n",
       "      <td>2008-04-01</td>\n",
       "      <td>...</td>\n",
       "      <td>0</td>\n",
       "      <td>0</td>\n",
       "      <td>0</td>\n",
       "      <td>3669</td>\n",
       "      <td>810</td>\n",
       "      <td>0.285714</td>\n",
       "      <td>0.714286</td>\n",
       "      <td>0.779019</td>\n",
       "      <td>0.220708</td>\n",
       "      <td>0</td>\n",
       "    </tr>\n",
       "    <tr>\n",
       "      <th>8952</th>\n",
       "      <td>‘00008953</td>\n",
       "      <td>2001-05-03</td>\n",
       "      <td>2007-04-03</td>\n",
       "      <td>男</td>\n",
       "      <td>4</td>\n",
       "      <td>NaN</td>\n",
       "      <td>NaN</td>\n",
       "      <td>NaN</td>\n",
       "      <td>49.0</td>\n",
       "      <td>2008-04-01</td>\n",
       "      <td>...</td>\n",
       "      <td>0</td>\n",
       "      <td>0</td>\n",
       "      <td>0</td>\n",
       "      <td>1216</td>\n",
       "      <td>1216</td>\n",
       "      <td>1.000000</td>\n",
       "      <td>0.000000</td>\n",
       "      <td>0.000000</td>\n",
       "      <td>0.999178</td>\n",
       "      <td>0</td>\n",
       "    </tr>\n",
       "    <tr>\n",
       "      <th>8953</th>\n",
       "      <td>‘00008954</td>\n",
       "      <td>2001-06-28</td>\n",
       "      <td>2002-05-11</td>\n",
       "      <td>女</td>\n",
       "      <td>4</td>\n",
       "      <td>NaN</td>\n",
       "      <td>NaN</td>\n",
       "      <td>NaN</td>\n",
       "      <td>59.0</td>\n",
       "      <td>2008-04-01</td>\n",
       "      <td>...</td>\n",
       "      <td>0</td>\n",
       "      <td>0</td>\n",
       "      <td>0</td>\n",
       "      <td>1596</td>\n",
       "      <td>0</td>\n",
       "      <td>0.000000</td>\n",
       "      <td>1.000000</td>\n",
       "      <td>0.999374</td>\n",
       "      <td>0.000000</td>\n",
       "      <td>0</td>\n",
       "    </tr>\n",
       "    <tr>\n",
       "      <th>8981</th>\n",
       "      <td>‘00008982</td>\n",
       "      <td>2000-08-20</td>\n",
       "      <td>2005-06-09</td>\n",
       "      <td>男</td>\n",
       "      <td>4</td>\n",
       "      <td>NaN</td>\n",
       "      <td>NaN</td>\n",
       "      <td>NaN</td>\n",
       "      <td>46.0</td>\n",
       "      <td>2008-04-01</td>\n",
       "      <td>...</td>\n",
       "      <td>0</td>\n",
       "      <td>0</td>\n",
       "      <td>0</td>\n",
       "      <td>4787</td>\n",
       "      <td>0</td>\n",
       "      <td>0.000000</td>\n",
       "      <td>1.000000</td>\n",
       "      <td>0.999791</td>\n",
       "      <td>0.000000</td>\n",
       "      <td>0</td>\n",
       "    </tr>\n",
       "    <tr>\n",
       "      <th>18123</th>\n",
       "      <td>‘00018124</td>\n",
       "      <td>2000-03-31</td>\n",
       "      <td>2005-07-24</td>\n",
       "      <td>男</td>\n",
       "      <td>4</td>\n",
       "      <td>NaN</td>\n",
       "      <td>NaN</td>\n",
       "      <td>NaN</td>\n",
       "      <td>66.0</td>\n",
       "      <td>2008-04-01</td>\n",
       "      <td>...</td>\n",
       "      <td>0</td>\n",
       "      <td>1346</td>\n",
       "      <td>1346</td>\n",
       "      <td>36630</td>\n",
       "      <td>34722</td>\n",
       "      <td>0.952381</td>\n",
       "      <td>0.047619</td>\n",
       "      <td>0.054074</td>\n",
       "      <td>0.945898</td>\n",
       "      <td>0</td>\n",
       "    </tr>\n",
       "    <tr>\n",
       "      <th>18124</th>\n",
       "      <td>‘00018125</td>\n",
       "      <td>2000-06-29</td>\n",
       "      <td>2000-10-12</td>\n",
       "      <td>男</td>\n",
       "      <td>4</td>\n",
       "      <td>NaN</td>\n",
       "      <td>NaN</td>\n",
       "      <td>NaN</td>\n",
       "      <td>60.0</td>\n",
       "      <td>2008-04-01</td>\n",
       "      <td>...</td>\n",
       "      <td>0</td>\n",
       "      <td>0</td>\n",
       "      <td>0</td>\n",
       "      <td>2151</td>\n",
       "      <td>500</td>\n",
       "      <td>0.250000</td>\n",
       "      <td>0.750000</td>\n",
       "      <td>0.767193</td>\n",
       "      <td>0.232342</td>\n",
       "      <td>0</td>\n",
       "    </tr>\n",
       "    <tr>\n",
       "      <th>20243</th>\n",
       "      <td>‘00020244</td>\n",
       "      <td>1999-04-06</td>\n",
       "      <td>1999-06-17</td>\n",
       "      <td>男</td>\n",
       "      <td>4</td>\n",
       "      <td>NaN</td>\n",
       "      <td>NaN</td>\n",
       "      <td>NaN</td>\n",
       "      <td>47.0</td>\n",
       "      <td>2008-04-01</td>\n",
       "      <td>...</td>\n",
       "      <td>17270</td>\n",
       "      <td>17270</td>\n",
       "      <td>4708</td>\n",
       "      <td>30934</td>\n",
       "      <td>5192</td>\n",
       "      <td>0.083333</td>\n",
       "      <td>0.916667</td>\n",
       "      <td>0.964508</td>\n",
       "      <td>0.035419</td>\n",
       "      <td>37</td>\n",
       "    </tr>\n",
       "    <tr>\n",
       "      <th>20267</th>\n",
       "      <td>‘00020268</td>\n",
       "      <td>1999-04-23</td>\n",
       "      <td>1999-07-19</td>\n",
       "      <td>男</td>\n",
       "      <td>4</td>\n",
       "      <td>NaN</td>\n",
       "      <td>NaN</td>\n",
       "      <td>NaN</td>\n",
       "      <td>49.0</td>\n",
       "      <td>2008-04-01</td>\n",
       "      <td>...</td>\n",
       "      <td>0</td>\n",
       "      <td>0</td>\n",
       "      <td>0</td>\n",
       "      <td>9392</td>\n",
       "      <td>7018</td>\n",
       "      <td>0.789474</td>\n",
       "      <td>0.210526</td>\n",
       "      <td>0.252741</td>\n",
       "      <td>0.747152</td>\n",
       "      <td>1</td>\n",
       "    </tr>\n",
       "    <tr>\n",
       "      <th>27080</th>\n",
       "      <td>‘00027081</td>\n",
       "      <td>2003-02-13</td>\n",
       "      <td>2003-08-08</td>\n",
       "      <td>男</td>\n",
       "      <td>4</td>\n",
       "      <td>NaN</td>\n",
       "      <td>NaN</td>\n",
       "      <td>NaN</td>\n",
       "      <td>53.0</td>\n",
       "      <td>2008-04-01</td>\n",
       "      <td>...</td>\n",
       "      <td>200</td>\n",
       "      <td>200</td>\n",
       "      <td>0</td>\n",
       "      <td>5101</td>\n",
       "      <td>1677</td>\n",
       "      <td>0.529412</td>\n",
       "      <td>0.470588</td>\n",
       "      <td>0.657691</td>\n",
       "      <td>0.342105</td>\n",
       "      <td>1</td>\n",
       "    </tr>\n",
       "    <tr>\n",
       "      <th>27097</th>\n",
       "      <td>‘00027098</td>\n",
       "      <td>2000-08-20</td>\n",
       "      <td>2000-10-10</td>\n",
       "      <td>男</td>\n",
       "      <td>4</td>\n",
       "      <td>NaN</td>\n",
       "      <td>NaN</td>\n",
       "      <td>NaN</td>\n",
       "      <td>NaN</td>\n",
       "      <td>2008-04-01</td>\n",
       "      <td>...</td>\n",
       "      <td>0</td>\n",
       "      <td>0</td>\n",
       "      <td>0</td>\n",
       "      <td>12965</td>\n",
       "      <td>1292</td>\n",
       "      <td>0.086957</td>\n",
       "      <td>0.913043</td>\n",
       "      <td>0.900278</td>\n",
       "      <td>0.099645</td>\n",
       "      <td>0</td>\n",
       "    </tr>\n",
       "    <tr>\n",
       "      <th>29191</th>\n",
       "      <td>‘00029192</td>\n",
       "      <td>1999-04-10</td>\n",
       "      <td>1999-04-11</td>\n",
       "      <td>男</td>\n",
       "      <td>4</td>\n",
       "      <td>NaN</td>\n",
       "      <td>NaN</td>\n",
       "      <td>NaN</td>\n",
       "      <td>46.0</td>\n",
       "      <td>2008-04-01</td>\n",
       "      <td>...</td>\n",
       "      <td>0</td>\n",
       "      <td>0</td>\n",
       "      <td>0</td>\n",
       "      <td>10229</td>\n",
       "      <td>5270</td>\n",
       "      <td>0.352941</td>\n",
       "      <td>0.647059</td>\n",
       "      <td>0.484751</td>\n",
       "      <td>0.515152</td>\n",
       "      <td>0</td>\n",
       "    </tr>\n",
       "    <tr>\n",
       "      <th>29194</th>\n",
       "      <td>‘00029195</td>\n",
       "      <td>1999-05-28</td>\n",
       "      <td>1999-07-20</td>\n",
       "      <td>男</td>\n",
       "      <td>4</td>\n",
       "      <td>NaN</td>\n",
       "      <td>NaN</td>\n",
       "      <td>NaN</td>\n",
       "      <td>50.0</td>\n",
       "      <td>2008-04-01</td>\n",
       "      <td>...</td>\n",
       "      <td>0</td>\n",
       "      <td>0</td>\n",
       "      <td>0</td>\n",
       "      <td>1000</td>\n",
       "      <td>0</td>\n",
       "      <td>0.000000</td>\n",
       "      <td>1.000000</td>\n",
       "      <td>0.999001</td>\n",
       "      <td>0.000000</td>\n",
       "      <td>0</td>\n",
       "    </tr>\n",
       "    <tr>\n",
       "      <th>35984</th>\n",
       "      <td>‘00035985</td>\n",
       "      <td>2000-02-22</td>\n",
       "      <td>2002-06-17</td>\n",
       "      <td>女</td>\n",
       "      <td>4</td>\n",
       "      <td>NaN</td>\n",
       "      <td>NaN</td>\n",
       "      <td>NaN</td>\n",
       "      <td>52.0</td>\n",
       "      <td>2008-04-01</td>\n",
       "      <td>...</td>\n",
       "      <td>0</td>\n",
       "      <td>0</td>\n",
       "      <td>0</td>\n",
       "      <td>4700</td>\n",
       "      <td>1700</td>\n",
       "      <td>0.400000</td>\n",
       "      <td>0.600000</td>\n",
       "      <td>0.638162</td>\n",
       "      <td>0.361625</td>\n",
       "      <td>0</td>\n",
       "    </tr>\n",
       "    <tr>\n",
       "      <th>35985</th>\n",
       "      <td>‘00035986</td>\n",
       "      <td>2000-03-09</td>\n",
       "      <td>2000-06-09</td>\n",
       "      <td>男</td>\n",
       "      <td>4</td>\n",
       "      <td>NaN</td>\n",
       "      <td>NaN</td>\n",
       "      <td>NaN</td>\n",
       "      <td>52.0</td>\n",
       "      <td>2008-04-01</td>\n",
       "      <td>...</td>\n",
       "      <td>0</td>\n",
       "      <td>0</td>\n",
       "      <td>0</td>\n",
       "      <td>2000</td>\n",
       "      <td>1000</td>\n",
       "      <td>0.500000</td>\n",
       "      <td>0.500000</td>\n",
       "      <td>0.499750</td>\n",
       "      <td>0.499750</td>\n",
       "      <td>0</td>\n",
       "    </tr>\n",
       "    <tr>\n",
       "      <th>35986</th>\n",
       "      <td>‘00035987</td>\n",
       "      <td>2000-03-31</td>\n",
       "      <td>2000-08-04</td>\n",
       "      <td>男</td>\n",
       "      <td>4</td>\n",
       "      <td>NaN</td>\n",
       "      <td>NaN</td>\n",
       "      <td>NaN</td>\n",
       "      <td>52.0</td>\n",
       "      <td>2008-04-01</td>\n",
       "      <td>...</td>\n",
       "      <td>888</td>\n",
       "      <td>888</td>\n",
       "      <td>0</td>\n",
       "      <td>24843</td>\n",
       "      <td>13034</td>\n",
       "      <td>0.555556</td>\n",
       "      <td>0.444444</td>\n",
       "      <td>0.455877</td>\n",
       "      <td>0.544081</td>\n",
       "      <td>1</td>\n",
       "    </tr>\n",
       "    <tr>\n",
       "      <th>35988</th>\n",
       "      <td>‘00035989</td>\n",
       "      <td>2000-03-31</td>\n",
       "      <td>2002-05-15</td>\n",
       "      <td>男</td>\n",
       "      <td>4</td>\n",
       "      <td>NaN</td>\n",
       "      <td>NaN</td>\n",
       "      <td>NaN</td>\n",
       "      <td>44.0</td>\n",
       "      <td>2008-04-01</td>\n",
       "      <td>...</td>\n",
       "      <td>0</td>\n",
       "      <td>0</td>\n",
       "      <td>0</td>\n",
       "      <td>1332</td>\n",
       "      <td>1332</td>\n",
       "      <td>1.000000</td>\n",
       "      <td>0.000000</td>\n",
       "      <td>0.000000</td>\n",
       "      <td>0.999250</td>\n",
       "      <td>0</td>\n",
       "    </tr>\n",
       "    <tr>\n",
       "      <th>36001</th>\n",
       "      <td>‘00036002</td>\n",
       "      <td>2003-02-13</td>\n",
       "      <td>2007-08-07</td>\n",
       "      <td>男</td>\n",
       "      <td>4</td>\n",
       "      <td>NaN</td>\n",
       "      <td>NaN</td>\n",
       "      <td>NaN</td>\n",
       "      <td>63.0</td>\n",
       "      <td>2008-04-01</td>\n",
       "      <td>...</td>\n",
       "      <td>0</td>\n",
       "      <td>0</td>\n",
       "      <td>0</td>\n",
       "      <td>870</td>\n",
       "      <td>870</td>\n",
       "      <td>1.000000</td>\n",
       "      <td>0.000000</td>\n",
       "      <td>0.000000</td>\n",
       "      <td>0.998852</td>\n",
       "      <td>0</td>\n",
       "    </tr>\n",
       "    <tr>\n",
       "      <th>38115</th>\n",
       "      <td>‘00038116</td>\n",
       "      <td>1999-04-11</td>\n",
       "      <td>2007-10-07</td>\n",
       "      <td>男</td>\n",
       "      <td>4</td>\n",
       "      <td>NaN</td>\n",
       "      <td>NaN</td>\n",
       "      <td>NaN</td>\n",
       "      <td>45.0</td>\n",
       "      <td>2008-04-01</td>\n",
       "      <td>...</td>\n",
       "      <td>0</td>\n",
       "      <td>0</td>\n",
       "      <td>0</td>\n",
       "      <td>1994</td>\n",
       "      <td>1994</td>\n",
       "      <td>1.000000</td>\n",
       "      <td>0.000000</td>\n",
       "      <td>0.000000</td>\n",
       "      <td>0.999499</td>\n",
       "      <td>0</td>\n",
       "    </tr>\n",
       "    <tr>\n",
       "      <th>45040</th>\n",
       "      <td>‘00045041</td>\n",
       "      <td>2001-07-26</td>\n",
       "      <td>2001-11-14</td>\n",
       "      <td>男</td>\n",
       "      <td>4</td>\n",
       "      <td>NaN</td>\n",
       "      <td>NaN</td>\n",
       "      <td>NaN</td>\n",
       "      <td>49.0</td>\n",
       "      <td>2008-04-01</td>\n",
       "      <td>...</td>\n",
       "      <td>0</td>\n",
       "      <td>0</td>\n",
       "      <td>0</td>\n",
       "      <td>44113</td>\n",
       "      <td>15371</td>\n",
       "      <td>0.347826</td>\n",
       "      <td>0.652174</td>\n",
       "      <td>0.651539</td>\n",
       "      <td>0.348438</td>\n",
       "      <td>1</td>\n",
       "    </tr>\n",
       "    <tr>\n",
       "      <th>45041</th>\n",
       "      <td>‘00045042</td>\n",
       "      <td>2002-09-12</td>\n",
       "      <td>2003-10-20</td>\n",
       "      <td>女</td>\n",
       "      <td>4</td>\n",
       "      <td>NaN</td>\n",
       "      <td>NaN</td>\n",
       "      <td>NaN</td>\n",
       "      <td>54.0</td>\n",
       "      <td>2008-04-01</td>\n",
       "      <td>...</td>\n",
       "      <td>0</td>\n",
       "      <td>0</td>\n",
       "      <td>0</td>\n",
       "      <td>1152</td>\n",
       "      <td>0</td>\n",
       "      <td>0.000000</td>\n",
       "      <td>1.000000</td>\n",
       "      <td>0.999133</td>\n",
       "      <td>0.000000</td>\n",
       "      <td>0</td>\n",
       "    </tr>\n",
       "    <tr>\n",
       "      <th>54062</th>\n",
       "      <td>‘00054063</td>\n",
       "      <td>2003-02-13</td>\n",
       "      <td>2003-12-07</td>\n",
       "      <td>男</td>\n",
       "      <td>4</td>\n",
       "      <td>NaN</td>\n",
       "      <td>NaN</td>\n",
       "      <td>NaN</td>\n",
       "      <td>42.0</td>\n",
       "      <td>2008-04-01</td>\n",
       "      <td>...</td>\n",
       "      <td>0</td>\n",
       "      <td>0</td>\n",
       "      <td>0</td>\n",
       "      <td>2668</td>\n",
       "      <td>506</td>\n",
       "      <td>0.200000</td>\n",
       "      <td>0.800000</td>\n",
       "      <td>0.810041</td>\n",
       "      <td>0.189584</td>\n",
       "      <td>0</td>\n",
       "    </tr>\n",
       "  </tbody>\n",
       "</table>\n",
       "<p>25 rows × 63 columns</p>\n",
       "</div>"
      ],
      "text/plain": [
       "       MEMBER_NO   FFP_DATE FIRST_FLIGHT_DATE GENDER  FFP_TIER WORK_CITY  \\\n",
       "0      ‘00000001 2000-03-31        2001-01-13      男         4       NaN   \n",
       "4      ‘00000005 2002-02-07        2002-09-11      男         4       NaN   \n",
       "13     ‘00000014 2003-02-13        2003-10-20      男         4       NaN   \n",
       "2018   ‘00002019 1998-11-17        1998-11-17      男         4       NaN   \n",
       "2117   ‘00002118 1999-03-27        1999-04-18      男         4       NaN   \n",
       "8952   ‘00008953 2001-05-03        2007-04-03      男         4       NaN   \n",
       "8953   ‘00008954 2001-06-28        2002-05-11      女         4       NaN   \n",
       "8981   ‘00008982 2000-08-20        2005-06-09      男         4       NaN   \n",
       "18123  ‘00018124 2000-03-31        2005-07-24      男         4       NaN   \n",
       "18124  ‘00018125 2000-06-29        2000-10-12      男         4       NaN   \n",
       "20243  ‘00020244 1999-04-06        1999-06-17      男         4       NaN   \n",
       "20267  ‘00020268 1999-04-23        1999-07-19      男         4       NaN   \n",
       "27080  ‘00027081 2003-02-13        2003-08-08      男         4       NaN   \n",
       "27097  ‘00027098 2000-08-20        2000-10-10      男         4       NaN   \n",
       "29191  ‘00029192 1999-04-10        1999-04-11      男         4       NaN   \n",
       "29194  ‘00029195 1999-05-28        1999-07-20      男         4       NaN   \n",
       "35984  ‘00035985 2000-02-22        2002-06-17      女         4       NaN   \n",
       "35985  ‘00035986 2000-03-09        2000-06-09      男         4       NaN   \n",
       "35986  ‘00035987 2000-03-31        2000-08-04      男         4       NaN   \n",
       "35988  ‘00035989 2000-03-31        2002-05-15      男         4       NaN   \n",
       "36001  ‘00036002 2003-02-13        2007-08-07      男         4       NaN   \n",
       "38115  ‘00038116 1999-04-11        2007-10-07      男         4       NaN   \n",
       "45040  ‘00045041 2001-07-26        2001-11-14      男         4       NaN   \n",
       "45041  ‘00045042 2002-09-12        2003-10-20      女         4       NaN   \n",
       "54062  ‘00054063 2003-02-13        2003-12-07      男         4       NaN   \n",
       "\n",
       "      WORK_PROVINCE WORK_COUNTRY   age  LOAD_TIME  ...  ADD_POINTS_SUM  \\\n",
       "0               NaN          NaN  40.0 2008-04-01  ...               0   \n",
       "4               NaN          NaN  57.0 2008-04-01  ...               0   \n",
       "13              NaN          NaN  47.0 2008-04-01  ...               0   \n",
       "2018            NaN          NaN  44.0 2008-04-01  ...               0   \n",
       "2117            NaN          NaN  60.0 2008-04-01  ...               0   \n",
       "8952            NaN          NaN  49.0 2008-04-01  ...               0   \n",
       "8953            NaN          NaN  59.0 2008-04-01  ...               0   \n",
       "8981            NaN          NaN  46.0 2008-04-01  ...               0   \n",
       "18123           NaN          NaN  66.0 2008-04-01  ...               0   \n",
       "18124           NaN          NaN  60.0 2008-04-01  ...               0   \n",
       "20243           NaN          NaN  47.0 2008-04-01  ...           17270   \n",
       "20267           NaN          NaN  49.0 2008-04-01  ...               0   \n",
       "27080           NaN          NaN  53.0 2008-04-01  ...             200   \n",
       "27097           NaN          NaN   NaN 2008-04-01  ...               0   \n",
       "29191           NaN          NaN  46.0 2008-04-01  ...               0   \n",
       "29194           NaN          NaN  50.0 2008-04-01  ...               0   \n",
       "35984           NaN          NaN  52.0 2008-04-01  ...               0   \n",
       "35985           NaN          NaN  52.0 2008-04-01  ...               0   \n",
       "35986           NaN          NaN  52.0 2008-04-01  ...             888   \n",
       "35988           NaN          NaN  44.0 2008-04-01  ...               0   \n",
       "36001           NaN          NaN  63.0 2008-04-01  ...               0   \n",
       "38115           NaN          NaN  45.0 2008-04-01  ...               0   \n",
       "45040           NaN          NaN  49.0 2008-04-01  ...               0   \n",
       "45041           NaN          NaN  54.0 2008-04-01  ...               0   \n",
       "54062           NaN          NaN  42.0 2008-04-01  ...               0   \n",
       "\n",
       "       Eli_Add_Point_Sum  L1Y_ELi_Add_Points  Points_Sum  L1Y_Points_Sum  \\\n",
       "0                      0                   0        7035            7035   \n",
       "4                      0                   0        2329             264   \n",
       "13                     0                   0       13725               0   \n",
       "2018                   0                   0        2188            1000   \n",
       "2117                   0                   0        3669             810   \n",
       "8952                   0                   0        1216            1216   \n",
       "8953                   0                   0        1596               0   \n",
       "8981                   0                   0        4787               0   \n",
       "18123               1346                1346       36630           34722   \n",
       "18124                  0                   0        2151             500   \n",
       "20243              17270                4708       30934            5192   \n",
       "20267                  0                   0        9392            7018   \n",
       "27080                200                   0        5101            1677   \n",
       "27097                  0                   0       12965            1292   \n",
       "29191                  0                   0       10229            5270   \n",
       "29194                  0                   0        1000               0   \n",
       "35984                  0                   0        4700            1700   \n",
       "35985                  0                   0        2000            1000   \n",
       "35986                888                   0       24843           13034   \n",
       "35988                  0                   0        1332            1332   \n",
       "36001                  0                   0         870             870   \n",
       "38115                  0                   0        1994            1994   \n",
       "45040                  0                   0       44113           15371   \n",
       "45041                  0                   0        1152               0   \n",
       "54062                  0                   0        2668             506   \n",
       "\n",
       "       Ration_L1Y_Flight_Count  Ration_P1Y_Flight_Count  Ration_P1Y_BPS  \\\n",
       "0                     1.000000                 0.000000        0.000000   \n",
       "4                     0.333333                 0.666667        0.886266   \n",
       "13                    0.000000                 1.000000        0.999927   \n",
       "2018                  0.666667                 0.333333        0.542714   \n",
       "2117                  0.285714                 0.714286        0.779019   \n",
       "8952                  1.000000                 0.000000        0.000000   \n",
       "8953                  0.000000                 1.000000        0.999374   \n",
       "8981                  0.000000                 1.000000        0.999791   \n",
       "18123                 0.952381                 0.047619        0.054074   \n",
       "18124                 0.250000                 0.750000        0.767193   \n",
       "20243                 0.083333                 0.916667        0.964508   \n",
       "20267                 0.789474                 0.210526        0.252741   \n",
       "27080                 0.529412                 0.470588        0.657691   \n",
       "27097                 0.086957                 0.913043        0.900278   \n",
       "29191                 0.352941                 0.647059        0.484751   \n",
       "29194                 0.000000                 1.000000        0.999001   \n",
       "35984                 0.400000                 0.600000        0.638162   \n",
       "35985                 0.500000                 0.500000        0.499750   \n",
       "35986                 0.555556                 0.444444        0.455877   \n",
       "35988                 1.000000                 0.000000        0.000000   \n",
       "36001                 1.000000                 0.000000        0.000000   \n",
       "38115                 1.000000                 0.000000        0.000000   \n",
       "45040                 0.347826                 0.652174        0.651539   \n",
       "45041                 0.000000                 1.000000        0.999133   \n",
       "54062                 0.200000                 0.800000        0.810041   \n",
       "\n",
       "       Ration_L1Y_BPS  Point_Chg_NotFlight  \n",
       "0            0.999858                    0  \n",
       "4            0.113305                    0  \n",
       "13           0.000000                    0  \n",
       "2018         0.456830                    0  \n",
       "2117         0.220708                    0  \n",
       "8952         0.999178                    0  \n",
       "8953         0.000000                    0  \n",
       "8981         0.000000                    0  \n",
       "18123        0.945898                    0  \n",
       "18124        0.232342                    0  \n",
       "20243        0.035419                   37  \n",
       "20267        0.747152                    1  \n",
       "27080        0.342105                    1  \n",
       "27097        0.099645                    0  \n",
       "29191        0.515152                    0  \n",
       "29194        0.000000                    0  \n",
       "35984        0.361625                    0  \n",
       "35985        0.499750                    0  \n",
       "35986        0.544081                    1  \n",
       "35988        0.999250                    0  \n",
       "36001        0.998852                    0  \n",
       "38115        0.999499                    0  \n",
       "45040        0.348438                    1  \n",
       "45041        0.000000                    0  \n",
       "54062        0.189584                    0  \n",
       "\n",
       "[25 rows x 63 columns]"
      ]
     },
     "execution_count": 2,
     "metadata": {},
     "output_type": "execute_result"
    }
   ],
   "source": [
    "# 对地点位置数据规整\n",
    "df[(df['WORK_COUNTRY'].isnull() == True) & (df['WORK_CITY'].isnull() == False)]\n",
    "## 发现一个在尼日利亚工作的（国家标注成了省份），对其进行标注。\n",
    "df[(df['WORK_COUNTRY'].isnull() == True) & (df['WORK_PROVINCE'].isnull() == False)]\n",
    "## 两次探索数据结果相同，对其标注为NG.\n",
    "## 其他数据均为work地点全部缺失，共有24个完全缺失地点的数据。\n",
    "df.loc[(df['WORK_COUNTRY'].isnull() == True) & (df['WORK_CITY'].isnull() == False),'WORK_COUNTRY'] = 'NG'\n",
    "\n",
    "df[df['WORK_COUNTRY'].isnull() == True]"
   ]
  },
  {
   "cell_type": "code",
   "execution_count": 2,
   "metadata": {},
   "outputs": [
    {
     "data": {
      "text/plain": [
       "62044"
      ]
     },
     "execution_count": 2,
     "metadata": {},
     "output_type": "execute_result"
    }
   ],
   "source": [
    "# 然后我们先清洗无效数据再对工作地点进一步统计\n",
    "## 这里我们考虑可能存在的僵尸数据\n",
    "## 进行数据的逻辑判断：票价为空，但是总飞行公里数大于0\n",
    "## 首先对与票价为空的数据，我们直接去除\n",
    "df = df[df['EXPENSE_SUM_YR_1'].notnull()&df['EXPENSE_SUM_YR_2'].notnull()]\n",
    "\n",
    "## 然后丢弃票价为0，总飞行公里数大于0的数据\n",
    "rule1 = df['EXPENSE_SUM_YR_1'] > 0\n",
    "rule2 = df['EXPENSE_SUM_YR_2'] > 0\n",
    "rule3 = (df['SEG_KM_SUM'] == 0) & (df['avg_discount'] == 0)\n",
    "df = df[rule1 | rule2 | rule3]\n",
    "len(df)\n",
    "##相比之前删除了62988 - 62044 = 944条数据"
   ]
  },
  {
   "cell_type": "code",
   "execution_count": 3,
   "metadata": {},
   "outputs": [],
   "source": [
    "## ------------------remind:在此之前运行上面两块代码--------------------------------------\n",
    "## 在此基础上我们考虑对WORK_CITY数据的修正\n",
    "city_list = list(df['WORK_CITY'])\n",
    "#print(city_list)\n",
    "\n",
    "import re\n",
    "# city数据有些是float类型，需要进行后期统一\n",
    "province_list = ['河北','山西','辽宁','吉林','黑龙江','江苏','浙江','安徽','福建','江西','山东','河南','湖北','湖南',\n",
    "                 '广东','海南','四川','贵州','云南','陕西','甘肃','青海','台湾']\n",
    "province_extend_list = [province + '省'for province in province_list]\n",
    "province = tuple(province_list + province_extend_list)\n",
    "for i in range(len(city_list)):\n",
    "    #开头尾部字符串字符的切除\n",
    "    if type(city_list[i]) == str:\n",
    "        city_list[i].strip()\n",
    "        if city_list[i].endswith('\\u3000'):\n",
    "            #print(city_list[i])\n",
    "            if  len(city_list[i])>2 and u'\\u4e00' <= city_list[i][2] <= u'\\u9fff':\n",
    "                city_list[i] = city_list[i][0:3]\n",
    "            else:\n",
    "                city_list[i] = city_list[i][0:2]\n",
    "            \n",
    "    #尾部带市和不带市条目的合一\n",
    "    if type(city_list[i]) == str and city_list[i].endswith('市'):\n",
    "        city_list[i] = city_list[i][:-1]\n",
    "        ## 发现其中混杂了部分日本城市还有哈尔滨和乌鲁木齐的多种写法\n",
    "        ## 还有些城市本身就是*市结尾被意外剔除,总共有哈市、乌市、北市、沙市等\n",
    "        if len(city_list[i]) == 1:\n",
    "            if city_list[i] == '哈':\n",
    "                city_list[i] = '哈尔滨'\n",
    "            elif city_list[i] == '乌':\n",
    "                city_list[i] = '乌鲁木齐'\n",
    "            else:\n",
    "                city_list[i] = city_list[i] + '市'\n",
    "        \n",
    "    # 还有些城市以**省开头或者直接标注成了省份\n",
    "    if type(city_list[i]) == str and city_list[i].startswith(province):\n",
    "        #根据长度分割\n",
    "        #混进了一个奇怪的黑龙江省\n",
    "        if len(city_list[i])>=4 and city_list[i] not in list(province):\n",
    "            if '省' in city_list[i]:\n",
    "                city_list[i] = city_list[i][3:]\n",
    "            else:\n",
    "                city_list[i] = city_list[i][2:]\n",
    "    \n",
    "    #还有一些奇怪的pattern 如英文城市和多出来的字符\\u3000\n",
    "    if type(city_list[i]) == str:\n",
    "        #大部分英文城市的确是英文，少部分是HK,BEIJING, Shanghai, Harbin等基本清空\n",
    "        if len(re.findall('[a-zA-Z0-9?]+', city_list[i]))>0:\n",
    "            if city_list[i] in ['HK','HONG KONG','Hong Kong','HKG','HONGKONG','H.K.','XIANGGANG','HONG KONG`','hong kong','hk','hkg','HONG KONG ','Hongkong']:\n",
    "                city_list[i] = '香港'\n",
    "            elif city_list[i] in ['XIAN']:\n",
    "                city_list[i] = '西安'\n",
    "            elif city_list[i] in ['beijing','BEIJING','Beijing','PEK']:\n",
    "                city_list[i] = '北京'\n",
    "            elif city_list[i] in ['HRB']:\n",
    "                city_list[i] = '哈尔滨'\n",
    "            elif city_list[i] in ['Shanghai','SHANGHAI','shanghai']:\n",
    "                city_list[i] = '上海'\n",
    "            elif city_list[i] in ['DA LIAN','DaLian']:\n",
    "                city_list[i] = '大连'\n",
    "            elif city_list[i] in ['NANJING','NAN JING']:\n",
    "                city_list[i] = '南京'\n",
    "            elif city_list[i] in ['TIANJIN']:\n",
    "                city_list[i] = '天津'\n",
    "            elif city_list[i] in ['XIAN']:\n",
    "                city_list[i] = '西安'\n",
    "            elif city_list[i] in ['GUIYANG']:\n",
    "                city_list[i] = '贵阳'\n",
    "            elif city_list[i] in ['GUANGZHOU','guangzhou','GUANGZGOU']:\n",
    "                city_list[i] = '广州'\n",
    "            elif city_list[i] in ['Suzhou']:\n",
    "                city_list[i] = '苏州'\n",
    "            elif city_list[i] in ['CHENGDU']:\n",
    "                city_list[i] = '成都'\n",
    "            elif city_list[i] in ['澳?','Macau']:\n",
    "                city_list[i] = '澳门'\n",
    "            #print(city_list[i])\n",
    "    #城市根据地区补全\n",
    "    if df.iloc[i]['WORK_COUNTRY'] == 'HK':\n",
    "        city_list[i] = '香港'\n",
    "    if df.iloc[i]['WORK_COUNTRY'] == 'MO':\n",
    "        city_list[i] = '澳门'\n",
    "#print(city_list)\n",
    "## 这样我们基本完成了对空值数据和部分异常数据的处理\n",
    "\n",
    "\n",
    "## 将这个数据整理成城市数据，我们可以对中国地图上进行标点。\n",
    "## 这时候需要重新生成新的处理过的数据集\n",
    "df['WORK_CITY'] = pd.Series(city_list)"
   ]
  },
  {
   "cell_type": "code",
   "execution_count": 35,
   "metadata": {},
   "outputs": [
    {
     "name": "stdout",
     "output_type": "stream",
     "text": [
      "广州        10315\n",
      "北京        8184 \n",
      "上海        5127 \n",
      "深圳        3870 \n",
      "沈阳        2393 \n",
      "大连        2068 \n",
      "长春        1904 \n",
      "乌鲁木齐      1805 \n",
      "nan       1713 \n",
      "武汉        1348 \n",
      "哈尔滨       1257 \n",
      "香港        1074 \n",
      "郑州        831  \n",
      "长沙        696  \n",
      "佛山        690  \n",
      ".         650  \n",
      "东莞        574  \n",
      "杭州        536  \n",
      "珠海        532  \n",
      "南京        515  \n",
      "汕头        464  \n",
      "贵阳        453  \n",
      "成都        446  \n",
      "青岛        397  \n",
      "厦门        384  \n",
      "西安        355  \n",
      "天津        339  \n",
      "重庆        288  \n",
      "南宁        285  \n",
      "中山        273  \n",
      "海口        260  \n",
      "顺德        259  \n",
      "番禺        232  \n",
      "湛江        228  \n",
      "昆明        225  \n",
      "苏州        167  \n",
      "南海        150  \n",
      "福州        134  \n",
      "大庆        134  \n",
      "库尔勒       133  \n",
      "延吉        133  \n",
      "鞍山        131  \n",
      "桂林        125  \n",
      "济南        125  \n",
      "温州        119  \n",
      "惠州        112  \n",
      "宁波        111  \n",
      "江门        105  \n",
      "合肥        102  \n",
      "本溪        100  \n"
     ]
    }
   ],
   "source": [
    "# 对 城市数据进行分析\n",
    "counts = {}\n",
    "for place in city_list:\n",
    "    counts[place] = counts.get(place, 0) + 1\n",
    "    \n",
    "items = list(counts.items())\n",
    "items.sort(key = lambda x:x[1], reverse = True)\n",
    "#查看会员分布最多的50个城市\n",
    "for i in range(50):\n",
    "    place, count = items[i]\n",
    "    print(\"{0:<10}{1:<5}\".format(place, count))"
   ]
  },
  {
   "cell_type": "code",
   "execution_count": 44,
   "metadata": {},
   "outputs": [
    {
     "name": "stderr",
     "output_type": "stream",
     "text": [
      "C:\\Users\\19700\\Anaconda3\\lib\\site-packages\\pyecharts\\charts\\chart.py:14: PendingDeprecationWarning: pyecharts 所有图表类型将在 v1.9.0 版本开始强制使用 ChartItem 进行数据项配置 :)\n",
      "  super().__init__(init_opts=init_opts)\n",
      "C:\\Users\\19700\\Anaconda3\\lib\\site-packages\\pyecharts\\charts\\chart.py:14: PendingDeprecationWarning: pyecharts 所有图表类型将在 v1.9.0 版本开始强制使用 ChartItem 进行数据项配置 :)\n",
      "  super().__init__(init_opts=init_opts)\n"
     ]
    }
   ],
   "source": [
    "from pyecharts import options as opts\n",
    "from pyecharts.charts import Geo\n",
    "from pyecharts.globals import ChartType\n",
    "city_distribution = dict(items)\n",
    "del city_distribution[np.nan]\n",
    "del city_distribution['.']\n",
    "city = list(city_distribution.keys())\n",
    "values = list(city_distribution.values())\n",
    "geo = Geo(init_opts = opts.InitOpts(width = '1200px', height = '600px')).add_schema(maptype = 'china').add('geo',[list(z) for z in zip(city[0:50], values[0:50])], type_ = ChartType.HEATMAP).set_series_opts(\n",
    "            label_opts = opts.LabelOpts(is_show = False)).set_global_opts(visualmap_opts= opts.VisualMapOpts(min_ = 0, max_ = 10000), \n",
    "            title_opts = opts.TitleOpts(title = '会员数据', subtitle = '中国')).render('中国地图散点.html')\n",
    "geo = Geo(init_opts = opts.InitOpts(width = '1200px', height = '600px')).add_schema(maptype = 'china').add('geo',[list(z) for z in zip(city[0:50], values[0:50])]).set_series_opts(\n",
    "            label_opts = opts.LabelOpts(is_show = False)).set_global_opts(visualmap_opts= opts.VisualMapOpts(min_ = 0, max_ = 10000), \n",
    "            title_opts = opts.TitleOpts(title = '会员数据', subtitle = '中国')).render('中国地图散点2.html')"
   ]
  },
  {
   "cell_type": "code",
   "execution_count": 5,
   "metadata": {},
   "outputs": [
    {
     "name": "stdout",
     "output_type": "stream",
     "text": [
      "广东        18241\n",
      "北京        8095 \n",
      "辽宁        4939 \n",
      "上海        4847 \n",
      "新疆        2418 \n",
      "吉林        2315 \n",
      "湖北        1525 \n",
      "黑龙江       1487 \n",
      "河南        1267 \n",
      "江苏        1171 \n",
      "浙江        1126 \n",
      "香港        1018 \n",
      "湖南        949  \n",
      "山东        787  \n",
      "福建        739  \n",
      "四川        559  \n",
      "广西        548  \n",
      "贵州        499  \n",
      "陕西        386  \n",
      "台湾        328  \n",
      "海南        326  \n",
      "天津        313  \n",
      "重庆        265  \n",
      "云南        250  \n",
      "河北        205  \n",
      "安徽        154  \n",
      "青海        96   \n",
      "江西        94   \n",
      "山西        88   \n",
      "内蒙古       85   \n",
      "甘肃        85   \n",
      "澳门        34   \n",
      "宁夏        29   \n",
      "西藏        15   \n"
     ]
    }
   ],
   "source": [
    "# 对省份数据进行分析\n",
    "##有部分省份标注成了对应的城市，我们不考虑这种情况\n",
    "df_province = list(df['WORK_PROVINCE'])\n",
    "province_list = ['河北','山西','辽宁','吉林','黑龙江','江苏','浙江','安徽','福建','江西','山东','河南','湖北','湖南','香港','澳门',\n",
    "                 '广东','海南','四川','贵州','云南','陕西','甘肃','青海','台湾','内蒙古','广西','西藏','宁夏','新疆','北京','天津','重庆','上海']\n",
    "\n",
    "counts = {}\n",
    "#当国家地区与省市数据冲突的时候，我们以COUNTRY数据为准\n",
    "for i in range(len(df_province)):\n",
    "    if df.iloc[i]['WORK_COUNTRY'] == 'TW':\n",
    "        df_province[i] = '台湾'\n",
    "    if df.iloc[i]['WORK_COUNTRY'] == 'HK':\n",
    "        df_province[i] = '香港'\n",
    "    if df.iloc[i]['WORK_COUNTRY'] == 'MO':\n",
    "        df_province[i] = '澳门'\n",
    "    if type(df_province[i]) == str:\n",
    "        for province in province_list:\n",
    "            if df_province[i].find(province) != -1:\n",
    "                counts[province] = counts.get(province, 0) + 1\n",
    "                break\n",
    "\n",
    "items = list(counts.items())\n",
    "items.sort(key = lambda x:x[1], reverse = True)\n",
    "for i in range(len(items)):\n",
    "    place, count = items[i]\n",
    "    print(\"{0:<10}{1:<5}\".format(place, count))"
   ]
  },
  {
   "cell_type": "code",
   "execution_count": 51,
   "metadata": {},
   "outputs": [],
   "source": [
    "# 对中国数据按省市进行可视化处理 \n",
    "\n",
    "province_distribution = dict(items)\n",
    "from pyecharts import Map\n",
    "\n",
    "province = list(province_distribution.keys())\n",
    "values = list(province_distribution.values())\n",
    "map1 = Map('会员数据','中国',width = 1200, height = 600)\n",
    "map1.add(\"中国\", province, values, visual_range = [0, 20000], maptype = 'china', is_visualmap = True, visual_text_color = \"#000\")\n",
    "map1.render(path = '中国地图.html')\n",
    "\n",
    "#广东太多了影响分析\n",
    "map2 = Map('会员数据','中国',width = 1200, height = 600)\n",
    "map2.add(\"中国\", province[1:], values[1:], visual_range = [0, 9000], maptype = 'china', is_visualmap = True, visual_text_color = \"#000\")\n",
    "map2.render(path = '中国地图除广东.html')"
   ]
  },
  {
   "cell_type": "code",
   "execution_count": 8,
   "metadata": {},
   "outputs": [
    {
     "name": "stdout",
     "output_type": "stream",
     "text": [
      "CN        56847\n",
      "HK        986  \n",
      "JP        872  \n",
      "KR        787  \n",
      "US        568  \n",
      "SG        278  \n",
      "TW        278  \n",
      "AU        271  \n",
      "MY        161  \n",
      "PH        137  \n",
      "FR        102  \n",
      "ID        81   \n",
      "TH        64   \n",
      "CA        54   \n",
      "NL        49   \n",
      "DE        46   \n",
      "VN        45   \n",
      "BE        41   \n",
      "VT        30   \n",
      "MO        29   \n",
      "nan       25   \n",
      "IT        22   \n",
      "UK        21   \n",
      "PK        20   \n",
      "IN        15   \n",
      "KH        14   \n",
      "AN        12   \n",
      "AE        11   \n",
      "CH        10   \n",
      "ES        7    \n",
      "MA        6    \n",
      "NG        6    \n",
      "AT        5    \n",
      "AA        5    \n",
      "IL        5    \n",
      "MX        5    \n",
      "SE        5    \n",
      "NZ        5    \n",
      "GB        5    \n",
      "IR        4    \n",
      "ZA        4    \n",
      "NI        4    \n",
      "AR        3    \n",
      "GE        3    \n",
      "KA        3    \n",
      "HU        3    \n",
      "FI        3    \n",
      "DK        3    \n",
      "UZ        3    \n",
      "BD        2    \n",
      "EG        2    \n",
      "PT        2    \n",
      "HN        2    \n",
      "SN        2    \n",
      "NE        2    \n",
      "BR        2    \n",
      "MV        2    \n",
      "SI        2    \n",
      "AZ        2    \n",
      "TR        2    \n",
      "CY        2    \n",
      "LB        2    \n",
      "SA        2    \n",
      "UA        2    \n",
      "KZ        2    \n",
      "UY        2    \n",
      "LA        2    \n",
      "SK        1    \n",
      "AS        1    \n",
      "PR        1    \n",
      "KO        1    \n",
      "FL        1    \n",
      "MS        1    \n",
      "PS        1    \n",
      "RO        1    \n",
      "PA        1    \n",
      "FA        1    \n",
      "BG        1    \n",
      "CR        1    \n",
      "FO        1    \n",
      "MN        1    \n",
      "GU        1    \n",
      "IE        1    \n",
      "GL        1    \n",
      "KE        1    \n",
      "UV        1    \n",
      "ZW        1    \n",
      "MZ        1    \n",
      "CC        1    \n",
      "GN        1    \n",
      "PN        1    \n",
      "BZ        1    \n",
      "BB        1    \n",
      "PE        1    \n",
      "TK        1    \n",
      "BS        1    \n",
      "YE        1    \n",
      "GH        1    \n",
      "AB        1    \n",
      "PP        1    \n",
      "GT        1    \n",
      "NO        1    \n",
      "BN        1    \n",
      "CD        1    \n",
      "OM        1    \n",
      "CM        1    \n",
      "RE        1    \n",
      "SW        1    \n",
      "SU        1    \n",
      "EC        1    \n",
      "BI        1    \n",
      "CL        1    \n"
     ]
    }
   ],
   "source": [
    "## 对国家和地区数据进行分析，为此我们需要手动引入国家代码进行调整。\n",
    "df_country = list(df['WORK_COUNTRY'])\n",
    "country_list = set(df_country)\n",
    "counts = {}\n",
    "for country in df_country:\n",
    "    # 有些可疑的中国替换项和中文名字\n",
    "    if country in ['中','北','沈','cn']:\n",
    "        country = 'CN'\n",
    "    if country in ['芬']:\n",
    "        country = 'FI'\n",
    "    counts[country] = counts.get(country, 0) + 1\n",
    "                \n",
    "items = list(counts.items())\n",
    "items.sort(key = lambda x:x[1], reverse = True)\n",
    "for i in range(len(items)):\n",
    "    place, count = items[i]\n",
    "    print(\"{0:<10}{1:<5}\".format(place, count))\n",
    "## 从国家代码看最多的还是中国大陆共有56833/63000的地方。\n",
    "## 这里HK比统计省份少的原因是因为部分常居住在香港（WORK_PROVINCE = HK)的人填COUNTRY = CN.由于所占数目影响较少，我们不考虑这种情况。\n"
   ]
  },
  {
   "cell_type": "code",
   "execution_count": 9,
   "metadata": {},
   "outputs": [
    {
     "data": {
      "text/plain": [
       "112"
      ]
     },
     "execution_count": 9,
     "metadata": {},
     "output_type": "execute_result"
    }
   ],
   "source": [
    "len(items)"
   ]
  },
  {
   "cell_type": "code",
   "execution_count": 41,
   "metadata": {},
   "outputs": [
    {
     "name": "stdout",
     "output_type": "stream",
     "text": [
      "<class 'pandas.core.frame.DataFrame'>\n",
      "RangeIndex: 247 entries, 0 to 246\n",
      "Data columns (total 3 columns):\n",
      " #   Column        Non-Null Count  Dtype \n",
      "---  ------        --------------  ----- \n",
      " 0   Country_name  247 non-null    object\n",
      " 1   code_2digit   246 non-null    object\n",
      " 2   code_3digit   247 non-null    object\n",
      "dtypes: object(3)\n",
      "memory usage: 5.9+ KB\n",
      "<class 'pandas.core.frame.DataFrame'>\n",
      "RangeIndex: 247 entries, 0 to 246\n",
      "Data columns (total 3 columns):\n",
      " #   Column        Non-Null Count  Dtype \n",
      "---  ------        --------------  ----- \n",
      " 0   Country_name  247 non-null    object\n",
      " 1   code_2digit   247 non-null    object\n",
      " 2   code_3digit   247 non-null    object\n",
      "dtypes: object(3)\n",
      "memory usage: 5.9+ KB\n"
     ]
    },
    {
     "data": {
      "text/plain": [
       "['China',\n",
       " 'Hong Kong, SAR China',\n",
       " 'Japan',\n",
       " 'Korea',\n",
       " 'United States',\n",
       " 'Singapore',\n",
       " 'Taiwan, Republic of China',\n",
       " 'Australia',\n",
       " 'Malaysia',\n",
       " 'Philippines',\n",
       " 'France',\n",
       " 'Indonesia',\n",
       " 'Thailand',\n",
       " 'Canada',\n",
       " 'Netherlands',\n",
       " 'Germany',\n",
       " 'Viet Nam',\n",
       " 'Belgium',\n",
       " 'VT',\n",
       " 'Macao, SAR China',\n",
       " nan,\n",
       " 'Italy',\n",
       " 'UK',\n",
       " 'Pakistan',\n",
       " 'India',\n",
       " 'Cambodia',\n",
       " 'Netherlands Antilles',\n",
       " 'United Arab Emirates',\n",
       " 'Switzerland',\n",
       " 'Spain',\n",
       " 'Morocco',\n",
       " 'Nigeria',\n",
       " 'Austria',\n",
       " 'AA',\n",
       " 'Israel',\n",
       " 'Mexico',\n",
       " 'Sweden',\n",
       " 'New Zealand',\n",
       " 'United Kingdom',\n",
       " 'Iran, Islamic Republic of',\n",
       " 'South Africa',\n",
       " 'Nicaragua',\n",
       " 'Argentina',\n",
       " 'Georgia',\n",
       " 'KA',\n",
       " 'Hungary',\n",
       " 'Finland',\n",
       " 'Denmark',\n",
       " 'Uzbekistan',\n",
       " 'Bangladesh',\n",
       " 'Egypt',\n",
       " 'Portugal',\n",
       " 'Honduras',\n",
       " 'Senegal',\n",
       " 'Niger',\n",
       " 'Brazil',\n",
       " 'Maldives',\n",
       " 'Slovenia',\n",
       " 'Azerbaijan',\n",
       " 'Turkey',\n",
       " 'Cyprus',\n",
       " 'Lebanon',\n",
       " 'Saudi Arabia',\n",
       " 'Ukraine',\n",
       " 'Kazakhstan',\n",
       " 'Uruguay',\n",
       " 'Lao PDR',\n",
       " 'Slovakia',\n",
       " 'American Samoa',\n",
       " 'Puerto Rico',\n",
       " 'KO',\n",
       " 'FL',\n",
       " 'Montserrat',\n",
       " 'Palestinian Territory',\n",
       " 'Romania',\n",
       " 'Panama',\n",
       " 'FA',\n",
       " 'Bulgaria',\n",
       " 'Costa Rica',\n",
       " 'Faroe Islands',\n",
       " 'Mongolia',\n",
       " 'Guam',\n",
       " 'Ireland',\n",
       " 'Greenland',\n",
       " 'Kenya',\n",
       " 'UV',\n",
       " 'Zimbabwe',\n",
       " 'Mozambique',\n",
       " 'Cocos (Keeling) Islands',\n",
       " 'Guinea',\n",
       " 'Pitcairn',\n",
       " 'Belize',\n",
       " 'Barbados',\n",
       " 'Peru',\n",
       " 'Tokelau',\n",
       " 'Bahamas',\n",
       " 'Yemen',\n",
       " 'Ghana',\n",
       " 'AB',\n",
       " 'PP',\n",
       " 'Guatemala',\n",
       " 'Norway',\n",
       " 'Brunei Darussalam',\n",
       " 'Congo, (Kinshasa)',\n",
       " 'Oman',\n",
       " 'Cameroon',\n",
       " 'Réunion',\n",
       " 'SW',\n",
       " 'SU',\n",
       " 'Ecuador',\n",
       " 'Burundi',\n",
       " 'Chile']"
      ]
     },
     "execution_count": 41,
     "metadata": {},
     "output_type": "execute_result"
    }
   ],
   "source": [
    "## 在对国家地区进行染色之前，我们需要手动替换国家代码与国家名字匹配\n",
    "## 通过**网上的数据集country_code.csv，建立国家代码与名字的映射，但是有些会员数据集的地区无法对应真实国家，由于数据较小，直接省略。\n",
    "country_code = pd.read_csv(\"../Data/country_code.csv\")\n",
    "country_code.info()\n",
    "#纳米比亚被识别为NA了\n",
    "country_code.loc[country_code['code_2digit'].isnull() == True,'code_2digit'] = 'NA'\n",
    "country_code.info()\n",
    "Country_name = list(country_code['Country_name'])\n",
    "Country_code = list(country_code['code_2digit'])\n",
    "Country_map = [(Country_code[i], Country_name[i]) for i in range(len(Country_name))]\n",
    "\n",
    "Country_map = dict(Country_map)\n",
    "country_name = []\n",
    "country_distribution = dict(items)\n",
    "\n",
    "\n",
    "for country in list(country_distribution.keys()):\n",
    "    try:\n",
    "        country_name.append(Country_map[country])\n",
    "    except KeyError:\n",
    "        country_name.append(country)\n",
    "country_name"
   ]
  },
  {
   "cell_type": "code",
   "execution_count": 48,
   "metadata": {},
   "outputs": [],
   "source": [
    "## 对国家数据的可视化处理\n",
    "#加上港澳台的数据因为画图只算中国\n",
    "country_distribution['CN'] = country_distribution['CN'] + country_distribution['TW'] + country_distribution['HK'] + country_distribution['MO']\n",
    "country_values = list(country_distribution.values())\n",
    "map3 = Map('会员数据','世界',width = 2000, height = 1000)\n",
    "map3.add('世界', country_name, country_values, visual_range = [0, 60000], maptype = 'world', is_visualmap = True, visual_text_color = '#000')\n",
    "map3.render(path = '世界地图.html')\n",
    "#太多了把中国数据去掉，以显示其他国家的会员分布\n",
    "map4 = Map('会员数据','世界除中国',width = 2000, height = 1000)\n",
    "map4.add('世界', country_name[1:], country_values[1:], visual_range = [0, 1000], maptype = 'world', is_visualmap = True, visual_text_color = '#000')\n",
    "map4.render(path = '世界地图除中国.html')"
   ]
  },
  {
   "cell_type": "code",
   "execution_count": 197,
   "metadata": {},
   "outputs": [],
   "source": [
    "## 对样本数据重新进行描述\n",
    "## 重新看一下基本信息\n",
    "data_summary = df.describe(percentiles = [], include = 'all').T\n",
    "data_summary['null'] = len(df) - data_summary['count']\n",
    "\n",
    "data_summary[0:11]\n",
    "df.to_excel(\"../Data/raw_afterplace.xlsx\")"
   ]
  },
  {
   "cell_type": "code",
   "execution_count": 3,
   "metadata": {},
   "outputs": [
    {
     "data": {
      "text/html": [
       "<div>\n",
       "<style scoped>\n",
       "    .dataframe tbody tr th:only-of-type {\n",
       "        vertical-align: middle;\n",
       "    }\n",
       "\n",
       "    .dataframe tbody tr th {\n",
       "        vertical-align: top;\n",
       "    }\n",
       "\n",
       "    .dataframe thead th {\n",
       "        text-align: right;\n",
       "    }\n",
       "</style>\n",
       "<table border=\"1\" class=\"dataframe\">\n",
       "  <thead>\n",
       "    <tr style=\"text-align: right;\">\n",
       "      <th></th>\n",
       "      <th>count</th>\n",
       "      <th>unique</th>\n",
       "      <th>top</th>\n",
       "      <th>freq</th>\n",
       "      <th>mean</th>\n",
       "      <th>std</th>\n",
       "      <th>min</th>\n",
       "      <th>50%</th>\n",
       "      <th>max</th>\n",
       "      <th>first</th>\n",
       "      <th>last</th>\n",
       "      <th>null</th>\n",
       "    </tr>\n",
       "  </thead>\n",
       "  <tbody>\n",
       "    <tr>\n",
       "      <th>Unnamed: 0</th>\n",
       "      <td>62044</td>\n",
       "      <td>NaN</td>\n",
       "      <td>NaN</td>\n",
       "      <td>NaN</td>\n",
       "      <td>31021.5</td>\n",
       "      <td>17910.7</td>\n",
       "      <td>0</td>\n",
       "      <td>31021.5</td>\n",
       "      <td>62043</td>\n",
       "      <td>NaT</td>\n",
       "      <td>NaT</td>\n",
       "      <td>0</td>\n",
       "    </tr>\n",
       "    <tr>\n",
       "      <th>Unnamed: 0.1</th>\n",
       "      <td>62044</td>\n",
       "      <td>NaN</td>\n",
       "      <td>NaN</td>\n",
       "      <td>NaN</td>\n",
       "      <td>31484.2</td>\n",
       "      <td>18188.7</td>\n",
       "      <td>0</td>\n",
       "      <td>31475.5</td>\n",
       "      <td>62987</td>\n",
       "      <td>NaT</td>\n",
       "      <td>NaT</td>\n",
       "      <td>0</td>\n",
       "    </tr>\n",
       "    <tr>\n",
       "      <th>MEMBER_NO</th>\n",
       "      <td>62044</td>\n",
       "      <td>62044</td>\n",
       "      <td>‘00056592</td>\n",
       "      <td>1</td>\n",
       "      <td>NaN</td>\n",
       "      <td>NaN</td>\n",
       "      <td>NaN</td>\n",
       "      <td>NaN</td>\n",
       "      <td>NaN</td>\n",
       "      <td>NaT</td>\n",
       "      <td>NaT</td>\n",
       "      <td>0</td>\n",
       "    </tr>\n",
       "    <tr>\n",
       "      <th>FFP_DATE</th>\n",
       "      <td>62044</td>\n",
       "      <td>3070</td>\n",
       "      <td>2005-01-13 00:00:00</td>\n",
       "      <td>182</td>\n",
       "      <td>NaN</td>\n",
       "      <td>NaN</td>\n",
       "      <td>NaN</td>\n",
       "      <td>NaN</td>\n",
       "      <td>NaN</td>\n",
       "      <td>1998-11-01</td>\n",
       "      <td>2007-03-31</td>\n",
       "      <td>0</td>\n",
       "    </tr>\n",
       "    <tr>\n",
       "      <th>FIRST_FLIGHT_DATE</th>\n",
       "      <td>62042</td>\n",
       "      <td>3408</td>\n",
       "      <td>2007-02-16 00:00:00</td>\n",
       "      <td>92</td>\n",
       "      <td>NaN</td>\n",
       "      <td>NaN</td>\n",
       "      <td>NaN</td>\n",
       "      <td>NaN</td>\n",
       "      <td>NaN</td>\n",
       "      <td>1998-11-03</td>\n",
       "      <td>2009-05-30</td>\n",
       "      <td>2</td>\n",
       "    </tr>\n",
       "    <tr>\n",
       "      <th>GENDER</th>\n",
       "      <td>62041</td>\n",
       "      <td>2</td>\n",
       "      <td>男</td>\n",
       "      <td>47484</td>\n",
       "      <td>NaN</td>\n",
       "      <td>NaN</td>\n",
       "      <td>NaN</td>\n",
       "      <td>NaN</td>\n",
       "      <td>NaN</td>\n",
       "      <td>NaT</td>\n",
       "      <td>NaT</td>\n",
       "      <td>3</td>\n",
       "    </tr>\n",
       "    <tr>\n",
       "      <th>FFP_TIER</th>\n",
       "      <td>62044</td>\n",
       "      <td>NaN</td>\n",
       "      <td>NaN</td>\n",
       "      <td>NaN</td>\n",
       "      <td>4.10365</td>\n",
       "      <td>0.376322</td>\n",
       "      <td>4</td>\n",
       "      <td>4</td>\n",
       "      <td>6</td>\n",
       "      <td>NaT</td>\n",
       "      <td>NaT</td>\n",
       "      <td>0</td>\n",
       "    </tr>\n",
       "    <tr>\n",
       "      <th>WORK_CITY</th>\n",
       "      <td>59434</td>\n",
       "      <td>2899</td>\n",
       "      <td>广州</td>\n",
       "      <td>10176</td>\n",
       "      <td>NaN</td>\n",
       "      <td>NaN</td>\n",
       "      <td>NaN</td>\n",
       "      <td>NaN</td>\n",
       "      <td>NaN</td>\n",
       "      <td>NaT</td>\n",
       "      <td>NaT</td>\n",
       "      <td>2610</td>\n",
       "    </tr>\n",
       "    <tr>\n",
       "      <th>WORK_PROVINCE</th>\n",
       "      <td>58831</td>\n",
       "      <td>1180</td>\n",
       "      <td>广东</td>\n",
       "      <td>17433</td>\n",
       "      <td>NaN</td>\n",
       "      <td>NaN</td>\n",
       "      <td>NaN</td>\n",
       "      <td>NaN</td>\n",
       "      <td>NaN</td>\n",
       "      <td>NaT</td>\n",
       "      <td>NaT</td>\n",
       "      <td>3213</td>\n",
       "    </tr>\n",
       "    <tr>\n",
       "      <th>WORK_COUNTRY</th>\n",
       "      <td>62019</td>\n",
       "      <td>116</td>\n",
       "      <td>CN</td>\n",
       "      <td>56833</td>\n",
       "      <td>NaN</td>\n",
       "      <td>NaN</td>\n",
       "      <td>NaN</td>\n",
       "      <td>NaN</td>\n",
       "      <td>NaN</td>\n",
       "      <td>NaT</td>\n",
       "      <td>NaT</td>\n",
       "      <td>25</td>\n",
       "    </tr>\n",
       "    <tr>\n",
       "      <th>age</th>\n",
       "      <td>61632</td>\n",
       "      <td>NaN</td>\n",
       "      <td>NaN</td>\n",
       "      <td>NaN</td>\n",
       "      <td>42.5043</td>\n",
       "      <td>9.88588</td>\n",
       "      <td>6</td>\n",
       "      <td>41</td>\n",
       "      <td>110</td>\n",
       "      <td>NaT</td>\n",
       "      <td>NaT</td>\n",
       "      <td>412</td>\n",
       "    </tr>\n",
       "  </tbody>\n",
       "</table>\n",
       "</div>"
      ],
      "text/plain": [
       "                   count unique                  top   freq     mean  \\\n",
       "Unnamed: 0         62044    NaN                  NaN    NaN  31021.5   \n",
       "Unnamed: 0.1       62044    NaN                  NaN    NaN  31484.2   \n",
       "MEMBER_NO          62044  62044            ‘00056592      1      NaN   \n",
       "FFP_DATE           62044   3070  2005-01-13 00:00:00    182      NaN   \n",
       "FIRST_FLIGHT_DATE  62042   3408  2007-02-16 00:00:00     92      NaN   \n",
       "GENDER             62041      2                    男  47484      NaN   \n",
       "FFP_TIER           62044    NaN                  NaN    NaN  4.10365   \n",
       "WORK_CITY          59434   2899                   广州  10176      NaN   \n",
       "WORK_PROVINCE      58831   1180                   广东  17433      NaN   \n",
       "WORK_COUNTRY       62019    116                   CN  56833      NaN   \n",
       "age                61632    NaN                  NaN    NaN  42.5043   \n",
       "\n",
       "                        std  min      50%    max      first       last  null  \n",
       "Unnamed: 0          17910.7    0  31021.5  62043        NaT        NaT     0  \n",
       "Unnamed: 0.1        18188.7    0  31475.5  62987        NaT        NaT     0  \n",
       "MEMBER_NO               NaN  NaN      NaN    NaN        NaT        NaT     0  \n",
       "FFP_DATE                NaN  NaN      NaN    NaN 1998-11-01 2007-03-31     0  \n",
       "FIRST_FLIGHT_DATE       NaN  NaN      NaN    NaN 1998-11-03 2009-05-30     2  \n",
       "GENDER                  NaN  NaN      NaN    NaN        NaT        NaT     3  \n",
       "FFP_TIER           0.376322    4        4      6        NaT        NaT     0  \n",
       "WORK_CITY               NaN  NaN      NaN    NaN        NaT        NaT  2610  \n",
       "WORK_PROVINCE           NaN  NaN      NaN    NaN        NaT        NaT  3213  \n",
       "WORK_COUNTRY            NaN  NaN      NaN    NaN        NaT        NaT    25  \n",
       "age                 9.88588    6       41    110        NaT        NaT   412  "
      ]
     },
     "execution_count": 3,
     "metadata": {},
     "output_type": "execute_result"
    }
   ],
   "source": [
    "## 分割线，这里我们使用新的数据集raw_afterplace.xlsx\n",
    "df = pd.read_excel(\"../Data/raw_afterplace.xlsx\")\n",
    "data_summary = df.describe(percentiles = [], include = 'all').T\n",
    "data_summary['null'] = len(df) - data_summary['count']\n",
    "data_summary[0:11]\n"
   ]
  },
  {
   "cell_type": "code",
   "execution_count": 45,
   "metadata": {},
   "outputs": [
    {
     "data": {
      "text/plain": [
       "0"
      ]
     },
     "execution_count": 45,
     "metadata": {},
     "output_type": "execute_result"
    }
   ],
   "source": [
    "# 对飞行次数和飞行积分的检查\n",
    "total_number = list(df['FLIGHT_COUNT'])\n",
    "tag = ['FLIGHT_COUNT_QTR_' + str(i+1) for i in range(8)]\n",
    "total_number_total = [list(df[season]) for season in tag]\n",
    "total_number_2 = [np.sum([total_number_total[i][j] for i in range(8)]) for j in range(len(total_number))]\n",
    "diff_number = np.array(total_number) - np.array(total_number_2)\n",
    "np.sum(diff_number)\n",
    "\n",
    "total_score = list(df['BASE_POINTS_SUM'])\n",
    "tag2 = ['BASE_POINTS_SUM_QTR_' + str(i+1) for i in range(8)]\n",
    "total_score_total = [list(df[season]) for season in tag2]\n",
    "total_score_2 = [np.sum([total_score_total[i][j] for i in range(8)]) for j in range(len(total_score))]\n",
    "diff_score = np.array(total_score) - np.array(total_score_2)\n",
    "np.sum(diff_score)\n",
    "\n",
    "# 均满足约束条件"
   ]
  },
  {
   "cell_type": "code",
   "execution_count": 71,
   "metadata": {},
   "outputs": [],
   "source": [
    "## 性别年龄飞行次数的离散化等可视化处理\n",
    "from pyecharts import Bar, Pie\n",
    "bar_gender = Pie(\"会员男女人数\",\"\")\n",
    "bar_gender.add(\"\", ['男','女','不详'],[47484, 62404-3-47484, 3], is_label_show = True)\n",
    "bar_gender.render(path = '会员男女人数总.html')"
   ]
  },
  {
   "cell_type": "code",
   "execution_count": 15,
   "metadata": {},
   "outputs": [
    {
     "name": "stdout",
     "output_type": "stream",
     "text": [
      "(5.896, 16.4]       27\n",
      "(16.4, 26.8]      1010\n",
      "(26.8, 37.2]     20088\n",
      "(37.2, 47.6]     23535\n",
      "(47.6, 58.0]     12894\n",
      "(58.0, 68.4]      3255\n",
      "(68.4, 78.8]       750\n",
      "(78.8, 89.2]        69\n",
      "(89.2, 99.6]         3\n",
      "(99.6, 110.0]        1\n",
      "Name: age, dtype: int64\n",
      "(5.999, 34.0]    13960\n",
      "(34.0, 39.0]     12387\n",
      "(39.0, 44.0]     11250\n",
      "(44.0, 50.0]     11791\n",
      "(50.0, 110.0]    12244\n",
      "Name: age, dtype: int64\n"
     ]
    }
   ],
   "source": [
    "## 年龄的离散化处理\n",
    "## 年龄min = 6， max = 110, median = 41, mean = 42.5043, std = 9.8859, null = 412\n",
    "dist_bin = 10\n",
    "df['age_label'] = pd.cut(df['age'], dist_bin, labels = range(dist_bin))\n",
    "#贴上年龄分类的标签\n",
    "age_cut_result = pd.cut(df['age'], dist_bin).value_counts(sort = False)\n",
    "print(age_cut_result)\n",
    "\n",
    "freq_bin = 5\n",
    "df['age_label2'] = pd.qcut(df['age'], q = freq_bin, labels = range(freq_bin))\n",
    "#贴上年龄分类的标签\n",
    "age_cut_result2 = pd.qcut(df['age'], freq_bin).value_counts(sort = False)\n",
    "print(age_cut_result2)"
   ]
  },
  {
   "cell_type": "code",
   "execution_count": 16,
   "metadata": {},
   "outputs": [
    {
     "name": "stderr",
     "output_type": "stream",
     "text": [
      "C:\\Users\\19700\\Anaconda3\\lib\\site-packages\\pyecharts\\charts\\chart.py:14: PendingDeprecationWarning: pyecharts 所有图表类型将在 v1.9.0 版本开始强制使用 ChartItem 进行数据项配置 :)\n",
      "  super().__init__(init_opts=init_opts)\n"
     ]
    },
    {
     "data": {
      "text/plain": [
       "'C:\\\\Users\\\\19700\\\\Desktop\\\\商务数据分析\\\\Project\\\\img\\\\总年龄段.html'"
      ]
     },
     "execution_count": 16,
     "metadata": {},
     "output_type": "execute_result"
    }
   ],
   "source": [
    "from pyecharts.charts import Bar\n",
    "age_count = list(age_cut_result)\n",
    "age_interval = [int(list(age_cut_result.index)[i].mid) for i in range(len(age_cut_result.index))]\n",
    "Bar().add_xaxis(age_interval).add_yaxis(\"该年龄段人数\", age_count, \n",
    "        category_gap = '50%').set_series_opts(label_opts=opts.LabelOpts(position = 'top')).set_global_opts(title_opts = \n",
    "                opts.TitleOpts(title = '会员年龄段分布图')).render('../img/总年龄段.html')"
   ]
  },
  {
   "cell_type": "code",
   "execution_count": 84,
   "metadata": {},
   "outputs": [
    {
     "name": "stdout",
     "output_type": "stream",
     "text": [
      "{3: 18850, 4: 10526, 5: 2770, 2: 13852, 1: 455, 6: 608, nan: 345, 8: 3, 0: 17, 7: 58}\n",
      "0         17   \n",
      "1         455  \n",
      "2         13852\n",
      "3         18850\n",
      "4         10526\n",
      "5         2770 \n",
      "6         608  \n",
      "7         58   \n",
      "8         3    \n",
      "{4: 2368, 3: 4684, 2: 6236, 6: 142, 1: 555, 5: 483, nan: 67, 7: 11, 0: 10, 9: 1}\n",
      "0         10   \n",
      "1         555  \n",
      "2         6236 \n",
      "3         4684 \n",
      "4         2368 \n",
      "5         483  \n",
      "6         142  \n",
      "7         11   \n",
      "9         1    \n"
     ]
    },
    {
     "name": "stderr",
     "output_type": "stream",
     "text": [
      "C:\\Users\\19700\\Anaconda3\\lib\\site-packages\\pyecharts\\charts\\chart.py:14: PendingDeprecationWarning: pyecharts 所有图表类型将在 v1.9.0 版本开始强制使用 ChartItem 进行数据项配置 :)\n",
      "  super().__init__(init_opts=init_opts)\n"
     ]
    },
    {
     "data": {
      "text/plain": [
       "'C:\\\\Users\\\\19700\\\\Desktop\\\\商务数据分析\\\\Project\\\\img\\\\男女年龄段.html'"
      ]
     },
     "execution_count": 84,
     "metadata": {},
     "output_type": "execute_result"
    }
   ],
   "source": [
    "## 年龄*性别,调用开头的freq_count的函数\n",
    "male_age = list(df[df['GENDER'] == '男']['age_label'])\n",
    "male_age_count = freq_count(male_age)\n",
    "male_age_count = [male_age_count[i][1] for i in range(len(male_age_count))]\n",
    "female_age = list(df[df['GENDER'] == '女']['age_label'])\n",
    "female_age_count = freq_count(female_age)\n",
    "female_age_count = [female_age_count[i][1] for i in range(len(male_age_count))]\n",
    "Bar().add_xaxis(age_interval).add_yaxis(\"该年龄段女性人数\", female_age_count, stack = 'stack1',\n",
    "        category_gap = '50%').add_yaxis(\"该年龄段男性人数\", male_age_count, stack = 'stack1',\n",
    "        category_gap = '50%').set_series_opts(label_opts=opts.LabelOpts(is_show = False)).set_global_opts(title_opts = \n",
    "                opts.TitleOpts(title = '会员年龄段分布图')).render('../img/男女年龄段.html')"
   ]
  },
  {
   "cell_type": "code",
   "execution_count": 17,
   "metadata": {},
   "outputs": [
    {
     "data": {
      "text/plain": [
       "count    62044.000000\n",
       "mean        11.971359\n",
       "std         14.110619\n",
       "min          2.000000\n",
       "25%          3.000000\n",
       "50%          7.000000\n",
       "75%         15.000000\n",
       "max        213.000000\n",
       "Name: FLIGHT_COUNT, dtype: float64"
      ]
     },
     "execution_count": 17,
     "metadata": {},
     "output_type": "execute_result"
    }
   ],
   "source": [
    "df['FLIGHT_COUNT'].describe()"
   ]
  },
  {
   "cell_type": "code",
   "execution_count": 98,
   "metadata": {},
   "outputs": [
    {
     "name": "stdout",
     "output_type": "stream",
     "text": [
      "(1.789, 23.1]     53866\n",
      "(23.1, 44.2]       5843\n",
      "(44.2, 65.3]       1549\n",
      "(65.3, 86.4]        521\n",
      "(86.4, 107.5]       167\n",
      "(107.5, 128.6]       67\n",
      "(128.6, 149.7]       19\n",
      "(149.7, 170.8]        5\n",
      "(170.8, 191.9]        3\n",
      "(191.9, 213.0]        4\n",
      "Name: FLIGHT_COUNT, dtype: int64\n",
      "(1.999, 3.0]     16142\n",
      "(3.0, 5.0]        9688\n",
      "(5.0, 9.0]       11785\n",
      "(9.0, 18.0]      12777\n",
      "(18.0, 213.0]    11652\n",
      "Name: FLIGHT_COUNT, dtype: int64\n"
     ]
    }
   ],
   "source": [
    "## 总飞行次数\n",
    "## 总飞行次数min = 2, max = 213, median = 7, mean = 11.9714, std = 14.1106\n",
    "### 等距离散化\n",
    "\n",
    "dist_bin = 10\n",
    "df['flight_count_label'] = pd.cut(df['FLIGHT_COUNT'], dist_bin, labels = range(dist_bin))\n",
    "#贴上飞行次数分类的标签\n",
    "flight_count_cut = pd.cut(df['FLIGHT_COUNT'], dist_bin).value_counts(sort = False)\n",
    "print(flight_count_cut)\n",
    "### 等频离散化\n",
    "freq_bin = 5\n",
    "df['flight_count_label2'] = pd.qcut(df['FLIGHT_COUNT'], q = freq_bin, labels = range(freq_bin))\n",
    "#贴上飞行次数分类的标签\n",
    "flight_count_qcut = pd.qcut(df['FLIGHT_COUNT'], freq_bin).value_counts(sort = False)\n",
    "print(flight_count_qcut)"
   ]
  },
  {
   "cell_type": "code",
   "execution_count": 70,
   "metadata": {},
   "outputs": [
    {
     "name": "stderr",
     "output_type": "stream",
     "text": [
      "C:\\Users\\19700\\Anaconda3\\lib\\site-packages\\pyecharts\\charts\\chart.py:14: PendingDeprecationWarning: pyecharts 所有图表类型将在 v1.9.0 版本开始强制使用 ChartItem 进行数据项配置 :)\n",
      "  super().__init__(init_opts=init_opts)\n"
     ]
    },
    {
     "data": {
      "text/plain": [
       "'C:\\\\Users\\\\19700\\\\Desktop\\\\商务数据分析\\\\Project\\\\img\\\\总飞行次数段.html'"
      ]
     },
     "execution_count": 70,
     "metadata": {},
     "output_type": "execute_result"
    }
   ],
   "source": [
    "#飞行次数\n",
    "flight_times_count = list(flight_count_cut)\n",
    "flight_interval = [int(list(flight_count_cut.index)[i].mid) for i in range(len(flight_count_cut.index))]\n",
    "Bar().add_xaxis(flight_interval).add_yaxis(\"该飞行次数段人数\", flight_times_count, \n",
    "        category_gap = '50%').set_series_opts(label_opts=opts.LabelOpts(position = 'top')).set_global_opts(title_opts = \n",
    "                opts.TitleOpts(title = '会员飞行次数段分布图')).render('../img/总飞行次数段.html')"
   ]
  },
  {
   "cell_type": "code",
   "execution_count": 115,
   "metadata": {},
   "outputs": [
    {
     "name": "stdout",
     "output_type": "stream",
     "text": [
      "0         13368\n",
      "1         909  \n",
      "2         211  \n",
      "3         50   \n",
      "4         12   \n",
      "5         5    \n",
      "6         0    \n",
      "7         1    \n",
      "8         1    \n",
      "9         0    \n"
     ]
    }
   ],
   "source": [
    "female_flight_count = freq_count(female_flight, 0, 10)"
   ]
  },
  {
   "cell_type": "code",
   "execution_count": 109,
   "metadata": {},
   "outputs": [
    {
     "name": "stdout",
     "output_type": "stream",
     "text": [
      "0         40495\n",
      "1         4934 \n",
      "2         1338 \n",
      "3         471  \n",
      "4         155  \n",
      "5         62   \n",
      "6         19   \n",
      "7         4    \n",
      "8         2    \n",
      "9         4    \n",
      "0         13368\n",
      "1         909  \n",
      "2         211  \n",
      "3         50   \n",
      "4         12   \n",
      "5         5    \n",
      "6         0    \n",
      "7         1    \n",
      "8         1    \n",
      "9         0    \n"
     ]
    },
    {
     "name": "stderr",
     "output_type": "stream",
     "text": [
      "C:\\Users\\19700\\Anaconda3\\lib\\site-packages\\pyecharts\\charts\\chart.py:14: PendingDeprecationWarning: pyecharts 所有图表类型将在 v1.9.0 版本开始强制使用 ChartItem 进行数据项配置 :)\n",
      "  super().__init__(init_opts=init_opts)\n"
     ]
    },
    {
     "data": {
      "text/plain": [
       "'C:\\\\Users\\\\19700\\\\Desktop\\\\商务数据分析\\\\Project\\\\img\\\\飞行次数男女人数.html'"
      ]
     },
     "execution_count": 109,
     "metadata": {},
     "output_type": "execute_result"
    }
   ],
   "source": [
    "## 飞行次数*性别\n",
    "from pyecharts import options as opts\n",
    "from pyecharts.commons.utils import JsCode\n",
    "fn = \"\"\"\n",
    "    function(params) {\n",
    "        if(params.name == '男')​\n",
    "from pyecharts import options as opts\n",
    "            return '\\\\n\\\\n\\\\n' + params.name + ' : ' + params.value + '%';\n",
    "        return params.name + ' : ' + params.value + '%';\n",
    "    }\n",
    "    \"\"\"\n",
    "def new_label_opts():\n",
    "    return opts.LabelOpts(formatter = JsCode(fn), position = 'center')\n",
    "\n",
    "male_flight = list(df[df['GENDER'] == '男']['flight_count_label'])\n",
    "male_flight_count = freq_count(male_flight, 0, 10)\n",
    "male_flight_count = [male_flight_count[i][1] for i in range(len(male_flight_count))]\n",
    "female_flight = list(df[df['GENDER'] == '女']['flight_count_label'])\n",
    "female_flight_count = freq_count(female_flight, 0, 10)\n",
    "female_flight_count = [female_flight_count[i][1] for i in range(len(female_flight_count))]\n",
    "\n",
    "percentage = [[int(male_flight_count[i]*100/(male_flight_count[i] + female_flight_count[i])),100 - int(male_flight_count[i]*100/(male_flight_count[i] + female_flight_count[i]))] \n",
    "                for i in range(len(female_flight_count))]\n",
    "flight_interval_lr = [(int(list(flight_count_cut.index)[i].left),int(list(flight_count_cut.index)[i].right)) for i in range(len(flight_count_cut.index))]\n",
    "flight_label = ['飞行次数' + str(i) + '次' for i in flight_interval_lr]    \n",
    "Pie(init_opts = opts.InitOpts(width = '1500px', height = '750px')).add(flight_label[0],[list(z) for z in zip(['男','女'],percentage[0])], \n",
    "                                                                      center = ['10%','30%'],radius = [60, 80], label_opts = new_label_opts()).add(flight_label[1],[list(z) for z in zip(['男','女'],percentage[1])], \n",
    "                                                                      center = ['30%','30%'],radius = [60, 80], label_opts = new_label_opts()).add(flight_label[2],[list(z) for z in zip(['男','女'],percentage[2])], \n",
    "                                                                      center = ['50%','30%'],radius = [60, 80], label_opts = new_label_opts()).add(flight_label[3],[list(z) for z in zip(['男','女'],percentage[3])], \n",
    "                                                                      center = ['70%','30%'],radius = [60, 80], label_opts = new_label_opts()).add(flight_label[4],[list(z) for z in zip(['男','女'],percentage[4])], \n",
    "                                                                      center = ['90%','30%'],radius = [60, 80], label_opts = new_label_opts()).add(flight_label[5],[list(z) for z in zip(['男','女'],percentage[5])], \n",
    "                                                                      center = ['10%','70%'],radius = [60, 80], label_opts = new_label_opts()).add(flight_label[6],[list(z) for z in zip(['男','女'],percentage[6])], \n",
    "                                                                      center = ['30%','70%'],radius = [60, 80], label_opts = new_label_opts()).add(flight_label[7],[list(z) for z in zip(['男','女'],percentage[7])], \n",
    "                                                                      center = ['50%','70%'],radius = [60, 80], label_opts = new_label_opts()).add(flight_label[8],[list(z) for z in zip(['男','女'],percentage[8])], \n",
    "                                                                      center = ['70%','70%'],radius = [60, 80], label_opts = new_label_opts()).add(flight_label[9],[list(z) for z in zip(['男','女'],percentage[9])], \n",
    "                                                                      center = ['90%','70%'],radius = [60, 80], label_opts = new_label_opts()).set_global_opts(title_opts = \n",
    "                                                                      opts.TitleOpts(title = '不同飞行次数段男女人数'),legend_opts = opts.LegendOpts(is_show = False),).render(\"../img/飞行次数男女人数.html\")"
   ]
  },
  {
   "cell_type": "code",
   "execution_count": 13,
   "metadata": {},
   "outputs": [
    {
     "name": "stdout",
     "output_type": "stream",
     "text": [
      "4         57124\n",
      "5         3409 \n",
      "6         1511 \n"
     ]
    },
    {
     "name": "stderr",
     "output_type": "stream",
     "text": [
      "C:\\Users\\19700\\Anaconda3\\lib\\site-packages\\pyecharts\\charts\\chart.py:14: PendingDeprecationWarning: pyecharts 所有图表类型将在 v1.9.0 版本开始强制使用 ChartItem 进行数据项配置 :)\n",
      "  super().__init__(init_opts=init_opts)\n"
     ]
    },
    {
     "data": {
      "text/plain": [
       "'C:\\\\Users\\\\19700\\\\Desktop\\\\商务数据分析\\\\Project\\\\img\\\\不同等级会员人数图.html'"
      ]
     },
     "execution_count": 13,
     "metadata": {},
     "output_type": "execute_result"
    }
   ],
   "source": [
    "## 会员卡级别的一些说\n",
    "from pyecharts import options as opts\n",
    "from pyecharts.charts import Pie\n",
    "FFP_TIER = list(df['FFP_TIER'])\n",
    "FFP_TIER_COUNT = freq_count(FFP_TIER, 4, 7)\n",
    "FFP_TIER_COUNT = [FFP_TIER_COUNT[i][1] for i in range(len(FFP_TIER_COUNT))]\n",
    "Pie().add(\"\", [list(z) for z in zip([s + '级会员' for s in ['4','5','6']], FFP_TIER_COUNT)]).set_colors(['blue','green','red']).set_global_opts(title_opts = \n",
    "                opts.TitleOpts(title = '不同等级会员人数图')).render(\"../img/不同等级会员人数图.html\")\n",
    "\n"
   ]
  },
  {
   "cell_type": "code",
   "execution_count": 155,
   "metadata": {},
   "outputs": [
    {
     "name": "stdout",
     "output_type": "stream",
     "text": [
      "1998      333  \n",
      "1999      3059 \n",
      "2000      4504 \n",
      "2001      5796 \n",
      "2002      6507 \n",
      "2003      5579 \n",
      "2004      7521 \n",
      "2005      10539\n",
      "2006      14304\n",
      "2007      3902 \n",
      "1998      81   \n",
      "1999      2345 \n",
      "2000      3447 \n",
      "2001      4626 \n",
      "2002      5305 \n",
      "2003      5302 \n",
      "2004      7226 \n",
      "2005      10244\n",
      "2006      15244\n",
      "2007      7751 \n",
      "2008      467  \n",
      "2009      4    \n",
      "1         5598 \n",
      "2         4642 \n",
      "3         6292 \n",
      "4         5042 \n",
      "5         4404 \n",
      "6         4478 \n",
      "7         5082 \n",
      "8         5124 \n",
      "9         5324 \n",
      "10        5112 \n",
      "11        5697 \n",
      "12        5249 \n",
      "1         5042 \n",
      "2         4686 \n",
      "3         5940 \n",
      "4         5601 \n",
      "5         4513 \n",
      "6         4581 \n",
      "7         5294 \n",
      "8         5242 \n",
      "9         5668 \n",
      "10        5266 \n",
      "11        5245 \n",
      "12        4964 \n"
     ]
    },
    {
     "name": "stderr",
     "output_type": "stream",
     "text": [
      "C:\\Users\\19700\\Anaconda3\\lib\\site-packages\\pyecharts\\charts\\chart.py:14: PendingDeprecationWarning: pyecharts 所有图表类型将在 v1.9.0 版本开始强制使用 ChartItem 进行数据项配置 :)\n",
      "  super().__init__(init_opts=init_opts)\n",
      "C:\\Users\\19700\\Anaconda3\\lib\\site-packages\\pyecharts\\charts\\chart.py:14: PendingDeprecationWarning: pyecharts 所有图表类型将在 v1.9.0 版本开始强制使用 ChartItem 进行数据项配置 :)\n",
      "  super().__init__(init_opts=init_opts)\n"
     ]
    }
   ],
   "source": [
    "### 入会时间最早1998.11.01，最晚2007.3.31，其中最多的一天2005.1.13入会182人\n",
    "datetime = list(df['FFP_DATE'])\n",
    "ffp_year = [int(str(datetime[i])[0:4]) for i in range(len(datetime))]\n",
    "ffp_month = [int(str(datetime[i])[5:7]) for i in range(len(datetime))]\n",
    "ffp_year_count = freq_count(ffp_year, 1998, 2008)\n",
    "ffp_year = [year_count[1:-1][i][0] for i in range(len(ffp_year_count[1:-1]))]\n",
    "ffp_year_count = [year_count[1:-1][i][1] for i in range(len(ffp_year_count[1:-1]))]\n",
    "\n",
    "### 第一次飞行时间最早 1998.11.03，最晚2009.5.30， 其中最多的一天2007.2.16飞行92人，共有空数据2条（还没有飞）\n",
    "datetime = list(df[df['FIRST_FLIGHT_DATE'].isnull() == False]['FIRST_FLIGHT_DATE'])\n",
    "first_year = [int(str(datetime[i])[0:4]) for i in range(len(datetime))]\n",
    "first_month = [int(str(datetime[i])[5:7]) for i in range(len(datetime))]\n",
    "first_year_count = freq_count(first_year, 1998, 2010)\n",
    "first_year = [first_year_count[1:-3][i][0] for i in range(len(first_year_count[1:-3]))]\n",
    "first_year_count = [first_year_count[1:-3][i][1] for i in range(len(first_year_count[1:-3]))]\n",
    "\n",
    "year_line = Line().add_xaxis([str(item) for item in ffp_year]).add_yaxis('入会年份',ffp_year_count).add_yaxis('第一次飞行年份',first_year_count).set_series_opts(label_opts=opts.LabelOpts(is_show = False)).set_global_opts(title_opts = \n",
    "                    opts.TitleOpts(title = \"会员入会年份和开始飞行年份人数的变化\")).render('../img/会员入会年份和开始飞行年份的对比.html')\n",
    "\n",
    "ffp_month_count = freq_count(ffp_month, 1, 13)\n",
    "ffp_month_count = [ffp_month_count[i][1] for i in range(12)]\n",
    "first_month_count = freq_count(first_month, 1, 13)\n",
    "first_month_count = [first_month_count[i][1] for i in range(12)]\n",
    "month_list = ['Jan','Feb','Mar','Apr','May','Jun','Jul','Aug','Sept','Oct','Nov','Dec']\n",
    "month_bar = Bar(init_opts = opts.InitOpts(width = '1500px', height = '750px')).add_xaxis(month_list).add_yaxis('入会月份', ffp_month_count).add_yaxis('第一次飞行月份',first_month_count).set_series_opts(label_opts=opts.LabelOpts(position = 'top')).set_global_opts(title_opts = \n",
    "                    opts.TitleOpts(title = \"会员入会年份和开始飞行月份人数的变化\")).render('../img/会员入会年份和开始飞行月份的对比.html')\n",
    "\n"
   ]
  },
  {
   "cell_type": "code",
   "execution_count": 172,
   "metadata": {},
   "outputs": [
    {
     "name": "stdout",
     "output_type": "stream",
     "text": [
      "                  0\n",
      "count  62042.000000\n",
      "mean     180.237645\n",
      "std      401.803716\n",
      "min        0.000000\n",
      "25%        0.000000\n",
      "50%       14.000000\n",
      "75%      143.000000\n",
      "max     3308.000000\n",
      "(-3.308, 330.8]     52764\n",
      "(330.8, 661.6]       4058\n",
      "(661.6, 992.4]       1906\n",
      "(992.4, 1323.2]      1153\n",
      "(1323.2, 1654.0]      795\n",
      "(1654.0, 1984.8]      611\n",
      "(1984.8, 2315.6]      434\n",
      "(2315.6, 2646.4]      223\n",
      "(2646.4, 2977.2]       76\n",
      "(2977.2, 3308.0]       22\n",
      "Name: 0, dtype: int64\n"
     ]
    },
    {
     "name": "stderr",
     "output_type": "stream",
     "text": [
      "C:\\Users\\19700\\Anaconda3\\lib\\site-packages\\pyecharts\\charts\\chart.py:14: PendingDeprecationWarning: pyecharts 所有图表类型将在 v1.9.0 版本开始强制使用 ChartItem 进行数据项配置 :)\n",
      "  super().__init__(init_opts=init_opts)\n"
     ]
    },
    {
     "data": {
      "text/plain": [
       "'C:\\\\Users\\\\19700\\\\Desktop\\\\商务数据分析\\\\Project\\\\img\\\\总飞行日期差.html'"
      ]
     },
     "execution_count": 172,
     "metadata": {},
     "output_type": "execute_result"
    }
   ],
   "source": [
    "#计算两者的差值 按照日期\n",
    "d_ffp = pd.to_datetime(df['FFP_DATE'])\n",
    "d_load = pd.to_datetime(df['FIRST_FLIGHT_DATE'])\n",
    "res = d_load - d_ffp\n",
    "res_time = pd.DataFrame(res.map(lambda x:x/np.timedelta64(24*60,'m')))\n",
    "print(res_time.describe())\n",
    "\n",
    "### 等距离散化\n",
    "dist_bin = 10\n",
    "res_time['flight_label'] = pd.cut(res_time[0], dist_bin, labels = range(dist_bin))\n",
    "#贴上飞行次数分类的标签\n",
    "flight_count_cut = pd.cut(res_time[0], dist_bin).value_counts(sort = False)\n",
    "print(flight_count_cut)\n",
    "\n",
    "flight_times_count = list(flight_count_cut)\n",
    "flight_interval = [int(list(flight_count_cut.index)[i].mid) for i in range(len(flight_count_cut.index))]\n",
    "Bar().add_xaxis(flight_interval).add_yaxis(\"该日期段人数\", flight_times_count, \n",
    "        category_gap = '50%').set_series_opts(label_opts=opts.LabelOpts(position = 'top')).set_global_opts(title_opts = \n",
    "                opts.TitleOpts(title = '会员首次飞行与注册会员日期差分布图（日）'), yaxis_opts = opts.AxisOpts(name = '人数'), xaxis_opts = opts.AxisOpts(name = '相差时间(日)')).render('../img/总飞行日期差.html')"
   ]
  },
  {
   "cell_type": "code",
   "execution_count": 150,
   "metadata": {},
   "outputs": [
    {
     "data": {
      "text/plain": [
       "[0, 1, 2, 3, 4, 5, 6, 7, 8, 9, 10, 11]"
      ]
     },
     "execution_count": 150,
     "metadata": {},
     "output_type": "execute_result"
    }
   ],
   "source": [
    "ffp_month_count"
   ]
  },
  {
   "cell_type": "code",
   "execution_count": 146,
   "metadata": {},
   "outputs": [
    {
     "data": {
      "text/plain": [
       "['1999', '2000', '2001', '2002', '2003', '2004', '2005', '2006']"
      ]
     },
     "execution_count": 146,
     "metadata": {},
     "output_type": "execute_result"
    }
   ],
   "source": [
    "ffp_year"
   ]
  },
  {
   "cell_type": "code",
   "execution_count": 193,
   "metadata": {},
   "outputs": [
    {
     "name": "stdout",
     "output_type": "stream",
     "text": [
      "[1.1706113017295707, 1.2822456410615504, 1.2345073874378545, 1.1466633989216442, 1.2125901547510678, 1.2689062390588894, 1.2038897836285973, 0.988131083257475] [3.639190378410091, 4.092109122909944, 4.264300381343502, 4.264300381343502, 5.099442651804048, 5.66031094162511, 5.838369023173951, 5.398357289527721] [4.4626075446724025, 4.85771012574454, 5.195896757114494, 4.99735274652548, 6.106551952349437, 6.861681005956321, 7.048312375909993, 6.28457974851092]\n"
     ]
    },
    {
     "name": "stderr",
     "output_type": "stream",
     "text": [
      "C:\\Users\\19700\\Anaconda3\\lib\\site-packages\\pyecharts\\charts\\chart.py:14: PendingDeprecationWarning: pyecharts 所有图表类型将在 v1.9.0 版本开始强制使用 ChartItem 进行数据项配置 :)\n",
      "  super().__init__(init_opts=init_opts)\n",
      "C:\\Users\\19700\\Anaconda3\\lib\\site-packages\\pyecharts\\charts\\chart.py:14: PendingDeprecationWarning: pyecharts 所有图表类型将在 v1.9.0 版本开始强制使用 ChartItem 进行数据项配置 :)\n",
      "  super().__init__(init_opts=init_opts)\n"
     ]
    }
   ],
   "source": [
    "## 总体的8个季度飞行时间和飞行次数可视化处理\n",
    "# 季度飞行次数和会员卡的关系\n",
    "\n",
    "season_count = list(data_summary[12:20]['mean'])\n",
    "season_list = ['FLIGHT_COUNT_QTR_' + str(i) for i in range(1, 9)]\n",
    "year_line = Line().add_xaxis([str(i) for i in range(1,9)]).add_yaxis(' ',season_count).set_series_opts(label_opts=opts.LabelOpts(is_show = False)).set_global_opts(title_opts = \n",
    "                    opts.TitleOpts(title = \"八季度飞行次数总体走势\"), yaxis_opts = opts.AxisOpts(name = '平均飞行次数'), xaxis_opts = opts.AxisOpts(name = '季度')).render('../img/八季度飞行次数总体走势.html')\n",
    "\n",
    "tier4 = list(df[df[\"FFP_TIER\"] == 4][season_list].mean())\n",
    "tier5 = list(df[df[\"FFP_TIER\"] == 5][season_list].mean())\n",
    "tier6 = list(df[df[\"FFP_TIER\"] == 6][season_list].mean())\n",
    "print(tier4, tier5, tier6)\n",
    "year_line = Line().add_xaxis([str(i) for i in range(1,9)]).add_yaxis('FFP_TIER = 4',tier4).add_yaxis('FFP_TIER = 5', tier5).add_yaxis('FFP_TIER = 6',tier6).set_series_opts(label_opts=opts.LabelOpts(is_show = False)).set_global_opts(title_opts = \n",
    "                    opts.TitleOpts(title = \"不同会员等级八季度飞行次数\"), yaxis_opts = opts.AxisOpts(name = '平均飞行次数'), xaxis_opts = opts.AxisOpts(name = '季度')).render('../img/八季度飞行次数走势（会员级别）.html')\n",
    "\n",
    "# 季度飞行"
   ]
  },
  {
   "cell_type": "code",
   "execution_count": 196,
   "metadata": {},
   "outputs": [
    {
     "name": "stdout",
     "output_type": "stream",
     "text": [
      "[1028.3833590084728, 1252.2968804705554, 1023.199513339402, 1013.0323856872768, 971.6529129612773, 1193.6940340312303, 1004.7305860934108, 863.5930081927036] [3469.176884716926, 4192.130830155471, 3913.4687591669112, 4037.5420944558523, 4580.440011733646, 5714.178058081548, 5398.8826635376945, 5136.717219125843] [5528.3845135671745, 6310.659166115155, 6328.338848444739, 6099.874917273329, 7201.232958305758, 8632.07677035076, 8295.509596293845, 7737.042356055592]\n"
     ]
    },
    {
     "name": "stderr",
     "output_type": "stream",
     "text": [
      "C:\\Users\\19700\\Anaconda3\\lib\\site-packages\\pyecharts\\charts\\chart.py:14: PendingDeprecationWarning: pyecharts 所有图表类型将在 v1.9.0 版本开始强制使用 ChartItem 进行数据项配置 :)\n",
      "  super().__init__(init_opts=init_opts)\n",
      "C:\\Users\\19700\\Anaconda3\\lib\\site-packages\\pyecharts\\charts\\chart.py:14: PendingDeprecationWarning: pyecharts 所有图表类型将在 v1.9.0 版本开始强制使用 ChartItem 进行数据项配置 :)\n",
      "  super().__init__(init_opts=init_opts)\n"
     ]
    }
   ],
   "source": [
    "score_count = list(data_summary[22:30]['mean'])\n",
    "season_score_list = ['BASE_POINTS_SUM_QTR_' + str(i) for i in range(1, 9)]\n",
    "year_bar = Bar().add_xaxis([str(i) for i in range(1,9)]).add_yaxis(' ',score_count).set_series_opts(label_opts=opts.LabelOpts(is_show = False)).set_global_opts(title_opts = \n",
    "                    opts.TitleOpts(title = \"八季度基本积分变化\"), yaxis_opts = opts.AxisOpts(name = '基本积分'), xaxis_opts = opts.AxisOpts(name = '季度')).render('../img/八季度基本积分变化.html')\n",
    "\n",
    "tier4 = list(df[df[\"FFP_TIER\"] == 4][season_score_list].mean())\n",
    "tier5 = list(df[df[\"FFP_TIER\"] == 5][season_score_list].mean())\n",
    "tier6 = list(df[df[\"FFP_TIER\"] == 6][season_score_list].mean())\n",
    "print(tier4, tier5, tier6)\n",
    "year_line = Bar().add_xaxis([str(i) for i in range(1,9)]).add_yaxis('FFP_TIER = 4',tier4).add_yaxis('FFP_TIER = 5', tier5).add_yaxis('FFP_TIER = 6',tier6).set_series_opts(label_opts=opts.LabelOpts(is_show = False)).set_global_opts(title_opts = \n",
    "                    opts.TitleOpts(title = \"不同会员等级八季度基本积分\"), yaxis_opts = opts.AxisOpts(name = '基本积分'), xaxis_opts = opts.AxisOpts(name = '季度')).render('../img/八季度基本积分变化（会员级别）.html')\n"
   ]
  },
  {
   "cell_type": "code",
   "execution_count": 22,
   "metadata": {},
   "outputs": [
    {
     "name": "stderr",
     "output_type": "stream",
     "text": [
      "<>:6: DeprecationWarning: invalid escape sequence \\W\n",
      "<>:6: DeprecationWarning: invalid escape sequence \\W\n",
      "<>:6: DeprecationWarning: invalid escape sequence \\W\n",
      "<ipython-input-22-2823f94b5dc3>:6: DeprecationWarning: invalid escape sequence \\W\n",
      "  font1 = matplotlib.font_manager.FontProperties(fname = 'C:\\Windows\\Fonts\\simhei.ttf')\n"
     ]
    },
    {
     "name": "stdout",
     "output_type": "stream",
     "text": [
      "       ELITE_POINTS_SUM_YR_2  EXPENSE_SUM_YR_1  EXPENSE_SUM_YR_2  \\\n",
      "count           62044.000000      62044.000000      62044.000000   \n",
      "mean              269.732093       5389.298164       5676.826688   \n",
      "std              1657.846655       8123.849287       8736.092628   \n",
      "min                 0.000000          0.000000          0.000000   \n",
      "25%                 0.000000       1024.000000        856.000000   \n",
      "50%                 0.000000       2832.000000       2838.000000   \n",
      "75%                 0.000000       6617.000000       6928.000000   \n",
      "max             74460.000000     239560.000000     234188.000000   \n",
      "\n",
      "       ADD_POINTS_SUM_YR_1  ADD_POINTS_SUM_YR_2  EXCHANGE_COUNT  \\\n",
      "count         62044.000000         62044.000000    62044.000000   \n",
      "mean            544.708594           822.628135        0.323480   \n",
      "std            3974.262205          5148.932497        1.141658   \n",
      "min               0.000000             0.000000        0.000000   \n",
      "25%               0.000000             0.000000        0.000000   \n",
      "50%               0.000000             0.000000        0.000000   \n",
      "75%               0.000000             0.000000        0.000000   \n",
      "max          600000.000000        728282.000000       46.000000   \n",
      "\n",
      "       P1Y_BASE_POINTS_SUM  L1Y_BASE_POINTS_SUM  \n",
      "count          62044.00000         62044.000000  \n",
      "mean            5423.40128          5634.371188  \n",
      "std             8585.72916          9401.540986  \n",
      "min                0.00000             0.000000  \n",
      "25%              958.00000           617.000000  \n",
      "50%             2738.50000          2616.500000  \n",
      "75%             6583.25000          6716.250000  \n",
      "max           246197.00000        259111.000000  \n"
     ]
    },
    {
     "data": {
      "image/png": "[encoded data removed]",
      "text/plain": [
       "<Figure size 720x720 with 2 Axes>"
      ]
     },
     "metadata": {
      "needs_background": "light"
     },
     "output_type": "display_data"
    }
   ],
   "source": [
    "##关于积分的相关性分析图\n",
    "## 第一年精英积分均为0，数据没有意义\n",
    "import seaborn as sns\n",
    "import matplotlib\n",
    "import matplotlib.pyplot as plt\n",
    "font1 = matplotlib.font_manager.FontProperties(fname = 'C:\\Windows\\Fonts\\simhei.ttf')\n",
    "\n",
    "feature = ['ELITE_POINTS_SUM_YR_2','EXPENSE_SUM_YR_1','EXPENSE_SUM_YR_2','ADD_POINTS_SUM_YR_1', \n",
    "           'ADD_POINTS_SUM_YR_2','EXCHANGE_COUNT','P1Y_BASE_POINTS_SUM','L1Y_BASE_POINTS_SUM']\n",
    "print(df[feature].describe())\n",
    "corr_feature = df[feature].corr()\n",
    "corr_feature.index = [1,2,3,4,5,6,7,8]\n",
    "corr_feature.columns = [1,2,3,4,5,6,7,8]\n",
    "\n",
    "fig = plt.figure(figsize = (10, 10))\n",
    "\n",
    "ax = sns.heatmap(corr_feature, annot = False, vmax = 1, vmin = 0, xticklabels = True, yticklabels = True, square = True, cmap = 'YlGnBu')\n",
    "                 #, columns = feature, index =  feature, \n",
    "ax.set_title('积分相关指标热力图', fontsize = 38, fontproperties = font1)\n",
    "\n",
    "plt.show()"
   ]
  },
  {
   "cell_type": "code",
   "execution_count": 23,
   "metadata": {},
   "outputs": [
    {
     "name": "stdout",
     "output_type": "stream",
     "text": [
      "[32.25393879980393, 4321.683570653316, 4140.389783628598, 450.0763251873118, 630.030862684686, 0.21239759120509769, 4316.912138505707, 4033.670541278622] [1765.4611322968613, 15414.606336168965, 20597.10530947492, 1334.1818715165737, 2513.1469639190377, 1.366383103549428, 15612.31856849516, 20830.21795247873] [5873.148246194573, 23132.607544672403, 30100.514228987424, 2341.1740569159497, 4289.833884844474, 2.170086035737922, 24267.2574454004, 31865.861681005958]\n"
     ]
    }
   ],
   "source": [
    "feature = ['ELITE_POINTS_SUM_YR_2','EXPENSE_SUM_YR_1','EXPENSE_SUM_YR_2','ADD_POINTS_SUM_YR_1', \n",
    "           'ADD_POINTS_SUM_YR_2','EXCHANGE_COUNT','P1Y_BASE_POINTS_SUM','L1Y_BASE_POINTS_SUM']\n",
    "tie4 = list(df[df['FFP_TIER'] == 4][feature].mean())\n",
    "tie5 = list(df[df['FFP_TIER'] == 5][feature].mean())\n",
    "tie6 = list(df[df['FFP_TIER'] == 6][feature].mean())\n",
    "print(tie4, tie5, tie6)"
   ]
  },
  {
   "cell_type": "code",
   "execution_count": 21,
   "metadata": {},
   "outputs": [
    {
     "data": {
      "text/plain": [
       "Int64Index([1, 2, 3, 4, 5, 6, 7, 8], dtype='int64')"
      ]
     },
     "execution_count": 21,
     "metadata": {},
     "output_type": "execute_result"
    }
   ],
   "source": [
    "corr_feature.index = [1,2,3,4,5,6,7,8]\n",
    "corr_feature.index"
   ]
  },
  {
   "cell_type": "code",
   "execution_count": 110,
   "metadata": {},
   "outputs": [
    {
     "data": {
      "text/html": [
       "<div>\n",
       "<style scoped>\n",
       "    .dataframe tbody tr th:only-of-type {\n",
       "        vertical-align: middle;\n",
       "    }\n",
       "\n",
       "    .dataframe tbody tr th {\n",
       "        vertical-align: top;\n",
       "    }\n",
       "\n",
       "    .dataframe thead th {\n",
       "        text-align: right;\n",
       "    }\n",
       "</style>\n",
       "<table border=\"1\" class=\"dataframe\">\n",
       "  <thead>\n",
       "    <tr style=\"text-align: right;\">\n",
       "      <th></th>\n",
       "      <th>SEG_KM_SUM</th>\n",
       "      <th>avg_discount</th>\n",
       "    </tr>\n",
       "  </thead>\n",
       "  <tbody>\n",
       "    <tr>\n",
       "      <th>count</th>\n",
       "      <td>62044.000000</td>\n",
       "      <td>62044.000000</td>\n",
       "    </tr>\n",
       "    <tr>\n",
       "      <th>mean</th>\n",
       "      <td>17321.694749</td>\n",
       "      <td>0.722180</td>\n",
       "    </tr>\n",
       "    <tr>\n",
       "      <th>std</th>\n",
       "      <td>21052.728111</td>\n",
       "      <td>0.184833</td>\n",
       "    </tr>\n",
       "    <tr>\n",
       "      <th>min</th>\n",
       "      <td>368.000000</td>\n",
       "      <td>0.136017</td>\n",
       "    </tr>\n",
       "    <tr>\n",
       "      <th>25%</th>\n",
       "      <td>4874.000000</td>\n",
       "      <td>0.613085</td>\n",
       "    </tr>\n",
       "    <tr>\n",
       "      <th>50%</th>\n",
       "      <td>10200.000000</td>\n",
       "      <td>0.712162</td>\n",
       "    </tr>\n",
       "    <tr>\n",
       "      <th>75%</th>\n",
       "      <td>21522.500000</td>\n",
       "      <td>0.809293</td>\n",
       "    </tr>\n",
       "    <tr>\n",
       "      <th>max</th>\n",
       "      <td>580717.000000</td>\n",
       "      <td>1.500000</td>\n",
       "    </tr>\n",
       "  </tbody>\n",
       "</table>\n",
       "</div>"
      ],
      "text/plain": [
       "          SEG_KM_SUM  avg_discount\n",
       "count   62044.000000  62044.000000\n",
       "mean    17321.694749      0.722180\n",
       "std     21052.728111      0.184833\n",
       "min       368.000000      0.136017\n",
       "25%      4874.000000      0.613085\n",
       "50%     10200.000000      0.712162\n",
       "75%     21522.500000      0.809293\n",
       "max    580717.000000      1.500000"
      ]
     },
     "execution_count": 110,
     "metadata": {},
     "output_type": "execute_result"
    }
   ],
   "source": [
    "df[['SEG_KM_SUM','avg_discount']].describe()"
   ]
  },
  {
   "cell_type": "code",
   "execution_count": 4,
   "metadata": {},
   "outputs": [],
   "source": [
    "\n",
    "from pyecharts.charts import Line\n",
    "from sklearn.cluster import KMeans\n",
    "\n",
    "## 数据转化，建立LRMFC模型\n",
    "def LRMFC_build(df):\n",
    "    d_ffp = pd.to_datetime(df['FFP_DATE'])\n",
    "    d_load = pd.to_datetime(df['LOAD_TIME'])\n",
    "    res = d_load - d_ffp\n",
    "    #L:入会时间到现在的时间\n",
    "    df['L'] = res.map(lambda x:x/np.timedelta64(30*24*60,'m'))\n",
    "    #R:用户最近一次乘飞机到现在的时间\n",
    "    df['R'] = df['DAYS_FROM_LAST_TO_END']\n",
    "    #F:用户在样本时间内的飞行次数\n",
    "    df['F'] = df['FLIGHT_COUNT']\n",
    "    #M:用户在样本时间内的飞行里程\n",
    "    df['M'] = df['SEG_KM_SUM']\n",
    "    #C:平均折扣系数\n",
    "    df['C'] = df['avg_discount']\n",
    "    LRMFC = df[['L','R','F','M','C']]\n",
    "    print(LRMFC.describe())\n",
    "    \n",
    "    #然后对这个数据进行z标准化\n",
    "    LRMFC = (LRMFC - LRMFC.mean(axis = 0))/ LRMFC.std(axis = 0)\n",
    "    LRMFC.columns = ['Z' + name for name in LRMFC.columns]\n",
    "    print(LRMFC.describe())\n",
    "    return LRMFC\n",
    "\n",
    "def LRMFC_selection(LRMFC):\n",
    "# model selection for KMeans\n",
    "    SSE = [] #error criteria for KMeans \n",
    "    for k in range(1,9):\n",
    "        estimator = KMeans(n_clusters = k)\n",
    "        estimator.fit(LRMFC)\n",
    "        SSE.append(estimator.inertia_)\n",
    "    print(SSE)\n",
    "    KMeans_line = Line().add_xaxis(list(range(1,9))).add_yaxis('SSE',SSE, is_smooth = True).set_series_opts(label_opts=opts.LabelOpts(is_show = False)).set_global_opts(title_opts = \n",
    "                    opts.TitleOpts(title = \"KMeans算法不同聚类数目的SSE\")).render('KMeans_demo.html')\n",
    "    return LRMFC\n",
    "\n",
    "def KMeans_LRMFC(LRMFC_1, cluster_number):\n",
    "    KMeans_model = KMeans(n_clusters = cluster_number, n_jobs = 4)\n",
    "    KMeans_model.fit(LRMFC_1[['ZL','ZR','ZF','ZM','ZC']])\n",
    "    print(len(KMeans_model.labels_))\n",
    "    LRMFC_1['LRMFC_label'] = KMeans_model.labels_\n",
    "    KMeans_model.cluster_centers_\n",
    "    center = pd.DataFrame(KMeans_model.cluster_centers_)\n",
    "    cluster_count = pd.Series(KMeans_model.labels_).value_counts(sort = False)\n",
    "    stat_table = pd.concat([center, cluster_count], axis = 1)\n",
    "    stat_table.columns = ['ZL','ZR','ZF','ZM','ZC'] + ['number in each cluster']\n",
    "    return [LRMFC_1, stat_table]\n",
    "\n"
   ]
  },
  {
   "cell_type": "code",
   "execution_count": 5,
   "metadata": {},
   "outputs": [],
   "source": [
    "\n",
    "#加入一些特征信息\n",
    "def add_info(LRMFC, df):\n",
    "    \n",
    "    LRMFC['female'] = pd.Series(list(df['GENDER']))\n",
    "    LRMFC = LRMFC.replace('男', 0)\n",
    "    LRMFC = LRMFC.replace('女', 1)\n",
    "    LRMFC['FFP_TIER'] = pd.Series(list(df['FFP_TIER']))\n",
    "    LRMFC['FLIGHT_COUNT'] = pd.Series(list(df['FLIGHT_COUNT']))\n",
    "\n",
    "    flight_count = df[['FLIGHT_COUNT_QTR_' + str(i) for i in range(1,9)]]\n",
    "    LRMFC = pd.concat([LRMFC, flight_count], axis = 1)\n",
    "    \n",
    "    LRMFC['BASE_POINTS_SUM'] = pd.Series(list(df['BASE_POINTS_SUM']))\n",
    "\n",
    "    point_count = df[['BASE_POINTS_SUM_QTR_' + str(i) for i in range(1,9)]]\n",
    "    LRMFC = pd.concat([LRMFC, point_count], axis = 1)\n",
    "    #还有年龄和飞行次数的分箱后的标签需要贴上去\n",
    "    #均使用第一个等距离散化的方法，各10类\n",
    "    LRMFC['age'] = pd.Series(list(df['age_label']))\n",
    "    LRMFC['flight_count'] = pd.Series(list(df['flight_count_label']))\n",
    "    return LRMFC\n",
    "\n",
    "#list(stat_table['number in each cluster'])"
   ]
  },
  {
   "cell_type": "code",
   "execution_count": 6,
   "metadata": {},
   "outputs": [
    {
     "name": "stdout",
     "output_type": "stream",
     "text": [
      "                  L             R             F              M             C\n",
      "count  62044.000000  62044.000000  62044.000000   62044.000000  62044.000000\n",
      "mean      49.673829    172.532703     11.971359   17321.694749      0.722180\n",
      "std       28.260058    181.526164     14.110619   21052.728111      0.184833\n",
      "min       12.233333      1.000000      2.000000     368.000000      0.136017\n",
      "25%       24.566667     29.000000      3.000000    4874.000000      0.613085\n",
      "50%       42.633333    105.000000      7.000000   10200.000000      0.712162\n",
      "75%       72.800000    260.000000     15.000000   21522.500000      0.809293\n",
      "max      114.633333    731.000000    213.000000  580717.000000      1.500000\n",
      "                 ZL            ZR            ZF            ZM            ZC\n",
      "count  6.204400e+04  6.204400e+04  6.204400e+04  6.204400e+04  6.204400e+04\n",
      "mean   1.901059e-15  1.785527e-15 -1.145324e-15 -3.891435e-17 -6.715868e-14\n",
      "std    1.000000e+00  1.000000e+00  1.000000e+00  1.000000e+00  1.000000e+00\n",
      "min   -1.324856e+00 -9.449475e-01 -7.066564e-01 -8.052968e-01 -3.171310e+00\n",
      "25%   -8.884328e-01 -7.906998e-01 -6.357878e-01 -5.912628e-01 -5.902330e-01\n",
      "50%   -2.491324e-01 -3.720274e-01 -3.523133e-01 -3.382789e-01 -5.419946e-02\n",
      "75%    8.183342e-01  4.818440e-01  2.146356e-01  1.995373e-01  4.713039e-01\n",
      "max    2.298633e+00  3.076511e+00  1.424662e+01  2.676115e+01  4.208225e+00\n",
      "62044\n"
     ]
    },
    {
     "data": {
      "text/html": [
       "<div>\n",
       "<style scoped>\n",
       "    .dataframe tbody tr th:only-of-type {\n",
       "        vertical-align: middle;\n",
       "    }\n",
       "\n",
       "    .dataframe tbody tr th {\n",
       "        vertical-align: top;\n",
       "    }\n",
       "\n",
       "    .dataframe thead th {\n",
       "        text-align: right;\n",
       "    }\n",
       "</style>\n",
       "<table border=\"1\" class=\"dataframe\">\n",
       "  <thead>\n",
       "    <tr style=\"text-align: right;\">\n",
       "      <th></th>\n",
       "      <th>ZL</th>\n",
       "      <th>ZR</th>\n",
       "      <th>ZF</th>\n",
       "      <th>ZM</th>\n",
       "      <th>ZC</th>\n",
       "      <th>number in each cluster</th>\n",
       "    </tr>\n",
       "  </thead>\n",
       "  <tbody>\n",
       "    <tr>\n",
       "      <th>0</th>\n",
       "      <td>1.163674</td>\n",
       "      <td>-0.378364</td>\n",
       "      <td>-0.085309</td>\n",
       "      <td>-0.092995</td>\n",
       "      <td>-0.159968</td>\n",
       "      <td>15665</td>\n",
       "    </tr>\n",
       "    <tr>\n",
       "      <th>1</th>\n",
       "      <td>-0.310882</td>\n",
       "      <td>1.692700</td>\n",
       "      <td>-0.574600</td>\n",
       "      <td>-0.536472</td>\n",
       "      <td>-0.189524</td>\n",
       "      <td>12004</td>\n",
       "    </tr>\n",
       "    <tr>\n",
       "      <th>2</th>\n",
       "      <td>0.485120</td>\n",
       "      <td>-0.799940</td>\n",
       "      <td>2.483600</td>\n",
       "      <td>2.424669</td>\n",
       "      <td>0.314843</td>\n",
       "      <td>5338</td>\n",
       "    </tr>\n",
       "    <tr>\n",
       "      <th>3</th>\n",
       "      <td>-0.700543</td>\n",
       "      <td>-0.417269</td>\n",
       "      <td>-0.157749</td>\n",
       "      <td>-0.156719</td>\n",
       "      <td>-0.272545</td>\n",
       "      <td>24363</td>\n",
       "    </tr>\n",
       "    <tr>\n",
       "      <th>4</th>\n",
       "      <td>-0.006945</td>\n",
       "      <td>0.011193</td>\n",
       "      <td>-0.252671</td>\n",
       "      <td>-0.262704</td>\n",
       "      <td>2.061863</td>\n",
       "      <td>4674</td>\n",
       "    </tr>\n",
       "  </tbody>\n",
       "</table>\n",
       "</div>"
      ],
      "text/plain": [
       "         ZL        ZR        ZF        ZM        ZC  number in each cluster\n",
       "0  1.163674 -0.378364 -0.085309 -0.092995 -0.159968                   15665\n",
       "1 -0.310882  1.692700 -0.574600 -0.536472 -0.189524                   12004\n",
       "2  0.485120 -0.799940  2.483600  2.424669  0.314843                    5338\n",
       "3 -0.700543 -0.417269 -0.157749 -0.156719 -0.272545                   24363\n",
       "4 -0.006945  0.011193 -0.252671 -0.262704  2.061863                    4674"
      ]
     },
     "execution_count": 6,
     "metadata": {},
     "output_type": "execute_result"
    }
   ],
   "source": [
    "LRMFC = LRMFC_build(df)\n",
    "#LRMFC_selection(LRMFC)\n",
    "LRMFC.describe()\n",
    "LRMFC = add_info(LRMFC, df)\n",
    "[LRMFC, stat_table] = KMeans_LRMFC(LRMFC, 5)\n",
    "stat_table.head()\n",
    "#LRMFC.info()\n"
   ]
  },
  {
   "cell_type": "code",
   "execution_count": 41,
   "metadata": {},
   "outputs": [],
   "source": [
    "#描述不同会员等级的LRMFC分类\n",
    "# 堆积条形图\n",
    "def FFP_TIER_LRMFC(LRMFC, name):\n",
    "    cluster_number = 5\n",
    "    FFP4_count = freq_count(list(LRMFC[LRMFC['FFP_TIER'] == 4]['LRMFC_label']), 0, cluster_number)\n",
    "    FFP4_count = [FFP4_count[i][1] for i in range(cluster_number)]\n",
    "    FFP4_count = [round(FFP4_count[i]/sum(FFP4_count),4) for i in range(cluster_number)]\n",
    "\n",
    "    FFP5_count = freq_count(list(LRMFC[LRMFC['FFP_TIER'] == 5]['LRMFC_label']), 0, cluster_number)\n",
    "    FFP5_count = [FFP5_count[i][1] for i in range(cluster_number)]\n",
    "    FFP5_count = [round(FFP5_count[i]/sum(FFP5_count),4) for i in range(cluster_number)]\n",
    "    FFP6_count = freq_count(list(LRMFC[LRMFC['FFP_TIER'] == 6]['LRMFC_label']), 0, cluster_number)\n",
    "    FFP6_count = [FFP6_count[i][1] for i in range(cluster_number)]\n",
    "    FFP6_count = [round(FFP6_count[i]/sum(FFP6_count),4) for i in range(cluster_number)]\n",
    "    count_all = np.array([FFP4_count, FFP5_count, FFP6_count]).T\n",
    "    Bar().add_xaxis(['4','5','6']).add_yaxis('A类用户',list(count_all[0]), stack = 'stack1').add_yaxis('B类用户',\n",
    "                                                                    list(count_all[1]), stack = 'stack1').add_yaxis('C类用户',\n",
    "                                                                    list(count_all[2]), stack = 'stack1').add_yaxis('D类用户',\n",
    "                                                                    list(count_all[3]), stack = 'stack1').add_yaxis('E类用户',\n",
    "                                                                    list(count_all[4]), stack = 'stack1').set_series_opts(label_opts=opts.LabelOpts(is_show = False)).set_global_opts(title_opts = \n",
    "                    opts.TitleOpts(title = \"不同会员等级LRFMC占比\" + str(name)) , xaxis_opts = opts.AxisOpts(name = '会员等级')).render('../img/不同会员等级LRFMC分类占比' + str(name) +'.html')"
   ]
  },
  {
   "cell_type": "code",
   "execution_count": 42,
   "metadata": {},
   "outputs": [],
   "source": [
    "#不同季度飞行次数的走势图\n",
    "def flight_count_LRMFC(LRMFC, name):\n",
    "    cluster_number = 5\n",
    "    count_all = []\n",
    "    flight_count = ['FLIGHT_COUNT_QTR_' + str(i) for i in range(1,9)]\n",
    "    \n",
    "    for i in range(cluster_number):\n",
    "        count_all.append(list(LRMFC[LRMFC['LRMFC_label'] == i][flight_count].mean()))\n",
    "    print(count_all)\n",
    "    year_line = Line().add_xaxis([str(i) for i in range(1,9)]).add_yaxis('A类用户',count_all[0]).add_yaxis('B类用户', count_all[1]).add_yaxis('C类用户',count_all[2]).add_yaxis('D类用户',count_all[3]).add_yaxis('E类用户',count_all[4]).set_series_opts(label_opts=opts.LabelOpts(is_show = False)).set_global_opts(title_opts = \n",
    "                    opts.TitleOpts(title = \"LRMFC分类八季度飞行次数\" + str(name)), yaxis_opts = opts.AxisOpts(name = '平均飞行次数'), xaxis_opts = opts.AxisOpts(name = '季度')).render('../img/八季度飞行次数走势(LRMFC分类)'+ str(name) + '.html')\n",
    "\n"
   ]
  },
  {
   "cell_type": "code",
   "execution_count": 43,
   "metadata": {},
   "outputs": [],
   "source": [
    "def flight_score_LRMFC(LRMFC, name):\n",
    "    cluster_number = 5\n",
    "    count_all = []\n",
    "    season_score_list = ['BASE_POINTS_SUM_QTR_' + str(i) for i in range(1, 9)]\n",
    "    \n",
    "    for i in range(cluster_number):\n",
    "        count_all.append(list(LRMFC[LRMFC['LRMFC_label'] == i][season_score_list].mean()))\n",
    "    print(count_all)\n",
    "    year_line = Line().add_xaxis([str(i) for i in range(1,9)]).add_yaxis('A类用户',count_all[0]).add_yaxis('B类用户', count_all[1]).add_yaxis('C类用户',count_all[2]).add_yaxis('D类用户',count_all[3]).add_yaxis('E类用户',count_all[4]).set_series_opts(label_opts=opts.LabelOpts(is_show = False)).set_global_opts(title_opts = \n",
    "                    opts.TitleOpts(title = \"LRMFC分类八季度基本积分\" + str(name)), yaxis_opts = opts.AxisOpts(name = '平均基本积分'), xaxis_opts = opts.AxisOpts(name = '季度')).render('../img/八季度基本积分变化(LRMFC分类)'+ str(name) + '.html')\n"
   ]
  },
  {
   "cell_type": "code",
   "execution_count": 44,
   "metadata": {},
   "outputs": [
    {
     "name": "stdout",
     "output_type": "stream",
     "text": [
      "[[695.2347924957362, 925.8945017461219, 829.984325509624, 951.6102899374645, 967.2380410947778, 1330.8702590757737, 1094.4554941931292, 1016.7278892227727], [1063.8776210446053, 1239.2014233066463, 957.1990723090609, 946.8651035709747, 1004.0560426991993, 1374.90221120854, 1236.0203964925659, 1079.3110941669843], [5120.632752482668, 6176.595278246205, 5677.626007120105, 5436.133220910624, 6002.710886265692, 7117.888888888889, 6452.130972456436, 5677.797077009556], [892.1312205991582, 1006.7443261533383, 675.2707765948667, 522.9464388875134, 250.95130807955763, 7.199059173062639, 0.0, 0.0], [1638.015854235684, 1868.3736393752959, 1742.793421675343, 1695.2321344060576, 1727.9226218646475, 1945.9661618551822, 1773.2993374349267, 1468.784902981543]]\n"
     ]
    },
    {
     "name": "stderr",
     "output_type": "stream",
     "text": [
      "C:\\Users\\19700\\Anaconda3\\lib\\site-packages\\pyecharts\\charts\\chart.py:14: PendingDeprecationWarning: pyecharts 所有图表类型将在 v1.9.0 版本开始强制使用 ChartItem 进行数据项配置 :)\n",
      "  super().__init__(init_opts=init_opts)\n"
     ]
    }
   ],
   "source": [
    "flight_score_LRMFC(LRMFC, '总')"
   ]
  },
  {
   "cell_type": "code",
   "execution_count": 48,
   "metadata": {},
   "outputs": [],
   "source": [
    "from pyecharts import options as opts\n",
    "from pyecharts.charts import Radar, Line, Pie, Bar\n",
    "\n",
    "## 建立数据分类后的可视化模型\n",
    "def Cluster_Visualization(LRMFC, stat_table, name):\n",
    "    number = list(stat_table['number in each cluster'])\n",
    "    #雷达图\n",
    "    c_schema = [{'name':feature, \"max\": 3, \"min\": -1} for feature in list(stat_table.columns)[0:5]]\n",
    "    LRMFC_radar = Radar().add_schema(schema = c_schema, shape = 'circle').add('A类用户',[list(stat_table.iloc[0])[0:5]], \n",
    "                                                                              color = '#ff0000').add('B类用户',[list(stat_table.iloc[1])[0:5]], \n",
    "                                                                                color = '#00ff00').add('C类用户',[list(stat_table.iloc[2])[0:5]], \n",
    "                                                                                color = '#0000ff').add('D类用户',[list(stat_table.iloc[3])[0:5]], \n",
    "                                                                                color = '#CFB53B').add('E类用户',[list(stat_table.iloc[4])[0:5]], \n",
    "                                                                                color = '#db70db').set_series_opts(label_opts = opts.LabelOpts(is_show = False)).set_global_opts(title_opts=\n",
    "                                                                                opts.TitleOpts(title=\"LRMFC模型客户特征分析图\")).render(\"../img/LMRFC模型客户特征分析图（雷达）\" + name +\".html\")\n",
    "    # 折线图\n",
    "    Line().add_xaxis(list(stat_table.columns[0:5])).add_yaxis('A类用户', list(stat_table.iloc[0])[0:5],color = '#ff0000').add_yaxis('B类用户',list(stat_table.iloc[1])[0:5], \n",
    "                                                                                color = '#00ff00').add_yaxis('C类用户',list(stat_table.iloc[2])[0:5], \n",
    "                                                                                color = '#0000ff').add_yaxis('D类用户',list(stat_table.iloc[3])[0:5], \n",
    "                                                                                color = '#CFB53B').add_yaxis('E类用户',list(stat_table.iloc[4])[0:5], \n",
    "                                                                                color = '#db70db').set_series_opts(label_opts = opts.LabelOpts(is_show = False)).set_global_opts(title_opts=\n",
    "                                                                                opts.TitleOpts(title=\"LRFMC模型客户特征分析图\")).render(\"../img/LMRFC模型客户特征分析图（折线)\" + name + \".html\")\n",
    "    \n",
    "    # 扇形图\n",
    "    Pie().add(\"\", [list(z) for z in zip([s + '类用户' for s in ['A','B','C','D','E']], number)]).set_colors(['blue','green','black','red','purple']).set_global_opts(title_opts = \n",
    "                opts.TitleOpts(title = 'LRMFC模型客户人数图')).render(\"../img/LMRFC模型客户人数图\" + name + \".html\")\n",
    "    \n",
    "    #堆积条形图（如会员等级）\n",
    "    FFP_TIER_LRMFC(LRMFC, name)\n",
    "    #不同季度飞行次数的走势图\n",
    "    flight_count_LRMFC(LRMFC, name)\n",
    "    # 不同季度基本积分的走势图\n",
    "    flight_score_LRMFC(LRMFC, name)\n"
   ]
  },
  {
   "cell_type": "code",
   "execution_count": 49,
   "metadata": {},
   "outputs": [
    {
     "name": "stderr",
     "output_type": "stream",
     "text": [
      "C:\\Users\\19700\\Anaconda3\\lib\\site-packages\\pyecharts\\charts\\chart.py:14: PendingDeprecationWarning: pyecharts 所有图表类型将在 v1.9.0 版本开始强制使用 ChartItem 进行数据项配置 :)\n",
      "  super().__init__(init_opts=init_opts)\n",
      "C:\\Users\\19700\\Anaconda3\\lib\\site-packages\\pyecharts\\charts\\chart.py:14: PendingDeprecationWarning: pyecharts 所有图表类型将在 v1.9.0 版本开始强制使用 ChartItem 进行数据项配置 :)\n",
      "  super().__init__(init_opts=init_opts)\n",
      "C:\\Users\\19700\\Anaconda3\\lib\\site-packages\\pyecharts\\charts\\chart.py:14: PendingDeprecationWarning: pyecharts 所有图表类型将在 v1.9.0 版本开始强制使用 ChartItem 进行数据项配置 :)\n",
      "  super().__init__(init_opts=init_opts)\n",
      "C:\\Users\\19700\\Anaconda3\\lib\\site-packages\\pyecharts\\charts\\chart.py:14: PendingDeprecationWarning: pyecharts 所有图表类型将在 v1.9.0 版本开始强制使用 ChartItem 进行数据项配置 :)\n",
      "  super().__init__(init_opts=init_opts)\n",
      "C:\\Users\\19700\\Anaconda3\\lib\\site-packages\\pyecharts\\charts\\chart.py:14: PendingDeprecationWarning: pyecharts 所有图表类型将在 v1.9.0 版本开始强制使用 ChartItem 进行数据项配置 :)\n",
      "  super().__init__(init_opts=init_opts)\n"
     ]
    },
    {
     "name": "stdout",
     "output_type": "stream",
     "text": [
      "0         23958\n",
      "1         15170\n",
      "2         2369 \n",
      "3         12082\n",
      "4         3545 \n",
      "0         506  \n",
      "1         415  \n",
      "2         2095 \n",
      "3         15   \n",
      "4         378  \n",
      "0         162  \n",
      "1         153  \n",
      "2         873  \n",
      "3         20   \n",
      "4         303  \n",
      "[[0.8678632339803459, 1.022943230731747, 1.1024526922764557, 1.169089580118574, 1.3178754162267523, 1.532445382928612, 1.4427434418906846, 1.2449849752294324], [1.2943194815097216, 1.3616088448341594, 1.2762739865294193, 1.1519252764010675, 1.3426737831998983, 1.5136612021857923, 1.5338035328504258, 1.2716355318337782], [5.116170133033539, 5.686715383174068, 5.79445381300356, 5.369121229154956, 6.2299044406970205, 6.61663856098932, 6.578789582162264, 5.618699643994754], [1.0178261946026244, 1.0274820500123794, 0.8400594206486754, 0.6238342824131385, 0.35314021622513825, 0.009903441445902451, 0.0, 0.0], [1.0977283483199243, 1.210837671557028, 1.0811642214860389, 1.054661618551822, 1.1277804070042594, 1.2200662565073355, 1.0754850922858494, 0.8722195929957407]]\n",
      "[[695.2347924957362, 925.8945017461219, 829.984325509624, 951.6102899374645, 967.2380410947778, 1330.8702590757737, 1094.4554941931292, 1016.7278892227727], [1063.8776210446053, 1239.2014233066463, 957.1990723090609, 946.8651035709747, 1004.0560426991993, 1374.90221120854, 1236.0203964925659, 1079.3110941669843], [5120.632752482668, 6176.595278246205, 5677.626007120105, 5436.133220910624, 6002.710886265692, 7117.888888888889, 6452.130972456436, 5677.797077009556], [892.1312205991582, 1006.7443261533383, 675.2707765948667, 522.9464388875134, 250.95130807955763, 7.199059173062639, 0.0, 0.0], [1638.015854235684, 1868.3736393752959, 1742.793421675343, 1695.2321344060576, 1727.9226218646475, 1945.9661618551822, 1773.2993374349267, 1468.784902981543]]\n"
     ]
    },
    {
     "name": "stderr",
     "output_type": "stream",
     "text": [
      "C:\\Users\\19700\\Anaconda3\\lib\\site-packages\\pyecharts\\charts\\chart.py:14: PendingDeprecationWarning: pyecharts 所有图表类型将在 v1.9.0 版本开始强制使用 ChartItem 进行数据项配置 :)\n",
      "  super().__init__(init_opts=init_opts)\n"
     ]
    }
   ],
   "source": [
    "Cluster_Visualization(LRMFC, stat_table, '总')\n",
    "#df['']"
   ]
  },
  {
   "cell_type": "code",
   "execution_count": null,
   "metadata": {},
   "outputs": [],
   "source": [
    "## 客户等级识别"
   ]
  },
  {
   "cell_type": "code",
   "execution_count": 50,
   "metadata": {},
   "outputs": [
    {
     "name": "stdout",
     "output_type": "stream",
     "text": [
      "47484\n",
      "0         18525\n",
      "1         1769 \n",
      "2         1481 \n",
      "3         12359\n",
      "4         9074 \n",
      "0         460  \n",
      "1         1733 \n",
      "2         331  \n",
      "3         386  \n",
      "4         13   \n",
      "0         161  \n",
      "1         754  \n",
      "2         284  \n",
      "3         137  \n",
      "4         17   \n",
      "[[0.9418155228246109, 1.0847174344510602, 1.1695915595946935, 1.2183223649848531, 1.382899822417215, 1.580068943904732, 1.5012012953097253, 1.2790661234722658], [5.308740601503759, 5.898496240601504, 6.0319548872180455, 5.615131578947368, 6.517622180451128, 6.90671992481203, 6.822603383458647, 5.879934210526316], [1.3940839694656488, 1.4861641221374047, 1.400763358778626, 1.333969465648855, 1.465648854961832, 1.590648854961832, 1.5448473282442747, 1.3077290076335877], [1.3476168296848317, 1.423691973296072, 1.3237074988355846, 1.1886353050768514, 1.385033379909952, 1.5573668684986803, 1.596724111162863, 1.3134606427573359], [1.054591388400703, 1.0138400702987698, 0.8600615114235501, 0.6359841827768014, 0.3897188049209139, 0.02240773286467487, 0.0, 0.0]]\n",
      "[[757.0632508095686, 973.7513318708868, 894.5321738222083, 988.7628747519065, 1035.3809150736447, 1397.1448866603992, 1162.304763397054, 1051.3458163585083], [5253.577067669173, 6333.074483082707, 5786.0625, 5576.219219924812, 6176.546992481203, 7282.055216165413, 6533.119595864661, 5831.815554511279], [2342.312022900763, 2555.179389312977, 2508.1803435114502, 2374.4274809160306, 2522.352099236641, 2708.8420801526718, 2679.7609732824426, 2380.976145038168], [1107.4796615432385, 1293.0095482068002, 990.9797391709362, 966.3888371370905, 1034.9351032448378, 1411.9103400093154, 1294.935413755628, 1105.386120167676], [914.461665202109, 974.6050087873463, 700.8795035149385, 530.8687390158173, 282.9150922671353, 17.19518892794376, 0.0, 0.0]]\n"
     ]
    },
    {
     "name": "stderr",
     "output_type": "stream",
     "text": [
      "C:\\Users\\19700\\Anaconda3\\lib\\site-packages\\ipykernel_launcher.py:45: SettingWithCopyWarning: \n",
      "A value is trying to be set on a copy of a slice from a DataFrame.\n",
      "Try using .loc[row_indexer,col_indexer] = value instead\n",
      "\n",
      "See the caveats in the documentation: https://pandas.pydata.org/pandas-docs/stable/user_guide/indexing.html#returning-a-view-versus-a-copy\n",
      "C:\\Users\\19700\\Anaconda3\\lib\\site-packages\\pyecharts\\charts\\chart.py:14: PendingDeprecationWarning: pyecharts 所有图表类型将在 v1.9.0 版本开始强制使用 ChartItem 进行数据项配置 :)\n",
      "  super().__init__(init_opts=init_opts)\n",
      "C:\\Users\\19700\\Anaconda3\\lib\\site-packages\\pyecharts\\charts\\chart.py:14: PendingDeprecationWarning: pyecharts 所有图表类型将在 v1.9.0 版本开始强制使用 ChartItem 进行数据项配置 :)\n",
      "  super().__init__(init_opts=init_opts)\n",
      "C:\\Users\\19700\\Anaconda3\\lib\\site-packages\\pyecharts\\charts\\chart.py:14: PendingDeprecationWarning: pyecharts 所有图表类型将在 v1.9.0 版本开始强制使用 ChartItem 进行数据项配置 :)\n",
      "  super().__init__(init_opts=init_opts)\n",
      "C:\\Users\\19700\\Anaconda3\\lib\\site-packages\\pyecharts\\charts\\chart.py:14: PendingDeprecationWarning: pyecharts 所有图表类型将在 v1.9.0 版本开始强制使用 ChartItem 进行数据项配置 :)\n",
      "  super().__init__(init_opts=init_opts)\n",
      "C:\\Users\\19700\\Anaconda3\\lib\\site-packages\\pyecharts\\charts\\chart.py:14: PendingDeprecationWarning: pyecharts 所有图表类型将在 v1.9.0 版本开始强制使用 ChartItem 进行数据项配置 :)\n",
      "  super().__init__(init_opts=init_opts)\n",
      "C:\\Users\\19700\\Anaconda3\\lib\\site-packages\\pyecharts\\charts\\chart.py:14: PendingDeprecationWarning: pyecharts 所有图表类型将在 v1.9.0 版本开始强制使用 ChartItem 进行数据项配置 :)\n",
      "  super().__init__(init_opts=init_opts)\n"
     ]
    },
    {
     "name": "stdout",
     "output_type": "stream",
     "text": [
      "14557\n",
      "0         2562 \n",
      "1         4642 \n",
      "2         634  \n",
      "3         2988 \n",
      "4         3088 \n",
      "0         68   \n",
      "1         37   \n",
      "2         328  \n",
      "3         1    \n",
      "4         52   \n",
      "0         30   \n",
      "1         13   \n",
      "2         93   \n",
      "3         2    \n",
      "4         19   \n",
      "[[0.8447368421052631, 1.0214285714285714, 0.9218045112781955, 1.02406015037594, 1.0413533834586466, 1.2462406015037595, 0.9736842105263158, 0.8157894736842105], [0.5986786018755328, 0.763000852514919, 0.8184143222506394, 0.9224211423699915, 1.0562659846547315, 1.2410485933503836, 1.1660272804774083, 1.0466751918158568], [4.114691943127962, 4.662559241706161, 4.776303317535545, 4.346919431279621, 5.01042654028436, 5.351658767772512, 5.380094786729858, 4.5090047393364925], [0.9327983951855566, 1.0641925777331995, 0.7786693413574055, 0.558007355399532, 0.1721832163156135, 0.0, 0.0, 0.0], [1.0509654954099399, 1.1332700221589112, 1.06426084203862, 0.9987337765115543, 1.1614434947768282, 1.3019943019943019, 1.2655903767014878, 1.0534979423868314]]\n",
      "[[929.9733082706767, 1291.3045112781954, 1036.2676691729323, 1297.2657894736842, 1112.6627819548871, 1546.0830827067668, 1154.7609022556392, 1039.4842105263158], [447.01790281329926, 648.8832054560955, 553.9362745098039, 697.923273657289, 654.0102301790281, 944.8895993179881, 763.0726768968457, 757.45694799659], [4355.570616113744, 5325.712796208531, 4961.9042654028435, 4686.59336492891, 5092.111848341232, 6207.461611374408, 5707.523222748815, 4765.79336492891], [856.9160815780675, 1106.3681043129388, 639.197592778335, 491.5362754931461, 129.54831160147108, 0.0, 0.0, 0.0], [894.5618866729977, 1096.4286166508389, 849.4387464387464, 879.40329218107, 912.7040202595758, 1206.7875910098132, 1038.7910731244065, 945.4001266223488]]\n"
     ]
    },
    {
     "name": "stderr",
     "output_type": "stream",
     "text": [
      "C:\\Users\\19700\\Anaconda3\\lib\\site-packages\\ipykernel_launcher.py:45: SettingWithCopyWarning: \n",
      "A value is trying to be set on a copy of a slice from a DataFrame.\n",
      "Try using .loc[row_indexer,col_indexer] = value instead\n",
      "\n",
      "See the caveats in the documentation: https://pandas.pydata.org/pandas-docs/stable/user_guide/indexing.html#returning-a-view-versus-a-copy\n",
      "C:\\Users\\19700\\Anaconda3\\lib\\site-packages\\pyecharts\\charts\\chart.py:14: PendingDeprecationWarning: pyecharts 所有图表类型将在 v1.9.0 版本开始强制使用 ChartItem 进行数据项配置 :)\n",
      "  super().__init__(init_opts=init_opts)\n",
      "C:\\Users\\19700\\Anaconda3\\lib\\site-packages\\pyecharts\\charts\\chart.py:14: PendingDeprecationWarning: pyecharts 所有图表类型将在 v1.9.0 版本开始强制使用 ChartItem 进行数据项配置 :)\n",
      "  super().__init__(init_opts=init_opts)\n",
      "C:\\Users\\19700\\Anaconda3\\lib\\site-packages\\pyecharts\\charts\\chart.py:14: PendingDeprecationWarning: pyecharts 所有图表类型将在 v1.9.0 版本开始强制使用 ChartItem 进行数据项配置 :)\n",
      "  super().__init__(init_opts=init_opts)\n",
      "C:\\Users\\19700\\Anaconda3\\lib\\site-packages\\pyecharts\\charts\\chart.py:14: PendingDeprecationWarning: pyecharts 所有图表类型将在 v1.9.0 版本开始强制使用 ChartItem 进行数据项配置 :)\n",
      "  super().__init__(init_opts=init_opts)\n",
      "C:\\Users\\19700\\Anaconda3\\lib\\site-packages\\pyecharts\\charts\\chart.py:14: PendingDeprecationWarning: pyecharts 所有图表类型将在 v1.9.0 版本开始强制使用 ChartItem 进行数据项配置 :)\n",
      "  super().__init__(init_opts=init_opts)\n",
      "C:\\Users\\19700\\Anaconda3\\lib\\site-packages\\pyecharts\\charts\\chart.py:14: PendingDeprecationWarning: pyecharts 所有图表类型将在 v1.9.0 版本开始强制使用 ChartItem 进行数据项配置 :)\n",
      "  super().__init__(init_opts=init_opts)\n"
     ]
    }
   ],
   "source": [
    "## 分类分析方法:男女\n",
    "[LRMFC1, stat_table1] = KMeans_LRMFC(LRMFC[LRMFC['female'] == 0], 5)\n",
    "#stat_table1.head()\n",
    "Cluster_Visualization(LRMFC1, stat_table1, '男')\n",
    "\n",
    "[LRMFC2, stat_table2] = KMeans_LRMFC(LRMFC[LRMFC['female'] == 1], 5)\n",
    "#stat_table1.head()\n",
    "Cluster_Visualization(LRMFC2, stat_table2, '女')\n"
   ]
  },
  {
   "cell_type": "code",
   "execution_count": 51,
   "metadata": {},
   "outputs": [
    {
     "name": "stdout",
     "output_type": "stream",
     "text": [
      "21098\n",
      "0         4597 \n",
      "1         6980 \n",
      "2         757  \n",
      "3         4285 \n",
      "4         3376 \n",
      "0         11   \n",
      "1         220  \n",
      "2         564  \n",
      "3         4    \n",
      "4         106  \n",
      "0         1    \n",
      "1         36   \n",
      "2         143  \n",
      "3         2    \n",
      "4         16   \n",
      "[[0.38902147971360385, 0.47993057062269473, 0.5892818398784986, 0.7791277934476025, 0.8526795400303754, 0.8669993490995878, 0.7791277934476025, 0.6706443914081146], [0.8571033720287452, 1.0241846323935877, 1.107517965726921, 1.2569098949695965, 1.3706467661691542, 1.6411000552791597, 1.511746821448314, 1.3887506909894969], [4.586065573770492, 5.269808743169399, 5.363387978142076, 5.241803278688525, 6.08879781420765, 6.543032786885246, 6.28620218579235, 5.371584699453552], [1.009088790491727, 1.0731764157539034, 0.8543463062223258, 0.6641808436261943, 0.2831507807037986, 0.0030295968305756233, 0.0, 0.0], [1.1163522012578617, 1.2029731275014295, 1.1063464837049743, 1.063750714694111, 1.2278444825614636, 1.3925100057175528, 1.436249285305889, 1.2753001715265866]]\n",
      "[[237.6233456281189, 317.9937079626817, 305.5747450640052, 460.89412019960946, 395.2631807333478, 478.2401822521154, 357.40833152527665, 339.61987415925364], [737.9527363184079, 995.8822553897181, 937.2266445550027, 1150.9145936981758, 1130.1889165284688, 1574.8826699834162, 1334.106135986733, 1285.3517136539524], [4178.987704918033, 5240.039617486339, 4653.525956284153, 4659.579918032787, 5208.366120218579, 6385.39412568306, 5537.607240437159, 4858.273224043716], [878.8783500349568, 1040.0524353297599, 729.4136564903285, 644.2558844092287, 236.49825215567466, 3.3234677231414587, 0.0, 0.0], [920.4828473413379, 1099.931675242996, 869.638936535163, 910.1352201257862, 942.8413379073756, 1289.9556889651228, 1172.7238421955403, 1097.5771869639793]]\n"
     ]
    },
    {
     "name": "stderr",
     "output_type": "stream",
     "text": [
      "C:\\Users\\19700\\Anaconda3\\lib\\site-packages\\ipykernel_launcher.py:45: SettingWithCopyWarning: \n",
      "A value is trying to be set on a copy of a slice from a DataFrame.\n",
      "Try using .loc[row_indexer,col_indexer] = value instead\n",
      "\n",
      "See the caveats in the documentation: https://pandas.pydata.org/pandas-docs/stable/user_guide/indexing.html#returning-a-view-versus-a-copy\n",
      "C:\\Users\\19700\\Anaconda3\\lib\\site-packages\\pyecharts\\charts\\chart.py:14: PendingDeprecationWarning: pyecharts 所有图表类型将在 v1.9.0 版本开始强制使用 ChartItem 进行数据项配置 :)\n",
      "  super().__init__(init_opts=init_opts)\n",
      "C:\\Users\\19700\\Anaconda3\\lib\\site-packages\\pyecharts\\charts\\chart.py:14: PendingDeprecationWarning: pyecharts 所有图表类型将在 v1.9.0 版本开始强制使用 ChartItem 进行数据项配置 :)\n",
      "  super().__init__(init_opts=init_opts)\n",
      "C:\\Users\\19700\\Anaconda3\\lib\\site-packages\\pyecharts\\charts\\chart.py:14: PendingDeprecationWarning: pyecharts 所有图表类型将在 v1.9.0 版本开始强制使用 ChartItem 进行数据项配置 :)\n",
      "  super().__init__(init_opts=init_opts)\n",
      "C:\\Users\\19700\\Anaconda3\\lib\\site-packages\\pyecharts\\charts\\chart.py:14: PendingDeprecationWarning: pyecharts 所有图表类型将在 v1.9.0 版本开始强制使用 ChartItem 进行数据项配置 :)\n",
      "  super().__init__(init_opts=init_opts)\n",
      "C:\\Users\\19700\\Anaconda3\\lib\\site-packages\\pyecharts\\charts\\chart.py:14: PendingDeprecationWarning: pyecharts 所有图表类型将在 v1.9.0 版本开始强制使用 ChartItem 进行数据项配置 :)\n",
      "  super().__init__(init_opts=init_opts)\n",
      "C:\\Users\\19700\\Anaconda3\\lib\\site-packages\\pyecharts\\charts\\chart.py:14: PendingDeprecationWarning: pyecharts 所有图表类型将在 v1.9.0 版本开始强制使用 ChartItem 进行数据项配置 :)\n",
      "  super().__init__(init_opts=init_opts)\n"
     ]
    },
    {
     "name": "stdout",
     "output_type": "stream",
     "text": [
      "36429\n",
      "0         10462\n",
      "1         1242 \n",
      "2         1414 \n",
      "3         13237\n",
      "4         6636 \n",
      "0         316  \n",
      "1         277  \n",
      "2         1369 \n",
      "3         312  \n",
      "4         11   \n",
      "0         129  \n",
      "1         244  \n",
      "2         631  \n",
      "3         130  \n",
      "4         19   \n",
      "[[1.3252956816723205, 1.4000183368478958, 1.314935362611167, 1.1771339506738792, 1.3806729623177776, 1.5731181809846888, 1.5872375538644907, 1.2978820940680298], [1.368689733408962, 1.4844015882019286, 1.3596142938173568, 1.3255813953488371, 1.4293817356778218, 1.5677821894498014, 1.5683494044242767, 1.3267158252977878], [5.309021675454013, 5.893673110720562, 6.007029876977153, 5.473052138254247, 6.419449326303456, 6.812243702401875, 6.828353837141183, 5.865846514352666], [1.0304846845529645, 1.191534468893925, 1.2432195335916367, 1.2373711528620512, 1.4063893559470722, 1.5948534249579647, 1.5203596754148696, 1.2575480663791212], [1.068856885688569, 1.058955895589559, 0.8585358535853586, 0.5826582658265826, 0.3556855685568557, 0.01935193519351935, 0.0, 0.0]]\n",
      "[[1099.583295131567, 1289.1952874300907, 1001.5832034473274, 967.5586320711469, 1044.2562574493445, 1442.0669294948198, 1303.5550563858073, 1112.7756486659944], [2270.1582529778784, 2596.003403289847, 2388.4407260351672, 2317.756097560976, 2493.0623936471925, 2720.8644356211003, 2737.0209869540554, 2395.0726035167327], [5335.972466315173, 6451.932044522554, 5879.79086115993, 5578.956356180433, 6244.257469244289, 7357.2507322788515, 6762.29115407147, 5984.345049794962], [836.7542217998391, 1093.151399956137, 952.8594195482126, 1019.1083412530156, 1075.156809708312, 1445.1922655164851, 1183.7860223700563, 1059.0789531398493], [939.1488148814882, 1070.9617461746175, 713.7644764476447, 486.2209720972097, 258.5259525952595, 12.283228322832283, 0.0, 0.0]]\n"
     ]
    },
    {
     "name": "stderr",
     "output_type": "stream",
     "text": [
      "C:\\Users\\19700\\Anaconda3\\lib\\site-packages\\ipykernel_launcher.py:45: SettingWithCopyWarning: \n",
      "A value is trying to be set on a copy of a slice from a DataFrame.\n",
      "Try using .loc[row_indexer,col_indexer] = value instead\n",
      "\n",
      "See the caveats in the documentation: https://pandas.pydata.org/pandas-docs/stable/user_guide/indexing.html#returning-a-view-versus-a-copy\n",
      "C:\\Users\\19700\\Anaconda3\\lib\\site-packages\\pyecharts\\charts\\chart.py:14: PendingDeprecationWarning: pyecharts 所有图表类型将在 v1.9.0 版本开始强制使用 ChartItem 进行数据项配置 :)\n",
      "  super().__init__(init_opts=init_opts)\n",
      "C:\\Users\\19700\\Anaconda3\\lib\\site-packages\\pyecharts\\charts\\chart.py:14: PendingDeprecationWarning: pyecharts 所有图表类型将在 v1.9.0 版本开始强制使用 ChartItem 进行数据项配置 :)\n",
      "  super().__init__(init_opts=init_opts)\n",
      "C:\\Users\\19700\\Anaconda3\\lib\\site-packages\\pyecharts\\charts\\chart.py:14: PendingDeprecationWarning: pyecharts 所有图表类型将在 v1.9.0 版本开始强制使用 ChartItem 进行数据项配置 :)\n",
      "  super().__init__(init_opts=init_opts)\n",
      "C:\\Users\\19700\\Anaconda3\\lib\\site-packages\\pyecharts\\charts\\chart.py:14: PendingDeprecationWarning: pyecharts 所有图表类型将在 v1.9.0 版本开始强制使用 ChartItem 进行数据项配置 :)\n",
      "  super().__init__(init_opts=init_opts)\n",
      "C:\\Users\\19700\\Anaconda3\\lib\\site-packages\\pyecharts\\charts\\chart.py:14: PendingDeprecationWarning: pyecharts 所有图表类型将在 v1.9.0 版本开始强制使用 ChartItem 进行数据项配置 :)\n",
      "  super().__init__(init_opts=init_opts)\n",
      "C:\\Users\\19700\\Anaconda3\\lib\\site-packages\\pyecharts\\charts\\chart.py:14: PendingDeprecationWarning: pyecharts 所有图表类型将在 v1.9.0 版本开始强制使用 ChartItem 进行数据项配置 :)\n",
      "  super().__init__(init_opts=init_opts)\n"
     ]
    },
    {
     "name": "stdout",
     "output_type": "stream",
     "text": [
      "4074\n",
      "0         1163 \n",
      "1         805  \n",
      "2         267  \n",
      "3         1346 \n",
      "4         135  \n",
      "0         23   \n",
      "1         0    \n",
      "2         62   \n",
      "3         23   \n",
      "4         100  \n",
      "0         16   \n",
      "1         1    \n",
      "2         55   \n",
      "3         11   \n",
      "4         67   \n",
      "[[1.01414309484193, 1.153910149750416, 1.20216306156406, 1.1747088186356074, 1.3910149750415974, 1.4683860232945092, 1.321963394342762, 1.0823627287853577], [1.1166253101736974, 0.9962779156327544, 0.7344913151364765, 0.46774193548387094, 0.21339950372208435, 0.0037220843672456576, 0.0, 0.0], [1.7291666666666667, 1.625, 1.609375, 1.3307291666666667, 1.5833333333333333, 1.7161458333333333, 1.4817708333333333, 1.1666666666666667], [1.3898550724637682, 1.432608695652174, 1.2652173913043478, 1.1456521739130434, 1.2789855072463767, 1.3797101449275362, 1.373913043478261, 1.0746376811594203], [5.509933774834437, 5.791390728476821, 6.2052980132450335, 5.5, 5.986754966887418, 6.175496688741722, 6.211920529801325, 5.066225165562914]]\n",
      "[[945.5865224625624, 1154.2603993344426, 1079.4276206322795, 1103.0382695507487, 1182.2420965058236, 1455.085690515807, 1165.6663893510815, 966.7895174708818], [1231.0521091811415, 1063.3225806451612, 659.0942928039702, 495.075682382134, 193.6017369727047, 2.764267990074442, 0.0, 0.0], [3098.6484375, 2988.90625, 2975.9010416666665, 2600.3125, 2656.5520833333335, 3087.8619791666665, 2489.2473958333335, 2144.0494791666665], [1134.7942028985508, 1315.8463768115942, 926.7891304347826, 950.9420289855072, 964.1688405797101, 1237.2304347826087, 1107.3579710144927, 906.6985507246377], [6948.003311258278, 7508.228476821192, 7970.009933774834, 7290.08940397351, 7308.7086092715235, 8196.73178807947, 7172.069536423841, 5874.688741721854]]\n"
     ]
    },
    {
     "name": "stderr",
     "output_type": "stream",
     "text": [
      "C:\\Users\\19700\\Anaconda3\\lib\\site-packages\\ipykernel_launcher.py:45: SettingWithCopyWarning: \n",
      "A value is trying to be set on a copy of a slice from a DataFrame.\n",
      "Try using .loc[row_indexer,col_indexer] = value instead\n",
      "\n",
      "See the caveats in the documentation: https://pandas.pydata.org/pandas-docs/stable/user_guide/indexing.html#returning-a-view-versus-a-copy\n",
      "C:\\Users\\19700\\Anaconda3\\lib\\site-packages\\pyecharts\\charts\\chart.py:14: PendingDeprecationWarning: pyecharts 所有图表类型将在 v1.9.0 版本开始强制使用 ChartItem 进行数据项配置 :)\n",
      "  super().__init__(init_opts=init_opts)\n",
      "C:\\Users\\19700\\Anaconda3\\lib\\site-packages\\pyecharts\\charts\\chart.py:14: PendingDeprecationWarning: pyecharts 所有图表类型将在 v1.9.0 版本开始强制使用 ChartItem 进行数据项配置 :)\n",
      "  super().__init__(init_opts=init_opts)\n",
      "C:\\Users\\19700\\Anaconda3\\lib\\site-packages\\pyecharts\\charts\\chart.py:14: PendingDeprecationWarning: pyecharts 所有图表类型将在 v1.9.0 版本开始强制使用 ChartItem 进行数据项配置 :)\n",
      "  super().__init__(init_opts=init_opts)\n",
      "C:\\Users\\19700\\Anaconda3\\lib\\site-packages\\pyecharts\\charts\\chart.py:14: PendingDeprecationWarning: pyecharts 所有图表类型将在 v1.9.0 版本开始强制使用 ChartItem 进行数据项配置 :)\n",
      "  super().__init__(init_opts=init_opts)\n",
      "C:\\Users\\19700\\Anaconda3\\lib\\site-packages\\pyecharts\\charts\\chart.py:14: PendingDeprecationWarning: pyecharts 所有图表类型将在 v1.9.0 版本开始强制使用 ChartItem 进行数据项配置 :)\n",
      "  super().__init__(init_opts=init_opts)\n",
      "C:\\Users\\19700\\Anaconda3\\lib\\site-packages\\pyecharts\\charts\\chart.py:14: PendingDeprecationWarning: pyecharts 所有图表类型将在 v1.9.0 版本开始强制使用 ChartItem 进行数据项配置 :)\n",
      "  super().__init__(init_opts=init_opts)\n"
     ]
    }
   ],
   "source": [
    "## 分类分析方法：年龄\n",
    "## 我们用age_label =1 or 2表示年轻人，34表示青壮年，567表示老年；\n",
    "rule1 = (LRMFC['age'] == 1)\n",
    "rule2 = (LRMFC['age'] == 2)\n",
    "[LRMFC1, stat_table1] = KMeans_LRMFC(LRMFC[rule1 | rule2], 5)\n",
    "#stat_table1.head()\n",
    "Cluster_Visualization(LRMFC1, stat_table1, '少')\n",
    "\n",
    "rule1 = (LRMFC['age'] == 3)\n",
    "rule2 = (LRMFC['age'] == 4)\n",
    "[LRMFC2, stat_table2] = KMeans_LRMFC(LRMFC[rule1 | rule2], 5)\n",
    "#stat_table1.head()\n",
    "Cluster_Visualization(LRMFC2, stat_table2, '壮')\n",
    "\n",
    "rule1 = (LRMFC['age'] == 5)\n",
    "rule2 = (LRMFC['age'] == 6)\n",
    "rule3 = (LRMFC['age'] == 7)\n",
    "[LRMFC3, stat_table3] = KMeans_LRMFC(LRMFC[rule1 | rule2 | rule3], 5)\n",
    "#stat_table1.head()\n",
    "Cluster_Visualization(LRMFC3, stat_table3, '老')\n"
   ]
  },
  {
   "cell_type": "code",
   "execution_count": 7,
   "metadata": {},
   "outputs": [],
   "source": [
    "## 客户流失分析\n",
    "flight_value = LRMFC[['ZL','ZR','ZF','ZM','ZC','LRMFC_label']]\n",
    "\n",
    "df_all = pd.concat([df, flight_value], axis = 1)"
   ]
  },
  {
   "cell_type": "code",
   "execution_count": 8,
   "metadata": {},
   "outputs": [],
   "source": [
    "import matplotlib\n",
    "import matplotlib.pyplot as plt\n",
    "import seaborn as sns\n",
    "from sklearn.model_selection import train_test_split\n",
    "from sklearn.ensemble import RandomForestClassifier, GradientBoostingClassifier\n",
    "from sklearn.svm import SVC\n",
    "from sklearn.neural_network import MLPClassifier\n",
    "from sklearn import metrics\n",
    "from xgboost import XGBClassifier,plot_importance\n",
    "\n",
    "\n",
    "font1 = matplotlib.font_manager.FontProperties(fname = 'C:\\Windows\\Fonts\\simhei.ttf')\n",
    "\n",
    "#客户流失模型\n",
    "class loss_model:\n",
    "    def __init__(self, df_all):\n",
    "        self.df_all = df_all\n",
    "        self.retain_rate = []\n",
    "        self.compute_retain_rate()\n",
    "    def compute_retain_rate(self):\n",
    "        for z in zip(df_all['P1Y_Flight_Count'],df_all['L1Y_Flight_Count']):\n",
    "            if z[0] == 0 and z[1] > 0:\n",
    "                self.retain_rate.append(1)\n",
    "            elif z[0] == 0 and z[1] == 0:\n",
    "                self.retain_rate.append(0)\n",
    "            else:\n",
    "                self.retain_rate.append(z[1]/z[0])\n",
    "        #print(retain_rate)\n",
    "    def label_type(self, type_name):\n",
    "        retain_label = []\n",
    "        self.type_name = type_name\n",
    "        if type_name == 1:\n",
    "            for value in self.retain_rate:\n",
    "                if value >= 0.5:\n",
    "                    retain_label.append(0)\n",
    "                else:\n",
    "                    retain_label.append(1)\n",
    "            freq_count(retain_label, 0, 2)\n",
    "        elif type_name == 2:\n",
    "            for value in self.retain_rate:\n",
    "                if value >= 0.9:\n",
    "                    retain_label.append(0)\n",
    "                elif value >= 0.5:\n",
    "                    retain_label.append(1)\n",
    "                else:\n",
    "                    retain_label.append(2)\n",
    "            freq_count(retain_label, 0, 3)\n",
    "        self.df_all['retain_label'] = pd.Series(retain_label)\n",
    "        self.df_select = self.df_all\n",
    "\n",
    "    #标识对老客户的选择\n",
    "    def old_customer_choice(self, threshold):\n",
    "        self.df_select = self.df_all[self.df_all['FLIGHT_COUNT'] > threshold]\n",
    "        freq_count(list(self.df_select['retain_label']), 0, self.type_name + 1)\n",
    "    def dataset_split(self, predict_variable):\n",
    "        #计算单位里程票价和单位里程积分两个属性\n",
    "        expense = np.array(list(self.df_select['EXPENSE_SUM_YR_1'])) + np.array(list(self.df_select['EXPENSE_SUM_YR_2']))\n",
    "        km_sum = np.array(list(self.df_select['SEG_KM_SUM']))\n",
    "        self.df_select['EXP_PER_KM'] = pd.Series(list(expense/km_sum))\n",
    "        score = np.array(list(self.df_select['P1Y_Flight_Count'])) + np.array(list(self.df_select['L1Y_Flight_Count']))\n",
    "        self.df_select['SCORE_PER_KM'] = pd.Series(list(score/km_sum))\n",
    "        \n",
    "        # 模型数据集选择\n",
    "        self.xlabel = ['FFP_TIER','flight_count_label','BASE_POINTS_SUM','ZL','ZR','ZF','ZM','ZC','ELITE_POINTS_SUM','ADD_POINTS_SUM',\n",
    "           'AVG_FLIGHT_INTERVAL','MAX_FLIGHT_INTERVAL','Point_Chg_NotFlight','EXCHANGE_COUNT','EXP_PER_KM', 'SCORE_PER_KM']\n",
    "        self.ylabel = [predict_variable]\n",
    "        df_x = self.df_select[self.xlabel]\n",
    "        df_x = (df_x - df_x.mean(axis = 0))/ df_x.std(axis = 0)\n",
    "        df_y = self.df_select[self.ylabel]\n",
    "        self.train_X, self.test_X, self.train_y, self.test_y = train_test_split(df_x, df_y, test_size = 0.2, random_state = 1)\n",
    "        self.train_X = self.train_X.fillna(0)\n",
    "        self.test_X = self.test_X.fillna(0)\n",
    "    def evaluation(self,model_name, predict_test):\n",
    "        \n",
    "        if self.ylabel == ['retain_label']:\n",
    "            var_name = '客户流失模型('\n",
    "        if self.ylabel == ['LRMFC_label']:\n",
    "            var_name = '客户价值模型('\n",
    "            \n",
    "        print(\"对于\" + model_name)\n",
    "        #confusion matrix\n",
    "        C = metrics.confusion_matrix(self.test_y, predict_test)\n",
    "        plt.figure(figsize = (10, 6))\n",
    "        sns.heatmap(C, annot = True)\n",
    "        \n",
    "        plt.savefig('../img/'+ var_name + model_name + str(self.type_name) + ')混淆矩阵.jpg', dpi  = 1000)\n",
    "        if self.type_name == 1:\n",
    "            \n",
    "            #roc curve\n",
    "            fpr, tpr, threshold = metrics.roc_curve(self.test_y, predict_test)\n",
    "            roc_auc = metrics.auc(fpr, tpr)\n",
    "            plt.figure()\n",
    "            plt.figure(figsize = (10,10))\n",
    "            plt.plot(fpr, tpr, color = 'darkorange', lw = 2, linestyle = '--')\n",
    "            plt.xlim([0.0,1.0])\n",
    "            plt.ylim([0.0,1.05])\n",
    "            plt.xlabel('假阳率',fontproperties = font1)\n",
    "            plt.ylabel('真阳率',fontproperties = font1)\n",
    "            plt.title('客户流失模型(' + model_name + ')',fontproperties = font1)\n",
    "            plt.savefig('../img/'+ var_name + model_name + ')ROC.jpg', dpi = 500)\n",
    "      \n",
    "    def randomforest_train(self):\n",
    "        rf = RandomForestClassifier()\n",
    "        rf.fit(self.train_X, self.train_y)\n",
    "        rf_predict_train = rf.predict(self.train_X)\n",
    "        print(\"============================\\n使用随机森林模型：\")\n",
    "        print('训练集的准确率:', metrics.accuracy_score(rf_predict_train, self.train_y))\n",
    "        rf_predict_test = rf.predict(self.test_X)\n",
    "        print('测试集的准确率', metrics.accuracy_score(rf_predict_test, self.test_y))\n",
    "        \n",
    "        # extract the importance\n",
    "        importance = rf.feature_importances_\n",
    "        df_importance = pd.DataFrame({'column_name': self.xlabel, 'importance': importance})\n",
    "        df_importance = df_importance.sort_values(by=['importance'], ascending=False, axis=0)\n",
    "        print(df_importance.head(10))\n",
    "        self.evaluation('随机森林', rf_predict_test)\n",
    "        \n",
    "    def gbdt_train(self):\n",
    "        clf = GradientBoostingClassifier()\n",
    "        clf.fit(self.train_X, self.train_y)\n",
    "        \n",
    "        clf_predict_train = clf.predict(self.train_X)\n",
    "        print(\"============================\\n使用梯度提升树模型：\")\n",
    "        print('训练集的准确率:', metrics.accuracy_score(clf_predict_train, self.train_y))\n",
    "        clf_predict_test = clf.predict(self.test_X)\n",
    "        print('测试集的准确率', metrics.accuracy_score(clf_predict_test, self.test_y))\n",
    "        \n",
    "         # extract the importance\n",
    "        importance = clf.feature_importances_\n",
    "        df_importance = pd.DataFrame({'column_name': self.xlabel, 'importance': importance})\n",
    "        df_importance = df_importance.sort_values(by=['importance'], ascending=False, axis=0)\n",
    "        print(df_importance.head(10))\n",
    "        \n",
    "        self.evaluation('梯度提升树', clf_predict_test)\n",
    "        \n",
    "    def MLP_train(self):\n",
    "        mlp = MLPClassifier(activation='relu', hidden_layer_sizes = [50], max_iter = 2000)\n",
    "        mlp.fit(self.train_X, self.train_y)\n",
    "        mlp_predict_train = mlp.predict(self.train_X)\n",
    "        print(\"============================\\n使用多层感知机模型：\")\n",
    "        print('训练集的准确率:', metrics.accuracy_score(mlp_predict_train, self.train_y))\n",
    "        mlp_predict_test = mlp.predict(self.test_X)\n",
    "        print('测试集的准确率', metrics.accuracy_score(mlp_predict_test, self.test_y))\n",
    "        self.evaluation('多层感知机', mlp_predict_test)\n",
    "        \n",
    "    def XGBoost_train(self):\n",
    "        xgbc = XGBClassifier()\n",
    "        xgbc.fit(self.train_X, self.train_y)\n",
    "        xgb_predict_train = xgbc.predict(self.train_X)\n",
    "        print(\"============================\\n使用XGboost模型：\")\n",
    "    \n",
    "        print('训练集的准确率:', metrics.accuracy_score(xgb_predict_train, self.train_y))\n",
    "        xgb_predict_test = xgbc.predict(self.test_X)\n",
    "        print('测试集的准确率', metrics.accuracy_score(xgb_predict_test, self.test_y))\n",
    "        self.evaluation('多层感知机', xgb_predict_test)\n",
    "        plot_importance(xgbc)\n",
    "        plt.show()\n",
    "        self.evaluation('XGboost', xgb_predict_test)"
   ]
  },
  {
   "cell_type": "code",
   "execution_count": 31,
   "metadata": {},
   "outputs": [
    {
     "name": "stderr",
     "output_type": "stream",
     "text": [
      "C:\\Users\\19700\\Anaconda3\\lib\\site-packages\\ipykernel_launcher.py:48: DeprecationWarning: The default dtype for empty Series will be 'object' instead of 'float64' in a future version. Specify a dtype explicitly to silence this warning.\n",
      "C:\\Users\\19700\\Anaconda3\\lib\\site-packages\\ipykernel_launcher.py:104: DataConversionWarning: A column-vector y was passed when a 1d array was expected. Please change the shape of y to (n_samples,), for example using ravel().\n"
     ]
    },
    {
     "name": "stdout",
     "output_type": "stream",
     "text": [
      "============================\n",
      "使用随机森林模型：\n",
      "训练集的准确率: 0.9993149994963232\n",
      "测试集的准确率 0.9835603191232171\n",
      "            column_name  importance\n",
      "3                    ZL    0.345275\n",
      "4                    ZR    0.323354\n",
      "7                    ZC    0.111006\n",
      "6                    ZM    0.079014\n",
      "5                    ZF    0.073322\n",
      "2       BASE_POINTS_SUM    0.023992\n",
      "11  MAX_FLIGHT_INTERVAL    0.014287\n",
      "14           EXP_PER_KM    0.009495\n",
      "1    flight_count_label    0.007130\n",
      "10  AVG_FLIGHT_INTERVAL    0.005380\n",
      "对于随机森林\n"
     ]
    },
    {
     "name": "stderr",
     "output_type": "stream",
     "text": [
      "C:\\Users\\19700\\AppData\\Roaming\\Python\\Python37\\site-packages\\sklearn\\ensemble\\_gb.py:1454: DataConversionWarning: A column-vector y was passed when a 1d array was expected. Please change the shape of y to (n_samples, ), for example using ravel().\n",
      "  y = column_or_1d(y, warn=True)\n"
     ]
    },
    {
     "name": "stdout",
     "output_type": "stream",
     "text": [
      "============================\n",
      "使用梯度提升树模型：\n",
      "训练集的准确率: 0.9946005842651355\n",
      "测试集的准确率 0.9875896526714482\n",
      "            column_name  importance\n",
      "4                    ZR    0.375797\n",
      "3                    ZL    0.321837\n",
      "5                    ZF    0.112942\n",
      "7                    ZC    0.098512\n",
      "6                    ZM    0.049935\n",
      "2       BASE_POINTS_SUM    0.039228\n",
      "10  AVG_FLIGHT_INTERVAL    0.001107\n",
      "1    flight_count_label    0.000421\n",
      "14           EXP_PER_KM    0.000076\n",
      "15         SCORE_PER_KM    0.000061\n",
      "对于梯度提升树\n"
     ]
    },
    {
     "name": "stderr",
     "output_type": "stream",
     "text": [
      "C:\\Users\\19700\\AppData\\Roaming\\Python\\Python37\\site-packages\\sklearn\\neural_network\\_multilayer_perceptron.py:934: DataConversionWarning: A column-vector y was passed when a 1d array was expected. Please change the shape of y to (n_samples, ), for example using ravel().\n",
      "  y = column_or_1d(y, warn=True)\n"
     ]
    },
    {
     "name": "stdout",
     "output_type": "stream",
     "text": [
      "============================\n",
      "使用多层感知机模型：\n",
      "训练集的准确率: 0.9984285282562708\n",
      "测试集的准确率 0.9948424530582641\n",
      "对于多层感知机\n"
     ]
    },
    {
     "name": "stderr",
     "output_type": "stream",
     "text": [
      "C:\\Users\\19700\\AppData\\Roaming\\Python\\Python37\\site-packages\\sklearn\\preprocessing\\_label.py:235: DataConversionWarning: A column-vector y was passed when a 1d array was expected. Please change the shape of y to (n_samples, ), for example using ravel().\n",
      "  y = column_or_1d(y, warn=True)\n",
      "C:\\Users\\19700\\AppData\\Roaming\\Python\\Python37\\site-packages\\sklearn\\preprocessing\\_label.py:268: DataConversionWarning: A column-vector y was passed when a 1d array was expected. Please change the shape of y to (n_samples, ), for example using ravel().\n",
      "  y = column_or_1d(y, warn=True)\n"
     ]
    },
    {
     "name": "stdout",
     "output_type": "stream",
     "text": [
      "============================\n",
      "使用XGboost模型：\n",
      "训练集的准确率: 0.9905711695376247\n",
      "测试集的准确率 0.9845273591747925\n",
      "对于多层感知机\n"
     ]
    },
    {
     "data": {
      "image/png": "[encoded data removed]",
      "text/plain": [
       "<Figure size 720x432 with 2 Axes>"
      ]
     },
     "metadata": {
      "needs_background": "light"
     },
     "output_type": "display_data"
    },
    {
     "data": {
      "image/png": "[encoded data removed]",
      "text/plain": [
       "<Figure size 720x432 with 2 Axes>"
      ]
     },
     "metadata": {
      "needs_background": "light"
     },
     "output_type": "display_data"
    },
    {
     "data": {
      "image/png": "[encoded data removed]",
      "text/plain": [
       "<Figure size 720x432 with 2 Axes>"
      ]
     },
     "metadata": {
      "needs_background": "light"
     },
     "output_type": "display_data"
    },
    {
     "data": {
      "image/png": "[encoded data removed]",
      "text/plain": [
       "<Figure size 720x432 with 2 Axes>"
      ]
     },
     "metadata": {
      "needs_background": "light"
     },
     "output_type": "display_data"
    },
    {
     "data": {
      "image/png": "[encoded data removed]",
      "text/plain": [
       "<Figure size 432x288 with 1 Axes>"
      ]
     },
     "metadata": {
      "needs_background": "light"
     },
     "output_type": "display_data"
    },
    {
     "name": "stdout",
     "output_type": "stream",
     "text": [
      "对于XGboost\n"
     ]
    },
    {
     "data": {
      "image/png": "[encoded data removed]",
      "text/plain": [
       "<Figure size 720x432 with 2 Axes>"
      ]
     },
     "metadata": {
      "needs_background": "light"
     },
     "output_type": "display_data"
    }
   ],
   "source": [
    "#建立客户价值模型\n",
    "Value_model = loss_model(df_all)\n",
    "Value_model.label_type(5)\n",
    "Value_model.dataset_split('LRMFC_label')\n",
    "Value_model.randomforest_train()\n",
    "Value_model.gbdt_train()\n",
    "Value_model.MLP_train()\n",
    "Value_model.XGBoost_train()"
   ]
  },
  {
   "cell_type": "code",
   "execution_count": 24,
   "metadata": {},
   "outputs": [
    {
     "name": "stdout",
     "output_type": "stream",
     "text": [
      "0         44505\n",
      "1         17539\n"
     ]
    },
    {
     "name": "stderr",
     "output_type": "stream",
     "text": [
      "C:\\Users\\19700\\Anaconda3\\lib\\site-packages\\ipykernel_launcher.py:58: SettingWithCopyWarning: \n",
      "A value is trying to be set on a copy of a slice from a DataFrame.\n",
      "Try using .loc[row_indexer,col_indexer] = value instead\n",
      "\n",
      "See the caveats in the documentation: https://pandas.pydata.org/pandas-docs/stable/user_guide/indexing.html#returning-a-view-versus-a-copy\n",
      "C:\\Users\\19700\\Anaconda3\\lib\\site-packages\\ipykernel_launcher.py:60: SettingWithCopyWarning: \n",
      "A value is trying to be set on a copy of a slice from a DataFrame.\n",
      "Try using .loc[row_indexer,col_indexer] = value instead\n",
      "\n",
      "See the caveats in the documentation: https://pandas.pydata.org/pandas-docs/stable/user_guide/indexing.html#returning-a-view-versus-a-copy\n",
      "C:\\Users\\19700\\Anaconda3\\lib\\site-packages\\ipykernel_launcher.py:103: DataConversionWarning: A column-vector y was passed when a 1d array was expected. Please change the shape of y to (n_samples,), for example using ravel().\n"
     ]
    },
    {
     "name": "stdout",
     "output_type": "stream",
     "text": [
      "============================\n",
      "使用随机森林模型：\n",
      "训练集的准确率: 0.985836020267158\n",
      "测试集的准确率 0.8592046675879011\n",
      "            column_name  importance\n",
      "4                    ZR    0.359941\n",
      "11  MAX_FLIGHT_INTERVAL    0.106594\n",
      "3                    ZL    0.076977\n",
      "10  AVG_FLIGHT_INTERVAL    0.070923\n",
      "7                    ZC    0.068955\n",
      "6                    ZM    0.063950\n",
      "2       BASE_POINTS_SUM    0.059593\n",
      "5                    ZF    0.044686\n",
      "15         SCORE_PER_KM    0.044680\n",
      "14           EXP_PER_KM    0.040797\n",
      "对于随机森林\n"
     ]
    },
    {
     "name": "stderr",
     "output_type": "stream",
     "text": [
      "C:\\Users\\19700\\AppData\\Roaming\\Python\\Python37\\site-packages\\sklearn\\ensemble\\_gb.py:1454: DataConversionWarning: A column-vector y was passed when a 1d array was expected. Please change the shape of y to (n_samples, ), for example using ravel().\n",
      "  y = column_or_1d(y, warn=True)\n"
     ]
    },
    {
     "name": "stdout",
     "output_type": "stream",
     "text": [
      "============================\n",
      "使用梯度提升树模型：\n",
      "训练集的准确率: 0.868532166436358\n",
      "测试集的准确率 0.8701059419622293\n",
      "            column_name  importance\n",
      "4                    ZR    0.764530\n",
      "11  MAX_FLIGHT_INTERVAL    0.122585\n",
      "5                    ZF    0.047245\n",
      "3                    ZL    0.029569\n",
      "10  AVG_FLIGHT_INTERVAL    0.009597\n",
      "7                    ZC    0.009455\n",
      "14           EXP_PER_KM    0.003035\n",
      "12  Point_Chg_NotFlight    0.002988\n",
      "9        ADD_POINTS_SUM    0.002450\n",
      "15         SCORE_PER_KM    0.001996\n",
      "对于梯度提升树\n"
     ]
    },
    {
     "name": "stderr",
     "output_type": "stream",
     "text": [
      "C:\\Users\\19700\\AppData\\Roaming\\Python\\Python37\\site-packages\\sklearn\\neural_network\\_multilayer_perceptron.py:934: DataConversionWarning: A column-vector y was passed when a 1d array was expected. Please change the shape of y to (n_samples, ), for example using ravel().\n",
      "  y = column_or_1d(y, warn=True)\n"
     ]
    },
    {
     "name": "stdout",
     "output_type": "stream",
     "text": [
      "============================\n",
      "使用多层感知机模型：\n",
      "训练集的准确率: 0.8730999539382773\n",
      "测试集的准确率 0.8616612927990174\n",
      "对于多层感知机\n"
     ]
    },
    {
     "name": "stderr",
     "output_type": "stream",
     "text": [
      "C:\\Users\\19700\\AppData\\Roaming\\Python\\Python37\\site-packages\\sklearn\\preprocessing\\_label.py:235: DataConversionWarning: A column-vector y was passed when a 1d array was expected. Please change the shape of y to (n_samples, ), for example using ravel().\n",
      "  y = column_or_1d(y, warn=True)\n",
      "C:\\Users\\19700\\AppData\\Roaming\\Python\\Python37\\site-packages\\sklearn\\preprocessing\\_label.py:268: DataConversionWarning: A column-vector y was passed when a 1d array was expected. Please change the shape of y to (n_samples, ), for example using ravel().\n",
      "  y = column_or_1d(y, warn=True)\n"
     ]
    },
    {
     "name": "stdout",
     "output_type": "stream",
     "text": [
      "============================\n",
      "使用XGboost模型：\n",
      "训练集的准确率: 0.8644633809304468\n",
      "测试集的准确率 0.8697988638108398\n",
      "对于多层感知机\n"
     ]
    },
    {
     "data": {
      "image/png": "[encoded data removed]",
      "text/plain": [
       "<Figure size 720x432 with 2 Axes>"
      ]
     },
     "metadata": {
      "needs_background": "light"
     },
     "output_type": "display_data"
    },
    {
     "data": {
      "text/plain": [
       "<Figure size 432x288 with 0 Axes>"
      ]
     },
     "metadata": {},
     "output_type": "display_data"
    },
    {
     "data": {
      "image/png": "[encoded data removed]",
      "text/plain": [
       "<Figure size 720x720 with 1 Axes>"
      ]
     },
     "metadata": {
      "needs_background": "light"
     },
     "output_type": "display_data"
    },
    {
     "data": {
      "image/png": "[encoded data removed]",
      "text/plain": [
       "<Figure size 720x432 with 2 Axes>"
      ]
     },
     "metadata": {
      "needs_background": "light"
     },
     "output_type": "display_data"
    },
    {
     "data": {
      "text/plain": [
       "<Figure size 432x288 with 0 Axes>"
      ]
     },
     "metadata": {},
     "output_type": "display_data"
    },
    {
     "data": {
      "image/png": "[encoded data removed]",
      "text/plain": [
       "<Figure size 720x720 with 1 Axes>"
      ]
     },
     "metadata": {
      "needs_background": "light"
     },
     "output_type": "display_data"
    },
    {
     "data": {
      "image/png": "[encoded data removed]",
      "text/plain": [
       "<Figure size 720x432 with 2 Axes>"
      ]
     },
     "metadata": {
      "needs_background": "light"
     },
     "output_type": "display_data"
    },
    {
     "data": {
      "text/plain": [
       "<Figure size 432x288 with 0 Axes>"
      ]
     },
     "metadata": {},
     "output_type": "display_data"
    },
    {
     "data": {
      "image/png": "[encoded data removed]",
      "text/plain": [
       "<Figure size 720x720 with 1 Axes>"
      ]
     },
     "metadata": {
      "needs_background": "light"
     },
     "output_type": "display_data"
    },
    {
     "data": {
      "image/png": "[encoded data removed]",
      "text/plain": [
       "<Figure size 720x432 with 2 Axes>"
      ]
     },
     "metadata": {
      "needs_background": "light"
     },
     "output_type": "display_data"
    },
    {
     "data": {
      "text/plain": [
       "<Figure size 432x288 with 0 Axes>"
      ]
     },
     "metadata": {},
     "output_type": "display_data"
    },
    {
     "data": {
      "image/png": "[encoded data removed]",
      "text/plain": [
       "<Figure size 720x720 with 1 Axes>"
      ]
     },
     "metadata": {
      "needs_background": "light"
     },
     "output_type": "display_data"
    },
    {
     "data": {
      "image/png": "[encoded data removed]",
      "text/plain": [
       "<Figure size 432x288 with 1 Axes>"
      ]
     },
     "metadata": {
      "needs_background": "light"
     },
     "output_type": "display_data"
    },
    {
     "name": "stdout",
     "output_type": "stream",
     "text": [
      "对于XGboost\n"
     ]
    },
    {
     "data": {
      "image/png": "[encoded data removed]",
      "text/plain": [
       "<Figure size 720x432 with 2 Axes>"
      ]
     },
     "metadata": {
      "needs_background": "light"
     },
     "output_type": "display_data"
    },
    {
     "data": {
      "text/plain": [
       "<Figure size 432x288 with 0 Axes>"
      ]
     },
     "metadata": {},
     "output_type": "display_data"
    },
    {
     "data": {
      "image/png": "[encoded data removed]",
      "text/plain": [
       "<Figure size 720x720 with 1 Axes>"
      ]
     },
     "metadata": {
      "needs_background": "light"
     },
     "output_type": "display_data"
    }
   ],
   "source": [
    "#建立客户流失模型\n",
    "Loss_model = loss_model(df_all)\n",
    "Loss_model.label_type(1)\n",
    "Loss_model.old_customer_choice(6)\n",
    "Loss_model.dataset_split('retain_label')\n",
    "Loss_model.randomforest_train()\n",
    "Loss_model.gbdt_train()\n",
    "Loss_model.MLP_train()\n",
    "Loss_model.XGBoost_train()"
   ]
  },
  {
   "cell_type": "code",
   "execution_count": 9,
   "metadata": {},
   "outputs": [
    {
     "name": "stdout",
     "output_type": "stream",
     "text": [
      "0         34349\n",
      "1         10156\n",
      "2         17539\n",
      "0         18688\n",
      "1         7253 \n",
      "2         6624 \n"
     ]
    }
   ],
   "source": [
    "Loss_model = loss_model(df_all)\n",
    "Loss_model.label_type(2)\n",
    "Loss_model.old_customer_choice(6)"
   ]
  },
  {
   "cell_type": "code",
   "execution_count": 32,
   "metadata": {},
   "outputs": [
    {
     "name": "stdout",
     "output_type": "stream",
     "text": [
      "0         34349\n",
      "1         10156\n",
      "2         17539\n"
     ]
    },
    {
     "name": "stderr",
     "output_type": "stream",
     "text": [
      "C:\\Users\\19700\\Anaconda3\\lib\\site-packages\\ipykernel_launcher.py:59: SettingWithCopyWarning: \n",
      "A value is trying to be set on a copy of a slice from a DataFrame.\n",
      "Try using .loc[row_indexer,col_indexer] = value instead\n",
      "\n",
      "See the caveats in the documentation: https://pandas.pydata.org/pandas-docs/stable/user_guide/indexing.html#returning-a-view-versus-a-copy\n",
      "C:\\Users\\19700\\Anaconda3\\lib\\site-packages\\ipykernel_launcher.py:61: SettingWithCopyWarning: \n",
      "A value is trying to be set on a copy of a slice from a DataFrame.\n",
      "Try using .loc[row_indexer,col_indexer] = value instead\n",
      "\n",
      "See the caveats in the documentation: https://pandas.pydata.org/pandas-docs/stable/user_guide/indexing.html#returning-a-view-versus-a-copy\n",
      "C:\\Users\\19700\\Anaconda3\\lib\\site-packages\\ipykernel_launcher.py:104: DataConversionWarning: A column-vector y was passed when a 1d array was expected. Please change the shape of y to (n_samples,), for example using ravel().\n"
     ]
    },
    {
     "name": "stdout",
     "output_type": "stream",
     "text": [
      "============================\n",
      "使用随机森林模型：\n",
      "训练集的准确率: 0.981728849992323\n",
      "测试集的准确率 0.6448641179180101\n",
      "            column_name  importance\n",
      "4                    ZR    0.226532\n",
      "3                    ZL    0.108872\n",
      "11  MAX_FLIGHT_INTERVAL    0.104920\n",
      "10  AVG_FLIGHT_INTERVAL    0.093235\n",
      "7                    ZC    0.081898\n",
      "2       BASE_POINTS_SUM    0.073190\n",
      "6                    ZM    0.070554\n",
      "5                    ZF    0.056746\n",
      "14           EXP_PER_KM    0.048057\n",
      "15         SCORE_PER_KM    0.047069\n",
      "对于随机森林\n"
     ]
    },
    {
     "name": "stderr",
     "output_type": "stream",
     "text": [
      "C:\\Users\\19700\\AppData\\Roaming\\Python\\Python37\\site-packages\\sklearn\\ensemble\\_gb.py:1454: DataConversionWarning: A column-vector y was passed when a 1d array was expected. Please change the shape of y to (n_samples, ), for example using ravel().\n",
      "  y = column_or_1d(y, warn=True)\n"
     ]
    },
    {
     "name": "stdout",
     "output_type": "stream",
     "text": [
      "============================\n",
      "使用梯度提升树模型：\n",
      "训练集的准确率: 0.686511592200215\n",
      "测试集的准确率 0.672347612467373\n",
      "            column_name  importance\n",
      "4                    ZR    0.594302\n",
      "5                    ZF    0.095212\n",
      "3                    ZL    0.090486\n",
      "11  MAX_FLIGHT_INTERVAL    0.089600\n",
      "10  AVG_FLIGHT_INTERVAL    0.054118\n",
      "8      ELITE_POINTS_SUM    0.021007\n",
      "7                    ZC    0.013297\n",
      "0              FFP_TIER    0.011133\n",
      "12  Point_Chg_NotFlight    0.005559\n",
      "2       BASE_POINTS_SUM    0.004680\n",
      "对于梯度提升树\n"
     ]
    },
    {
     "name": "stderr",
     "output_type": "stream",
     "text": [
      "C:\\Users\\19700\\AppData\\Roaming\\Python\\Python37\\site-packages\\sklearn\\neural_network\\_multilayer_perceptron.py:934: DataConversionWarning: A column-vector y was passed when a 1d array was expected. Please change the shape of y to (n_samples, ), for example using ravel().\n",
      "  y = column_or_1d(y, warn=True)\n"
     ]
    },
    {
     "name": "stdout",
     "output_type": "stream",
     "text": [
      "============================\n",
      "使用多层感知机模型：\n",
      "训练集的准确率: 0.686127744510978\n",
      "测试集的准确率 0.6771073238139106\n",
      "对于多层感知机\n"
     ]
    },
    {
     "name": "stderr",
     "output_type": "stream",
     "text": [
      "C:\\Users\\19700\\AppData\\Roaming\\Python\\Python37\\site-packages\\sklearn\\preprocessing\\_label.py:235: DataConversionWarning: A column-vector y was passed when a 1d array was expected. Please change the shape of y to (n_samples, ), for example using ravel().\n",
      "  y = column_or_1d(y, warn=True)\n",
      "C:\\Users\\19700\\AppData\\Roaming\\Python\\Python37\\site-packages\\sklearn\\preprocessing\\_label.py:268: DataConversionWarning: A column-vector y was passed when a 1d array was expected. Please change the shape of y to (n_samples, ), for example using ravel().\n",
      "  y = column_or_1d(y, warn=True)\n"
     ]
    },
    {
     "name": "stdout",
     "output_type": "stream",
     "text": [
      "============================\n",
      "使用XGboost模型：\n",
      "训练集的准确率: 0.6731920773836941\n",
      "测试集的准确率 0.6717334561645939\n",
      "对于多层感知机\n"
     ]
    },
    {
     "data": {
      "image/png": "[encoded data removed]",
      "text/plain": [
       "<Figure size 720x432 with 2 Axes>"
      ]
     },
     "metadata": {
      "needs_background": "light"
     },
     "output_type": "display_data"
    },
    {
     "data": {
      "image/png": "[encoded data removed]",
      "text/plain": [
       "<Figure size 720x432 with 2 Axes>"
      ]
     },
     "metadata": {
      "needs_background": "light"
     },
     "output_type": "display_data"
    },
    {
     "data": {
      "image/png": "[encoded data removed]",
      "text/plain": [
       "<Figure size 720x432 with 2 Axes>"
      ]
     },
     "metadata": {
      "needs_background": "light"
     },
     "output_type": "display_data"
    },
    {
     "data": {
      "image/png": "[encoded data removed]",
      "text/plain": [
       "<Figure size 720x432 with 2 Axes>"
      ]
     },
     "metadata": {
      "needs_background": "light"
     },
     "output_type": "display_data"
    },
    {
     "data": {
      "image/png": "[encoded data removed]",
      "text/plain": [
       "<Figure size 432x288 with 1 Axes>"
      ]
     },
     "metadata": {
      "needs_background": "light"
     },
     "output_type": "display_data"
    },
    {
     "name": "stdout",
     "output_type": "stream",
     "text": [
      "对于XGboost\n"
     ]
    },
    {
     "data": {
      "image/png": "[encoded data removed]",
      "text/plain": [
       "<Figure size 720x432 with 2 Axes>"
      ]
     },
     "metadata": {
      "needs_background": "light"
     },
     "output_type": "display_data"
    }
   ],
   "source": [
    "#建立多分类的客户流失模型\n",
    "Loss_model1 = loss_model(df_all)\n",
    "Loss_model1.label_type(2)\n",
    "Loss_model1.old_customer_choice(6)\n",
    "Loss_model1.dataset_split('retain_label')\n",
    "Loss_model1.randomforest_train()\n",
    "Loss_model1.gbdt_train()\n",
    "Loss_model1.MLP_train()\n",
    "Loss_model1.XGBoost_train()"
   ]
  },
  {
   "cell_type": "code",
   "execution_count": null,
   "metadata": {},
   "outputs": [],
   "source": []
  }
 ],
 "metadata": {
  "kernelspec": {
   "display_name": "Python 3",
   "language": "python",
   "name": "python3"
  },
  "language_info": {
   "codemirror_mode": {
    "name": "ipython",
    "version": 3
   },
   "file_extension": ".py",
   "mimetype": "text/x-python",
   "name": "python",
   "nbconvert_exporter": "python",
   "pygments_lexer": "ipython3",
   "version": "3.7.1"
  }
 },
 "nbformat": 4,
 "nbformat_minor": 2
}
